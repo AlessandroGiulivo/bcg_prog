{
 "cells": [
  {
   "cell_type": "markdown",
   "id": "afebe452",
   "metadata": {},
   "source": [
    "## This is an example"
   ]
  },
  {
   "cell_type": "code",
   "execution_count": 70,
   "id": "f388ae22",
   "metadata": {},
   "outputs": [
    {
     "name": "stdout",
     "output_type": "stream",
     "text": [
      "x: [True/False]\n",
      "true\n",
      "y: [True/False]\n",
      "false\n",
      "z: [True/False]\n",
      "false\n"
     ]
    }
   ],
   "source": [
    "x = input(\"x: [True/False]\\n\")\n",
    "if x.lower() == \"true\":\n",
    "    x = True\n",
    "elif x.lower() == \"false\":\n",
    "    x = False\n",
    "else: print(\"Wrong input\")\n",
    "    \n",
    "y = input(\"y: [True/False]\\n\")\n",
    "if y.lower() == \"true\":\n",
    "    y = True\n",
    "elif y.lower() == \"false\":\n",
    "    y = False\n",
    "else: print(\"Wrong input\")\n",
    "    \n",
    "z = input(\"z: [True/False]\\n\")\n",
    "if z.lower() == \"true\":\n",
    "    z = True\n",
    "elif z.lower() == \"false\":\n",
    "    z = False\n",
    "else: print(\"Wrong input\")"
   ]
  },
  {
   "cell_type": "code",
   "execution_count": 71,
   "id": "eb198239",
   "metadata": {},
   "outputs": [],
   "source": [
    "Formula = not x and y and not z or x and y"
   ]
  },
  {
   "cell_type": "code",
   "execution_count": 72,
   "id": "aa9c7972",
   "metadata": {},
   "outputs": [
    {
     "name": "stdout",
     "output_type": "stream",
     "text": [
      "\n",
      "The Formula is False\n"
     ]
    }
   ],
   "source": [
    "print(\"\\nThe Formula is\", Formula)"
   ]
  },
  {
   "cell_type": "code",
   "execution_count": null,
   "id": "3b67e8fd",
   "metadata": {},
   "outputs": [],
   "source": []
  }
 ],
 "metadata": {
  "kernelspec": {
   "display_name": "Python 3 (ipykernel)",
   "language": "python",
   "name": "python3"
  },
  "language_info": {
   "codemirror_mode": {
    "name": "ipython",
    "version": 3
   },
   "file_extension": ".py",
   "mimetype": "text/x-python",
   "name": "python",
   "nbconvert_exporter": "python",
   "pygments_lexer": "ipython3",
   "version": "3.10.6"
  }
 },
 "nbformat": 4,
 "nbformat_minor": 5
}

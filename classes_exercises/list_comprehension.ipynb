{
 "cells": [
  {
   "cell_type": "code",
   "execution_count": 1,
   "id": "c7a183cb",
   "metadata": {},
   "outputs": [
    {
     "name": "stdout",
     "output_type": "stream",
     "text": [
      "[0, 2, 4, 6, 8, 10, 12, 14, 16, 18]\n"
     ]
    }
   ],
   "source": [
    "mylist = []\n",
    "for i in range(10):\n",
    "    mylist.append(i * 2)\n",
    "print(mylist)"
   ]
  },
  {
   "cell_type": "markdown",
   "id": "c4acfadb",
   "metadata": {},
   "source": [
    "# List Comprehension"
   ]
  },
  {
   "cell_type": "code",
   "execution_count": 2,
   "id": "8567a5e4",
   "metadata": {},
   "outputs": [
    {
     "name": "stdout",
     "output_type": "stream",
     "text": [
      "[0, 4, 8, 12, 16]\n"
     ]
    }
   ],
   "source": [
    "mylist = [i*2 for i in range(10) if i % 2 == 0]\n",
    "print(mylist)"
   ]
  },
  {
   "cell_type": "code",
   "execution_count": 3,
   "id": "a54462bc",
   "metadata": {},
   "outputs": [
    {
     "name": "stdout",
     "output_type": "stream",
     "text": [
      "['ax', 'ay', 'az', 'bx', 'by', 'bz']\n"
     ]
    }
   ],
   "source": [
    "cross = [(a + b).lower() for a in [\"A\", \"B\"] for b in [\"X\", \"Y\", \"Z\"]]\n",
    "print(cross)"
   ]
  },
  {
   "cell_type": "code",
   "execution_count": 4,
   "id": "cfc3bd91",
   "metadata": {},
   "outputs": [
    {
     "name": "stdout",
     "output_type": "stream",
     "text": [
      "[0, 3, 4, 9, 8, 15, 12, 21, 16, 27]\n"
     ]
    }
   ],
   "source": [
    "mylist = [i*2 if i % 2 == 0 else i*3 for i in range(10)]\n",
    "print(mylist)"
   ]
  },
  {
   "cell_type": "code",
   "execution_count": 5,
   "id": "1fa72d03",
   "metadata": {},
   "outputs": [
    {
     "name": "stdout",
     "output_type": "stream",
     "text": [
      "[12, 18, 24]\n"
     ]
    }
   ],
   "source": [
    "vec = [2, 4, 6, 8]\n",
    "result = [3 * x for x in vec if x > 2]\n",
    "print(result)"
   ]
  },
  {
   "cell_type": "code",
   "execution_count": 6,
   "id": "f6722101",
   "metadata": {},
   "outputs": [
    {
     "name": "stdout",
     "output_type": "stream",
     "text": [
      "[(2, 4), (4, 16), (6, 36), (8, 64)]\n"
     ]
    }
   ],
   "source": [
    "result = [(x, x**2) for x in vec]\n",
    "print(result)"
   ]
  },
  {
   "cell_type": "markdown",
   "id": "781fc037",
   "metadata": {},
   "source": [
    "## List comprehension vs High Order Functions"
   ]
  },
  {
   "cell_type": "markdown",
   "id": "d4d296cf",
   "metadata": {},
   "source": [
    "#### Map function"
   ]
  },
  {
   "cell_type": "code",
   "execution_count": 7,
   "id": "02d05870",
   "metadata": {},
   "outputs": [
    {
     "name": "stdout",
     "output_type": "stream",
     "text": [
      "[0, 2, 4, 6, 8, 10, 12, 14, 16, 18]\n"
     ]
    }
   ],
   "source": [
    "def double(n):\n",
    "    return n*2\n",
    "\n",
    "l = [double(i) for i in range(10)]\n",
    "print(l)"
   ]
  },
  {
   "cell_type": "code",
   "execution_count": 8,
   "id": "6543cdff",
   "metadata": {},
   "outputs": [
    {
     "name": "stdout",
     "output_type": "stream",
     "text": [
      "[0, 2, 4, 6, 8, 10, 12, 14, 16, 18]\n"
     ]
    }
   ],
   "source": [
    "print(list(map(double, range(10))))"
   ]
  },
  {
   "cell_type": "markdown",
   "id": "41aa6786",
   "metadata": {},
   "source": [
    "#### Filter Function"
   ]
  },
  {
   "cell_type": "code",
   "execution_count": 9,
   "id": "89e456fb",
   "metadata": {},
   "outputs": [
    {
     "name": "stdout",
     "output_type": "stream",
     "text": [
      "[0, 2, 4, 6, 8]\n"
     ]
    }
   ],
   "source": [
    "def even(n):\n",
    "    return n % 2 == 0\n",
    "l = list(filter(even, range(10)))\n",
    "print(l)"
   ]
  },
  {
   "cell_type": "code",
   "execution_count": 10,
   "id": "96960668",
   "metadata": {},
   "outputs": [
    {
     "name": "stdout",
     "output_type": "stream",
     "text": [
      "[0, 2, 4, 6, 8]\n"
     ]
    }
   ],
   "source": [
    "l = [i for i in range(10) if even(i)]\n",
    "print(l)"
   ]
  },
  {
   "cell_type": "markdown",
   "id": "f6ed96bc",
   "metadata": {},
   "source": [
    "### Exercises"
   ]
  },
  {
   "cell_type": "markdown",
   "id": "1de5537d",
   "metadata": {},
   "source": [
    "1. Create a list of all powers to the $3^{rd}$ of even numbers lower than 20"
   ]
  },
  {
   "cell_type": "markdown",
   "id": "c8e5a94b",
   "metadata": {},
   "source": [
    "* **Usual**"
   ]
  },
  {
   "cell_type": "code",
   "execution_count": 11,
   "id": "3b0f65e9",
   "metadata": {},
   "outputs": [
    {
     "name": "stdout",
     "output_type": "stream",
     "text": [
      "[0, 8, 64, 216, 512, 1000, 1728, 2744, 4096, 5832]\n"
     ]
    }
   ],
   "source": [
    "l1 = []\n",
    "for n in range(20):\n",
    "    if n % 2 == 0:\n",
    "        l1.append(n**3)\n",
    "print(l1)"
   ]
  },
  {
   "cell_type": "markdown",
   "id": "a02da75f",
   "metadata": {},
   "source": [
    "* **List comprehension**"
   ]
  },
  {
   "cell_type": "code",
   "execution_count": 12,
   "id": "506d0126",
   "metadata": {},
   "outputs": [
    {
     "name": "stdout",
     "output_type": "stream",
     "text": [
      "[0, 8, 64, 216, 512, 1000, 1728, 2744, 4096, 5832]\n"
     ]
    }
   ],
   "source": [
    "l2 = [i**3 for i in range(20) if i % 2 == 0]\n",
    "print(l2)"
   ]
  },
  {
   "cell_type": "markdown",
   "id": "60dc247a",
   "metadata": {},
   "source": [
    "* **High order functions *(map, filter)***"
   ]
  },
  {
   "cell_type": "code",
   "execution_count": 13,
   "id": "787d41f3",
   "metadata": {},
   "outputs": [
    {
     "name": "stdout",
     "output_type": "stream",
     "text": [
      "[0, 8, 64, 216, 512, 1000, 1728, 2744, 4096, 5832]\n"
     ]
    }
   ],
   "source": [
    "def even(n):\n",
    "    return n % 2 == 0\n",
    "\n",
    "def pow3(n):\n",
    "    return n**3\n",
    "\n",
    "l3 = list(map(pow3, list(filter(even, range(20)))))\n",
    "print(l3)"
   ]
  },
  {
   "cell_type": "markdown",
   "id": "c6bb3b8f",
   "metadata": {},
   "source": [
    "* **Lambda functions**"
   ]
  },
  {
   "cell_type": "code",
   "execution_count": 14,
   "id": "ae58e5a3",
   "metadata": {},
   "outputs": [
    {
     "name": "stdout",
     "output_type": "stream",
     "text": [
      "[0, 8, 64, 216, 512, 1000, 1728, 2744, 4096, 5832]\n"
     ]
    }
   ],
   "source": [
    "l4 = list(map(lambda x: x**3, list(filter(lambda x: x % 2 == 0, range(20)))))\n",
    "print(l4)"
   ]
  },
  {
   "cell_type": "markdown",
   "id": "02bbd592",
   "metadata": {},
   "source": [
    "2. Create a list of all prime numbers lower than 100"
   ]
  },
  {
   "cell_type": "markdown",
   "id": "a6428c72",
   "metadata": {},
   "source": [
    "* **Usual**"
   ]
  },
  {
   "cell_type": "code",
   "execution_count": 19,
   "id": "5346fe5f",
   "metadata": {},
   "outputs": [
    {
     "name": "stdout",
     "output_type": "stream",
     "text": [
      "[0, 1, 2, 3, 4, 5, 7, 11, 13, 17, 19, 23, 29, 31, 37, 41, 43, 47, 53, 59, 61, 67, 71, 73, 79, 83, 89, 97]\n"
     ]
    }
   ],
   "source": [
    "# building a function that solves the primality test\n",
    "def  is_prime(n):\n",
    "    prime = True\n",
    "    for i in range(2, n//2):\n",
    "        if n % i == 0:\n",
    "             return False\n",
    "    return prime\n",
    "            \n",
    "# filtering the list\n",
    "primes100 = []\n",
    "for i in range(100):\n",
    "    if is_prime(i):\n",
    "        primes100.append(i)\n",
    "print(primes100)"
   ]
  },
  {
   "cell_type": "markdown",
   "id": "2e42461e",
   "metadata": {},
   "source": [
    "* **List comprehension**"
   ]
  },
  {
   "cell_type": "code",
   "execution_count": 20,
   "id": "31b113ff",
   "metadata": {},
   "outputs": [
    {
     "name": "stdout",
     "output_type": "stream",
     "text": [
      "[0, 1, 2, 3, 4, 5, 7, 11, 13, 17, 19, 23, 29, 31, 37, 41, 43, 47, 53, 59, 61, 67, 71, 73, 79, 83, 89, 97]\n"
     ]
    }
   ],
   "source": [
    "# building a function that solves the primality test\n",
    "def is_prime(n):\n",
    "    L = len([i for i in range(2, n//2) if n % i == 0])\n",
    "    return True if L == 0 else False\n",
    "\n",
    "# filtering the list\n",
    "primes100 = [i for i in range(100) if is_prime(i)]\n",
    "print(primes100)"
   ]
  },
  {
   "cell_type": "markdown",
   "id": "d0246e27",
   "metadata": {},
   "source": [
    "* **High order functions and lambda functions**"
   ]
  },
  {
   "cell_type": "code",
   "execution_count": 21,
   "id": "770828c4",
   "metadata": {},
   "outputs": [
    {
     "name": "stdout",
     "output_type": "stream",
     "text": [
      "[0, 1, 2, 3, 4, 5, 7, 11, 13, 17, 19, 23, 29, 31, 37, 41, 43, 47, 53, 59, 61, 67, 71, 73, 79, 83, 89, 97]\n"
     ]
    }
   ],
   "source": [
    "# building a function that solves the primality test\n",
    "def is_prime(n):\n",
    "    L = len(list(filter(lambda x: n % x == 0, range(2, n//2))))\n",
    "    return True if L == 0 else False\n",
    "\n",
    "# filtering the list\n",
    "primes100 = list(filter(is_prime, range(100)))\n",
    "print(primes100)"
   ]
  },
  {
   "cell_type": "markdown",
   "id": "5fefecc0",
   "metadata": {},
   "source": [
    "{[(;)]}"
   ]
  },
  {
   "cell_type": "markdown",
   "id": "42d063df",
   "metadata": {},
   "source": [
    "## Dictionary comprehension"
   ]
  },
  {
   "cell_type": "markdown",
   "id": "7a2c33b8",
   "metadata": {},
   "source": [
    "newdict = {K:V for k, v in existingdicttionary.items()}"
   ]
  },
  {
   "cell_type": "code",
   "execution_count": 25,
   "id": "0db6a220",
   "metadata": {},
   "outputs": [
    {
     "name": "stdout",
     "output_type": "stream",
     "text": [
      "There: 5\n",
      "will: 4\n",
      "be: 2\n",
      "time: 4\n"
     ]
    }
   ],
   "source": [
    "sentence = 'There will be time'\n",
    "words = sentence.split()\n",
    "words_len = {word: len(word) for word in words}\n",
    "for k, v in words_len.items():\n",
    "    print(f'{k}: {v}')"
   ]
  },
  {
   "cell_type": "code",
   "execution_count": 27,
   "id": "a6ef654c",
   "metadata": {},
   "outputs": [
    {
     "name": "stdout",
     "output_type": "stream",
     "text": [
      "Anna BERNASCONI\n",
      "Tommaso ALFONSI\n"
     ]
    }
   ],
   "source": [
    "students = {\"Anna\": 'Bernasconi',\n",
    "           \"Tommaso\": 'Alfonsi'}\n",
    "\n",
    "d = {k: v.upper() for k, v in students.items()}\n",
    "for k, v in d.items():\n",
    "    print(f'{k} {v}')"
   ]
  },
  {
   "cell_type": "markdown",
   "id": "7391c0cf",
   "metadata": {},
   "source": [
    "## Set comprehension"
   ]
  },
  {
   "cell_type": "markdown",
   "id": "f3fb4899",
   "metadata": {},
   "source": [
    "new_set = {expr(elem) for element in existing_collection"
   ]
  },
  {
   "cell_type": "code",
   "execution_count": 30,
   "id": "8c11c3f5",
   "metadata": {},
   "outputs": [
    {
     "name": "stdout",
     "output_type": "stream",
     "text": [
      "[2, 4, 5]\n"
     ]
    }
   ],
   "source": [
    "len_list = list({v for k, v in words_len.items()})    # words_len from dictionary comprehension\n",
    "print(len_list)"
   ]
  },
  {
   "cell_type": "markdown",
   "id": "18e97065",
   "metadata": {},
   "source": [
    "<br><br><br><br><br><br>"
   ]
  },
  {
   "cell_type": "markdown",
   "id": "7b1250f3",
   "metadata": {},
   "source": [
    "### Random Module"
   ]
  },
  {
   "cell_type": "code",
   "execution_count": 45,
   "id": "17087384",
   "metadata": {},
   "outputs": [],
   "source": [
    "import random as r"
   ]
  },
  {
   "cell_type": "code",
   "execution_count": 38,
   "id": "8ba11bc8",
   "metadata": {},
   "outputs": [
    {
     "data": {
      "text/plain": [
       "0.8328401882499404"
      ]
     },
     "execution_count": 38,
     "metadata": {},
     "output_type": "execute_result"
    }
   ],
   "source": [
    "r.random() # random float between 0 and 1"
   ]
  },
  {
   "cell_type": "code",
   "execution_count": 52,
   "id": "34f09eb8",
   "metadata": {},
   "outputs": [
    {
     "data": {
      "text/plain": [
       "56"
      ]
     },
     "execution_count": 52,
     "metadata": {},
     "output_type": "execute_result"
    }
   ],
   "source": [
    "start = 50\n",
    "stop = 100\n",
    "r.randint(start, stop) # random number between start and stop"
   ]
  },
  {
   "cell_type": "code",
   "execution_count": 51,
   "id": "bb65242e",
   "metadata": {},
   "outputs": [
    {
     "data": {
      "text/plain": [
       "98"
      ]
     },
     "execution_count": 51,
     "metadata": {},
     "output_type": "execute_result"
    }
   ],
   "source": [
    "step = 2\n",
    "r.randrange(start, stop, step) # random number in range (start, stop, step)"
   ]
  },
  {
   "cell_type": "code",
   "execution_count": 50,
   "id": "d5a6b68b",
   "metadata": {},
   "outputs": [
    {
     "data": {
      "text/plain": [
       "'g'"
      ]
     },
     "execution_count": 50,
     "metadata": {},
     "output_type": "execute_result"
    }
   ],
   "source": [
    "bases = 'actg'\n",
    "rbase = bases[random.randint(0, 3)]\n",
    "rbase"
   ]
  },
  {
   "cell_type": "code",
   "execution_count": null,
   "id": "607fc35d",
   "metadata": {},
   "outputs": [],
   "source": [
    "# random.choices(population)"
   ]
  }
 ],
 "metadata": {
  "kernelspec": {
   "display_name": "Python 3 (ipykernel)",
   "language": "python",
   "name": "python3"
  },
  "language_info": {
   "codemirror_mode": {
    "name": "ipython",
    "version": 3
   },
   "file_extension": ".py",
   "mimetype": "text/x-python",
   "name": "python",
   "nbconvert_exporter": "python",
   "pygments_lexer": "ipython3",
   "version": "3.10.6"
  }
 },
 "nbformat": 4,
 "nbformat_minor": 5
}

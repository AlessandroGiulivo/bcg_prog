{
 "cells": [
  {
   "cell_type": "markdown",
   "id": "d586211c",
   "metadata": {},
   "source": [
    "# STRINGS\n",
    "<BR>"
   ]
  },
  {
   "cell_type": "code",
   "execution_count": 10,
   "id": "95ac95c7",
   "metadata": {},
   "outputs": [],
   "source": [
    "s = '   anna '"
   ]
  },
  {
   "cell_type": "code",
   "execution_count": 11,
   "id": "3dd34caa",
   "metadata": {},
   "outputs": [
    {
     "data": {
      "text/plain": [
       "'anna'"
      ]
     },
     "execution_count": 11,
     "metadata": {},
     "output_type": "execute_result"
    }
   ],
   "source": [
    "s.strip()"
   ]
  },
  {
   "cell_type": "code",
   "execution_count": 12,
   "id": "dddede86",
   "metadata": {},
   "outputs": [
    {
     "data": {
      "text/plain": [
       "'anna '"
      ]
     },
     "execution_count": 12,
     "metadata": {},
     "output_type": "execute_result"
    }
   ],
   "source": [
    "s.lstrip()"
   ]
  },
  {
   "cell_type": "code",
   "execution_count": 13,
   "id": "9507e9c7",
   "metadata": {},
   "outputs": [
    {
     "data": {
      "text/plain": [
       "'   anna'"
      ]
     },
     "execution_count": 13,
     "metadata": {},
     "output_type": "execute_result"
    }
   ],
   "source": [
    "s.rstrip()"
   ]
  },
  {
   "cell_type": "code",
   "execution_count": 19,
   "id": "5e193a32",
   "metadata": {},
   "outputs": [],
   "source": [
    "s = 'My cat is brown'"
   ]
  },
  {
   "cell_type": "code",
   "execution_count": 22,
   "id": "38b56a00",
   "metadata": {},
   "outputs": [],
   "source": [
    "l = s.split()"
   ]
  },
  {
   "cell_type": "code",
   "execution_count": 25,
   "id": "aa3b80f5",
   "metadata": {},
   "outputs": [
    {
     "data": {
      "text/plain": [
       "'My dot cat dot is dot brown'"
      ]
     },
     "execution_count": 25,
     "metadata": {},
     "output_type": "execute_result"
    }
   ],
   "source": [
    "' dot '. join(l)"
   ]
  },
  {
   "cell_type": "code",
   "execution_count": 28,
   "id": "9770ac74",
   "metadata": {},
   "outputs": [
    {
     "data": {
      "text/plain": [
       "10"
      ]
     },
     "execution_count": 28,
     "metadata": {},
     "output_type": "execute_result"
    }
   ],
   "source": [
    "s.index('b')"
   ]
  },
  {
   "cell_type": "code",
   "execution_count": 29,
   "id": "213063b7",
   "metadata": {},
   "outputs": [
    {
     "data": {
      "text/plain": [
       "'My dog is brown'"
      ]
     },
     "execution_count": 29,
     "metadata": {},
     "output_type": "execute_result"
    }
   ],
   "source": [
    "s.replace('cat', 'dog')"
   ]
  },
  {
   "cell_type": "code",
   "execution_count": 30,
   "id": "15550f82",
   "metadata": {},
   "outputs": [
    {
     "data": {
      "text/plain": [
       "1"
      ]
     },
     "execution_count": 30,
     "metadata": {},
     "output_type": "execute_result"
    }
   ],
   "source": [
    "s.count('n')"
   ]
  },
  {
   "cell_type": "code",
   "execution_count": 31,
   "id": "98f81d6e",
   "metadata": {},
   "outputs": [
    {
     "data": {
      "text/plain": [
       "True"
      ]
     },
     "execution_count": 31,
     "metadata": {},
     "output_type": "execute_result"
    }
   ],
   "source": [
    "s.lower().startswith('m')"
   ]
  },
  {
   "cell_type": "markdown",
   "id": "37c5689c",
   "metadata": {},
   "source": [
    "## Exercises\n",
    "<br>"
   ]
  },
  {
   "cell_type": "code",
   "execution_count": 33,
   "id": "30e546d9",
   "metadata": {},
   "outputs": [
    {
     "name": "stdout",
     "output_type": "stream",
     "text": [
      "Please, insert a sentence: anna\n",
      "Palindrome!\n"
     ]
    }
   ],
   "source": [
    "s = input('Please, insert a sentence: ')\n",
    "\n",
    "if s == s[::-1]:\n",
    "    print('Palindrome!')\n",
    "else:\n",
    "    print('Not palindrome')"
   ]
  },
  {
   "cell_type": "markdown",
   "id": "b89d4348",
   "metadata": {},
   "source": [
    "<br>"
   ]
  },
  {
   "cell_type": "code",
   "execution_count": 35,
   "id": "36dc495d",
   "metadata": {},
   "outputs": [
    {
     "name": "stdout",
     "output_type": "stream",
     "text": [
      "orange orange orange orange orange orange orange orange orange orange \n",
      "orange                                                         orange\n",
      "orange                                                         orange\n",
      "orange orange orange orange orange orange orange orange orange orange \n"
     ]
    }
   ],
   "source": [
    "color = 'orange'\n",
    "\n",
    "first_last_row = (color + ' ')*10\n",
    "middle_rows = color + ' ' + 8*(len(color) + 1)*' ' + color\n",
    "\n",
    "print(first_last_row)\n",
    "print(middle_rows)\n",
    "print(middle_rows)\n",
    "print(first_last_row)"
   ]
  },
  {
   "cell_type": "markdown",
   "id": "f04f3110",
   "metadata": {},
   "source": [
    "<br>"
   ]
  },
  {
   "cell_type": "markdown",
   "id": "2f17f64d",
   "metadata": {},
   "source": [
    "## Find all the indexes of a given string inside another string"
   ]
  },
  {
   "cell_type": "code",
   "execution_count": 40,
   "id": "72faebee",
   "metadata": {},
   "outputs": [
    {
     "name": "stdout",
     "output_type": "stream",
     "text": [
      "3\n",
      "62\n",
      "-1\n"
     ]
    }
   ],
   "source": [
    "input_text = \"\"\"In Programming and Databases's class,\n",
    "we will learn all about programming and databases\"\"\"\n",
    "\n",
    "tofind = 'programming'\n",
    "\n",
    "index = 0\n",
    "while index <= len(input_text) and index != -1:\n",
    "    index = input_text.lower().find(tofind, index + len())\n",
    "    print(index)"
   ]
  },
  {
   "cell_type": "code",
   "execution_count": 37,
   "id": "4e3669c9",
   "metadata": {},
   "outputs": [
    {
     "name": "stdout",
     "output_type": "stream",
     "text": [
      "Help on built-in function find:\n",
      "\n",
      "find(...) method of builtins.str instance\n",
      "    S.find(sub[, start[, end]]) -> int\n",
      "    \n",
      "    Return the lowest index in S where substring sub is found,\n",
      "    such that sub is contained within S[start:end].  Optional\n",
      "    arguments start and end are interpreted as in slice notation.\n",
      "    \n",
      "    Return -1 on failure.\n",
      "\n"
     ]
    }
   ],
   "source": [
    "help(s.find)"
   ]
  }
 ],
 "metadata": {
  "kernelspec": {
   "display_name": "Python 3 (ipykernel)",
   "language": "python",
   "name": "python3"
  },
  "language_info": {
   "codemirror_mode": {
    "name": "ipython",
    "version": 3
   },
   "file_extension": ".py",
   "mimetype": "text/x-python",
   "name": "python",
   "nbconvert_exporter": "python",
   "pygments_lexer": "ipython3",
   "version": "3.10.6"
  }
 },
 "nbformat": 4,
 "nbformat_minor": 5
}

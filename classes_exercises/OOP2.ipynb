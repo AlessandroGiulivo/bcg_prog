{
 "cells": [
  {
   "cell_type": "markdown",
   "id": "5861f0f5",
   "metadata": {},
   "source": [
    "# Object Oriented Programming 2"
   ]
  },
  {
   "cell_type": "code",
   "execution_count": 10,
   "id": "2e56a16e",
   "metadata": {},
   "outputs": [
    {
     "name": "stdout",
     "output_type": "stream",
     "text": [
      "Bob\n",
      "Felix Catus\n"
     ]
    }
   ],
   "source": [
    "class Cat:\n",
    "    \n",
    "    # ATTRIBUTES\n",
    "    species = 'Felix Catus'\n",
    "    \n",
    "    # METHODS\n",
    "    def __init__ (self, name):\n",
    "        self.name = name\n",
    "\n",
    "\n",
    "C1 = Cat('Bob')\n",
    "print(C1.name)\n",
    "print(C1.species)"
   ]
  },
  {
   "cell_type": "markdown",
   "id": "ce693acb",
   "metadata": {},
   "source": [
    "## Implementing and using Classes"
   ]
  },
  {
   "cell_type": "code",
   "execution_count": 9,
   "id": "073458e0",
   "metadata": {},
   "outputs": [
    {
     "name": "stdout",
     "output_type": "stream",
     "text": [
      "50.0\n"
     ]
    }
   ],
   "source": [
    "import math\n",
    "\n",
    "class Coordinate:\n",
    "    def __init__(self, x, y):\n",
    "        self.x = x\n",
    "        self.y = y\n",
    "    def distance(self, other):\n",
    "        return math.sqrt((self.x - other.x) ** 2 + (self.y - other.y) ** 2)\n",
    "    def __str__(self):\n",
    "        return f'Coordinate({self.x}, {self.y})'\n",
    "\n",
    "p1 = Coordinate(10, 20)\n",
    "p2 = Coordinate(40, 60)\n",
    "distance = p1.distance(p2)\n",
    "print(distance)"
   ]
  },
  {
   "cell_type": "markdown",
   "id": "588ca0f7",
   "metadata": {},
   "source": [
    "## Inheritance"
   ]
  },
  {
   "cell_type": "code",
   "execution_count": 91,
   "id": "af069738",
   "metadata": {},
   "outputs": [],
   "source": [
    "class Person:\n",
    "    \n",
    "    def __init__(self, name):\n",
    "        self.name = name\n",
    "        \n",
    "    def greet(self):\n",
    "        print('Hello!')\n",
    "        \n",
    "class Student(Person):\n",
    "    def __init__(self, name, university):\n",
    "        super().__init__(name)\n",
    "        self.university = university\n",
    "    \n",
    "    def greet(self):\n",
    "        Person.greet(self)\n",
    "        # or\n",
    "        # super().greet()\n",
    "        print('I am a student!')\n",
    "        \n",
    "class GradStudent(Student):\n",
    "    pass"
   ]
  },
  {
   "cell_type": "code",
   "execution_count": 92,
   "id": "f5397193",
   "metadata": {},
   "outputs": [
    {
     "name": "stdout",
     "output_type": "stream",
     "text": [
      "Sandro, from PoliMi\n",
      "\n",
      "Hello!\n",
      "I am a student!\n"
     ]
    }
   ],
   "source": [
    "s = Student('Sandro', 'PoliMi')\n",
    "print(f'{s.name}, from {s.university}\\n')\n",
    "s.greet()"
   ]
  },
  {
   "cell_type": "code",
   "execution_count": 90,
   "id": "b2cfa453",
   "metadata": {},
   "outputs": [
    {
     "name": "stdout",
     "output_type": "stream",
     "text": [
      "Hello!\n",
      "I am a student!\n"
     ]
    }
   ],
   "source": [
    "g = GradStudent('Gary', 'Unimi')\n",
    "g.greet()"
   ]
  },
  {
   "cell_type": "code",
   "execution_count": 77,
   "id": "c7a46a2c",
   "metadata": {},
   "outputs": [
    {
     "name": "stdout",
     "output_type": "stream",
     "text": [
      "Hello!\n"
     ]
    }
   ],
   "source": [
    "p = Person('Alice')\n",
    "p.greet()"
   ]
  },
  {
   "cell_type": "code",
   "execution_count": 155,
   "id": "31168537",
   "metadata": {},
   "outputs": [
    {
     "name": "stdout",
     "output_type": "stream",
     "text": [
      "c1.x is B\n"
     ]
    }
   ],
   "source": [
    "class Z:\n",
    "    def x(self):\n",
    "        return \"Z\"\n",
    "\n",
    "class A:\n",
    "    pass\n",
    "\n",
    "class B:\n",
    "    def x(self):\n",
    "        return \"B\"\n",
    "class C1(A,B):\n",
    "    pass\n",
    "class C2(B,A):\n",
    "    pass\n",
    "c1=C1()\n",
    "print(f'c1.x is {c1.x()}')"
   ]
  },
  {
   "cell_type": "markdown",
   "id": "5257ad39",
   "metadata": {},
   "source": [
    "<br><br>"
   ]
  },
  {
   "cell_type": "markdown",
   "id": "df9c0021",
   "metadata": {},
   "source": [
    "## Exercise\n",
    "\n",
    "### Cats, dogs, fishes"
   ]
  },
  {
   "cell_type": "code",
   "execution_count": 154,
   "id": "b668f6bf",
   "metadata": {},
   "outputs": [
    {
     "name": "stdout",
     "output_type": "stream",
     "text": [
      "Molly eats food1\n",
      "Molly eats food2\n",
      "['food1', 'food2']\n",
      "Molly moves to coordinate (10, 20)\n",
      "Molly moves to coordinate (11, 40)\n",
      "Bob is meowing\n",
      "Bob eats a fish\n",
      "red fish eats small fish\n",
      "red fish moves to coordinate (1, 2)\n",
      "red fish swims to (1, 2)\n",
      "['small fish']\n",
      "Lorenzo is barking\n",
      "Lorenzo is barking\n",
      "Lorenzo is barking\n",
      "Lorenzo is barking\n",
      "Lorenzo is barking\n"
     ]
    }
   ],
   "source": [
    "class Coordinate:\n",
    "    def __init__(self, new_x, new_y):\n",
    "        self.x = new_x\n",
    "        self.y = new_y\n",
    "        \n",
    "    def get_x(self):\n",
    "        return self.x\n",
    "    \n",
    "    def get_y(self):\n",
    "        return self.y\n",
    "    \n",
    "    def set_x(self, new_x):\n",
    "        self.x = new_x\n",
    "        \n",
    "    def set_y(self,new_y):\n",
    "        self.y = new_y\n",
    "        \n",
    "    def __str__ (self):\n",
    "        return f'({self.x}, {self.y})'\n",
    "\n",
    "class Animal:\n",
    "    def __init__(self, name, age):\n",
    "        self.name = name\n",
    "        self.age = age\n",
    "        self.eaten = []\n",
    "        self.coord = Coordinate(0, 0)\n",
    "        \n",
    "    def get_name(self):\n",
    "        return self.name\n",
    "    \n",
    "    def get_age(self):\n",
    "        return self.age\n",
    "    \n",
    "    def get_eaten(self):\n",
    "        return self.eaten\n",
    "    \n",
    "    def get_older(self):\n",
    "        self.age += 1\n",
    "        \n",
    "    def move(self, delta_x, delta_y):\n",
    "        new_x = self.coord.get_x() + delta_x\n",
    "        self.coord.set_x(new_x)\n",
    "        new_y = self.coord.get_y() + delta_y\n",
    "        self.coord.set_y(new_y)\n",
    "        print(self.name, 'moves to coordinate', self.coord)\n",
    "        \n",
    "    def eat(self, food):\n",
    "        print(self.name, 'eats', food)\n",
    "        self.eaten.append(food)\n",
    "\n",
    "\n",
    "class Fish(Animal):\n",
    "    \n",
    "    def swim(self, delta_x, delta_y):\n",
    "        self.move(delta_x, delta_y)\n",
    "        print(self.name, 'swims to', self.coord)\n",
    "\n",
    "\n",
    "class Mammal(Animal):\n",
    "    \n",
    "    def walk(self, delta_x, delta_y):\n",
    "        self.move(delta_x, delta_y)\n",
    "        print(self.name, 'walks to', self.coord)\n",
    "\n",
    "\n",
    "class Cat(Mammal):\n",
    "    \n",
    "    def meow(self):\n",
    "        print(self.name, 'is meowing')\n",
    "    \n",
    "\n",
    "class Dog(Mammal):\n",
    "    \n",
    "    def bark(self):\n",
    "        print(self.name, 'is barking')\n",
    "\n",
    "\n",
    "        \n",
    "a1 = Animal('Molly', 1)\n",
    "a1.eat('food1')\n",
    "a1.eat('food2')\n",
    "print(a1.eaten)\n",
    "a1.move(10, 20)\n",
    "a1.move(1, 20)\n",
    "\n",
    "c1 = Cat('Bob', 5)\n",
    "c1.meow()\n",
    "c1.eat('a fish')\n",
    "\n",
    "fish1 = Fish('red fish', 0.5)\n",
    "fish1.eat('small fish')\n",
    "fish1.swim(1, 2)\n",
    "print(fish1.eaten)\n",
    "\n",
    "d1 = Dog('Lorenzo', 3)\n",
    "for _ in range(5):\n",
    "    d1.bark()"
   ]
  },
  {
   "cell_type": "markdown",
   "source": [
    "### Students\n",
    "Define a class that allows to represent students, with their name, surname, age, completed exams and marks average.\n",
    "Add two methods that handle the addition of a new exam of the student (modifying their exams accordingly) and a method to visualize in an organized way the information of the student."
   ],
   "metadata": {
    "collapsed": false
   }
  },
  {
   "cell_type": "code",
   "execution_count": 12,
   "outputs": [],
   "source": [
    "class Student:\n",
    "    def __init__(self, name, surname, age, Nexams, GPA):\n",
    "        self.name = name\n",
    "        self.surname =surname\n",
    "        self.age = age\n",
    "        self.Nexams = Nexams\n",
    "        self.GPA = GPA\n",
    "\n",
    "    def new_exam(self, grade):\n",
    "        self.Nexams += 1\n",
    "        self.GPA = (self.GPA * (self.Nexams - 1) + grade) / self.Nexams\n",
    "\n",
    "    def __str__(self):\n",
    "        return f'Student: {self.name} {self.surname}\\nAge: {self.age}\\nNumber of completed exams: {self.Nexams}\\nGPA: {round(self.GPA, 2)}\\n'"
   ],
   "metadata": {
    "collapsed": false
   }
  },
  {
   "cell_type": "code",
   "execution_count": 14,
   "outputs": [
    {
     "name": "stdout",
     "output_type": "stream",
     "text": [
      "Student: Alessandro Giulivo\n",
      "Age: 22\n",
      "Number of completed exams: 5\n",
      "GPA: 27.6\n",
      "\n",
      "Student: Giulia Dal Santo\n",
      "Age: 22\n",
      "Number of completed exams: 7\n",
      "GPA: 28.43\n",
      "\n"
     ]
    }
   ],
   "source": [
    "s1 = Student('Alessandro', 'Giulivo', 22, 4, 27)\n",
    "s2 = Student('Giulia', 'Dal Santo', 22, 5, 28)\n",
    "s1.new_exam(30)\n",
    "s2.new_exam(30)\n",
    "s2.new_exam(29)\n",
    "print(s1)\n",
    "print(s2)"
   ],
   "metadata": {
    "collapsed": false
   }
  },
  {
   "cell_type": "code",
   "execution_count": null,
   "outputs": [],
   "source": [],
   "metadata": {
    "collapsed": false
   }
  }
 ],
 "metadata": {
  "kernelspec": {
   "display_name": "Python 3 (ipykernel)",
   "language": "python",
   "name": "python3"
  },
  "language_info": {
   "codemirror_mode": {
    "name": "ipython",
    "version": 3
   },
   "file_extension": ".py",
   "mimetype": "text/x-python",
   "name": "python",
   "nbconvert_exporter": "python",
   "pygments_lexer": "ipython3",
   "version": "3.10.6"
  }
 },
 "nbformat": 4,
 "nbformat_minor": 5
}

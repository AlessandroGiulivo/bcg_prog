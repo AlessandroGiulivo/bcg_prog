{
 "cells": [
  {
   "cell_type": "markdown",
   "id": "e6f9c700",
   "metadata": {},
   "source": [
    "# Functions"
   ]
  },
  {
   "cell_type": "code",
   "execution_count": 8,
   "id": "f4295edd",
   "metadata": {},
   "outputs": [],
   "source": [
    "def double(n):\n",
    "    \"\"\"computes the double of a number\n",
    "        :parameters n: the first number\n",
    "        :returns the double of n\"\"\"\n",
    "    double_of_n = n* 2\n",
    "    return double_of_n"
   ]
  },
  {
   "cell_type": "code",
   "execution_count": 7,
   "id": "2606b7bd",
   "metadata": {},
   "outputs": [
    {
     "name": "stdout",
     "output_type": "stream",
     "text": [
      "18\n",
      "14\n"
     ]
    }
   ],
   "source": [
    "print(double(9))\n",
    "print(double(7))"
   ]
  },
  {
   "cell_type": "code",
   "execution_count": 9,
   "id": "1c2c1046",
   "metadata": {},
   "outputs": [
    {
     "name": "stdout",
     "output_type": "stream",
     "text": [
      "Help on function double in module __main__:\n",
      "\n",
      "double(n)\n",
      "    computes the double of a number\n",
      "    :parameters n: the first number\n",
      "    :returns the double of n\n",
      "\n"
     ]
    }
   ],
   "source": [
    "help(double)"
   ]
  },
  {
   "cell_type": "code",
   "execution_count": 10,
   "id": "0ced9353",
   "metadata": {},
   "outputs": [],
   "source": [
    "def product(n, m):\n",
    "    return n*m"
   ]
  },
  {
   "cell_type": "code",
   "execution_count": 11,
   "id": "66b4ec60",
   "metadata": {},
   "outputs": [],
   "source": [
    "def sum_all(n, *ns):\n",
    "    res = n\n",
    "    for elem in ns:\n",
    "        res += elem\n",
    "    return res"
   ]
  },
  {
   "cell_type": "code",
   "execution_count": 14,
   "id": "f1d9d9f8",
   "metadata": {},
   "outputs": [
    {
     "data": {
      "text/plain": [
       "82"
      ]
     },
     "execution_count": 14,
     "metadata": {},
     "output_type": "execute_result"
    }
   ],
   "source": [
    "sum_all(5, 6, 71)"
   ]
  },
  {
   "cell_type": "code",
   "execution_count": 34,
   "id": "a2931eac",
   "metadata": {},
   "outputs": [],
   "source": [
    "def greet(name, **opt):\n",
    "    full_name = name\n",
    "    if \"title\" in opt:\n",
    "        full_name = opt[\"title\"] + \" \" + full_name\n",
    "    if \"lastname\" in opt:\n",
    "        full_name += \" \" + opt[\"lastname\"]\n",
    "    return(f\"Hello {full_name}\")"
   ]
  },
  {
   "cell_type": "code",
   "execution_count": 35,
   "id": "16a3e31e",
   "metadata": {},
   "outputs": [
    {
     "name": "stdout",
     "output_type": "stream",
     "text": [
      "Hello Barack\n",
      "Hello Mr Barack\n",
      "Hello Mr Barack Bernasconi\n"
     ]
    }
   ],
   "source": [
    "print(greet(\"Barack\"))\n",
    "print(greet(\"Barack\", title = \"Mr\"))\n",
    "print(greet(\"Barack\", title = \"Mr\", lastname = \"Bernasconi\"))"
   ]
  },
  {
   "cell_type": "markdown",
   "id": "62cd72a8",
   "metadata": {},
   "source": [
    "#### call by value"
   ]
  },
  {
   "cell_type": "code",
   "execution_count": 36,
   "id": "4e37f5ea",
   "metadata": {},
   "outputs": [
    {
     "name": "stdout",
     "output_type": "stream",
     "text": [
      "Outside of my function Programming\n",
      "Inside my function Databases\n",
      "Outside of my function Programming\n"
     ]
    }
   ],
   "source": [
    "mystring = \"Programming\"\n",
    "print(\"Outside of my function\", mystring)\n",
    "\n",
    "def test(mystring):\n",
    "    mystring = 'Databases'\n",
    "    print('Inside my function', mystring)\n",
    "\n",
    "test(mystring)\n",
    "print(\"Outside of my function\", mystring)"
   ]
  },
  {
   "cell_type": "markdown",
   "id": "0834f443",
   "metadata": {},
   "source": [
    "##### call by reference"
   ]
  },
  {
   "cell_type": "code",
   "execution_count": 37,
   "id": "ac0592e3",
   "metadata": {},
   "outputs": [
    {
     "name": "stdout",
     "output_type": "stream",
     "text": [
      "Outside of my function [1, 2, 3]\n",
      "Inside of my function [1, 2, 3, 4]\n",
      "Outside of my function [1, 2, 3, 4]\n"
     ]
    }
   ],
   "source": [
    "mylist = [1, 2, 3]\n",
    "print(\"Outside of my function\", mylist)\n",
    "\n",
    "def add_more(mylist):\n",
    "    mylist.append(4)\n",
    "    print(\"Inside of my function\", mylist)\n",
    "    \n",
    "add_more(mylist)\n",
    "print(\"Outside of my function\", mylist)"
   ]
  },
  {
   "cell_type": "markdown",
   "id": "7da09d0d",
   "metadata": {},
   "source": [
    "### Nested Functions"
   ]
  },
  {
   "cell_type": "code",
   "execution_count": 8,
   "id": "0f36f0c4",
   "metadata": {},
   "outputs": [
    {
     "name": "stdout",
     "output_type": "stream",
     "text": [
      "Hello!\n"
     ]
    }
   ],
   "source": [
    "def print_msg(msg):\n",
    "    \n",
    "    def printer():\n",
    "        print(msg)\n",
    "    \n",
    "    # printer()\n",
    "    return printer\n",
    "\n",
    "\n",
    "greet = print_msg(\"Hello!\")\n",
    "\n",
    "greet()    # this is a closure"
   ]
  },
  {
   "cell_type": "markdown",
   "id": "57e34592",
   "metadata": {},
   "source": [
    "A **\"closure\"** is a way to bind values to a function without passing them as parameters.<br><br>\n",
    "We have a *closure* when *three conditions* are **True**:\n",
    "* We have a nested function;\n",
    "* The nested function refers to a variable defined in the enclosing function;\n",
    "* The enclosing function returns the nested function"
   ]
  },
  {
   "cell_type": "code",
   "execution_count": 10,
   "id": "19b73d5a",
   "metadata": {},
   "outputs": [
    {
     "data": {
      "text/plain": [
       "15"
      ]
     },
     "execution_count": 10,
     "metadata": {},
     "output_type": "execute_result"
    }
   ],
   "source": [
    "def sum_factory(n):\n",
    "    \n",
    "    def summatory(x):\n",
    "        return x + n\n",
    "    \n",
    "    return summatory\n",
    "\n",
    "sum5 = sum_factory(5)\n",
    "\n",
    "\n",
    "sum5(10)"
   ]
  },
  {
   "cell_type": "markdown",
   "id": "374effc6",
   "metadata": {},
   "source": [
    "### Exercise\n",
    "Write a closure function that makes functions calculating the power arithmetic operator.<br>\n",
    "Build lists containing the numbers *[0, 10]* to the power of *2, 3, 4*"
   ]
  },
  {
   "cell_type": "code",
   "execution_count": 12,
   "id": "f7659223",
   "metadata": {},
   "outputs": [
    {
     "name": "stdout",
     "output_type": "stream",
     "text": [
      "[0, 1, 4, 9, 16, 25, 36, 49, 64, 81, 100]\n",
      "[0, 1, 8, 27, 64, 125, 216, 343, 512, 729, 1000]\n",
      "[0, 1, 16, 81, 256, 625, 1296, 2401, 4096, 6561, 10000]\n"
     ]
    }
   ],
   "source": [
    "def to_the_power_of(exponent):\n",
    "    \n",
    "    def power(base):\n",
    "        return base ** exponent\n",
    "    \n",
    "    return power\n",
    "\n",
    "power2 = to_the_power_of(2)\n",
    "power3 = to_the_power_of(3)\n",
    "power4 = to_the_power_of(4)\n",
    "\n",
    "l2, l3, l4 = [], [], []\n",
    "for i in range(11):\n",
    "    l2.append(power2(i))\n",
    "    l3.append(power3(i))\n",
    "    l4.append(power4(i))\n",
    "\n",
    "print(l2)\n",
    "print(l3)\n",
    "print(l4)"
   ]
  },
  {
   "cell_type": "markdown",
   "id": "142187ec",
   "metadata": {},
   "source": [
    "## High Order Functions\n",
    "* Can take one or more functions as parameters\n",
    "* Can return a function as a value\n",
    "\n",
    "We will see\n",
    "1. **map**: &emsp; map(fun, iterable)\n",
    "2. **filter**: &emsp; filter(fun, iterable)\n",
    "3. **sorted**: &emsp; sorted(list [, key][, rev])"
   ]
  },
  {
   "cell_type": "code",
   "execution_count": null,
   "id": "03c64ef0",
   "metadata": {},
   "outputs": [],
   "source": [
    "# 1. Map"
   ]
  },
  {
   "cell_type": "code",
   "execution_count": 19,
   "id": "ebb94971",
   "metadata": {},
   "outputs": [
    {
     "name": "stdout",
     "output_type": "stream",
     "text": [
      "[2, 4]\n"
     ]
    }
   ],
   "source": [
    "# 2. Filter\n",
    "def is_true(n):\n",
    "    if n % 2 == 0:\n",
    "        return True\n",
    "\n",
    "l = [1, 2, 3, 4]I'm \n",
    "l2 = list(filter(is_true, l))\n",
    "print(l2)"
   ]
  },
  {
   "cell_type": "code",
   "execution_count": 21,
   "id": "d38336cd",
   "metadata": {},
   "outputs": [
    {
     "data": {
      "text/plain": [
       "[0, 1, -4, -6]"
      ]
     },
     "execution_count": 21,
     "metadata": {},
     "output_type": "execute_result"
    }
   ],
   "source": [
    "# 3. Sorted\n",
    "l = [1, -4, -6, 0]\n",
    "\n",
    "l_sorted = sorted(l, key = abs)\n",
    "l_sorted"
   ]
  },
  {
   "cell_type": "markdown",
   "id": "3049d78e",
   "metadata": {},
   "source": [
    "### Exercise: Split by average\n",
    "[1, 2, 3, 4, 5, 6] $\\rightarrow$ [1, 2, 3] [4, 5, 6]"
   ]
  },
  {
   "cell_type": "code",
   "execution_count": 26,
   "id": "8bb673dd",
   "metadata": {},
   "outputs": [
    {
     "name": "stdout",
     "output_type": "stream",
     "text": [
      "([1, 2, 3], [4, 5, 6])\n"
     ]
    }
   ],
   "source": [
    "def avg(l):\n",
    "    return sum(l)/len(l)\n",
    "    \n",
    "def split_avg(l):\n",
    "    lower = []\n",
    "    higher = []\n",
    "    \n",
    "    average = avg(l)\n",
    "    \n",
    "    for el in l:\n",
    "        if el < average:\n",
    "            lower.append(el)\n",
    "        else:\n",
    "            higher.append(el)\n",
    "            \n",
    "    return (lower, higher)\n",
    "\n",
    "l = [1, 2, 3, 4, 5, 6]\n",
    "print(split_avg(l))\n",
    "\n"
   ]
  },
  {
   "cell_type": "markdown",
   "id": "0bcbf2e8",
   "metadata": {},
   "source": [
    "## Exercise: Get Diagonal\n",
    "Write a function that checks if a list of lists is a square matrix and, if so, it returns the diagonal of the matrix.<br>\n",
    "e.g.,: [[1,2,3],[3,4,5],[5,6,7]] => [1,4,7]"
   ]
  },
  {
   "cell_type": "code",
   "execution_count": 8,
   "id": "0bae1282",
   "metadata": {},
   "outputs": [
    {
     "name": "stdout",
     "output_type": "stream",
     "text": [
      "[1, 4, 7]\n"
     ]
    }
   ],
   "source": [
    "def is_square(l):\n",
    "    check = True\n",
    "    for ll in l:\n",
    "        if len(ll) != len(l):\n",
    "            return False\n",
    "    return check\n",
    "\n",
    "def gd(l):\n",
    "    if is_square(l):\n",
    "        diag = []\n",
    "        for i in range(len(l)):\n",
    "            diag.append(l[i][i])\n",
    "        return diag\n",
    "    else:\n",
    "        return 'not a square matrix'\n",
    "\n",
    "L = [[1,2,3],[3,4,5],[5,6,7]]\n",
    "print(gd(L))"
   ]
  },
  {
   "cell_type": "markdown",
   "id": "6e8ae9f5",
   "metadata": {},
   "source": [
    "## Ecercise: Fill None\n",
    "Define a function that removes the None elements from a list (provided in input) and replaces them with a user-defined value (default = 0). <br>\n",
    "The modified list is not returned as output.<br>\n",
    "E.g.,:<br>\n",
    "fill_none(L) => replaces Nones with 0s.<br>\n",
    "fill_none(L, value = 6) => replaces Nones with 6s."
   ]
  },
  {
   "cell_type": "code",
   "execution_count": 16,
   "id": "d8b0b8c4",
   "metadata": {},
   "outputs": [
    {
     "name": "stdout",
     "output_type": "stream",
     "text": [
      "[6, 7, 8, 3, 555, 7, 4, 7, 555, 8, 10]\n"
     ]
    }
   ],
   "source": [
    "def fill_none(L, value = 0):\n",
    "    for i in range(len(L)):\n",
    "        if L[i] == None:\n",
    "            L[i] = value\n",
    "    return\n",
    "\n",
    "L = [6, 7, 8, 3, None, 7, 4, 7, None, 8, 10]\n",
    "\n",
    "fill_none(L, value = 555)\n",
    "print(L)"
   ]
  }
 ],
 "metadata": {
  "kernelspec": {
   "display_name": "Python 3 (ipykernel)",
   "language": "python",
   "name": "python3"
  },
  "language_info": {
   "codemirror_mode": {
    "name": "ipython",
    "version": 3
   },
   "file_extension": ".py",
   "mimetype": "text/x-python",
   "name": "python",
   "nbconvert_exporter": "python",
   "pygments_lexer": "ipython3",
   "version": "3.10.6"
  }
 },
 "nbformat": 4,
 "nbformat_minor": 5
}

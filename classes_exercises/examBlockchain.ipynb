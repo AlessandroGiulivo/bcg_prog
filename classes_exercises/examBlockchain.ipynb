{
 "cells": [
  {
   "cell_type": "markdown",
   "source": [
    "# Exam BlockChain"
   ],
   "metadata": {
    "collapsed": false
   }
  },
  {
   "cell_type": "code",
   "execution_count": 12,
   "outputs": [
    {
     "ename": "SyntaxError",
     "evalue": "incomplete input (2822772503.py, line 23)",
     "output_type": "error",
     "traceback": [
      "\u001B[0;36m  Cell \u001B[0;32mIn [12], line 23\u001B[0;36m\u001B[0m\n\u001B[0;31m    \u001B[0m\n\u001B[0m    ^\u001B[0m\n\u001B[0;31mSyntaxError\u001B[0m\u001B[0;31m:\u001B[0m incomplete input\n"
     ]
    }
   ],
   "source": [
    "class BlockChain:\n",
    "    def __init__(self):\n",
    "        self.blocksList = []\n",
    "bc = BlockChain()\n",
    "\n",
    "class Block:\n",
    "    def __init__(self):\n",
    "        self.transactionsList = []\n",
    "        self.max_T = 5\n",
    "        self.hash = None\n",
    "        self.link_to_next = None\n",
    "\n",
    "class Transaction:\n",
    "    def __init__(self, sender, receiver, amount):\n",
    "        self.sender = sender\n",
    "        self.receiver = receiver\n",
    "        self.amount = amount\n",
    "        bc.blocksList[-1].transactionsList.append((self.sender,\n",
    "                                                   self.receiver,\n",
    "                                                   self.amount))\n",
    "        if len(bc.blocksList[-1].transactionsList) == 5:\n",
    "\n"
   ],
   "metadata": {
    "collapsed": false
   }
  },
  {
   "cell_type": "code",
   "execution_count": null,
   "outputs": [],
   "source": [],
   "metadata": {
    "collapsed": false
   }
  }
 ],
 "metadata": {
  "kernelspec": {
   "display_name": "Python 3",
   "language": "python",
   "name": "python3"
  },
  "language_info": {
   "codemirror_mode": {
    "name": "ipython",
    "version": 2
   },
   "file_extension": ".py",
   "mimetype": "text/x-python",
   "name": "python",
   "nbconvert_exporter": "python",
   "pygments_lexer": "ipython2",
   "version": "2.7.6"
  }
 },
 "nbformat": 4,
 "nbformat_minor": 0
}

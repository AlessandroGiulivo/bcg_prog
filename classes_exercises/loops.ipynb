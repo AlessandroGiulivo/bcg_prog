{
 "cells": [
  {
   "cell_type": "markdown",
   "id": "9bcec212",
   "metadata": {},
   "source": [
    "# Loops"
   ]
  },
  {
   "cell_type": "markdown",
   "id": "fa2c4f61",
   "metadata": {},
   "source": [
    "  "
   ]
  },
  {
   "cell_type": "code",
   "execution_count": null,
   "id": "33a60f1b",
   "metadata": {},
   "outputs": [],
   "source": [
    "num = int(input('number between 0 and 100:'))\n",
    "\n",
    "while num >= 0 and num < 100:\n",
    "    num = num + 1\n",
    "    print(num)"
   ]
  },
  {
   "cell_type": "markdown",
   "id": "64609357",
   "metadata": {},
   "source": [
    "## prime numbers"
   ]
  },
  {
   "cell_type": "code",
   "execution_count": null,
   "id": "9ed1e512",
   "metadata": {},
   "outputs": [],
   "source": []
  },
  {
   "cell_type": "code",
   "execution_count": null,
   "id": "f30b2b1b",
   "metadata": {},
   "outputs": [],
   "source": []
  },
  {
   "cell_type": "markdown",
   "id": "c46e648c",
   "metadata": {},
   "source": [
    "## Mean"
   ]
  },
  {
   "cell_type": "raw",
   "id": "668d1ca9",
   "metadata": {},
   "source": [
    "NUM-VALUES\n",
    "SUM\n",
    "LAST-INSERTED\n",
    "\n",
    "INP = \"insert a number, N to exit:\"\n",
    "SUM = 0\n",
    "NUM-VALUES = 0\n",
    "LAST-INSERTE = input(INP)\n",
    "\n",
    "while LAST-INSERTED != \"N\" do\n",
    "    SUM += int(LAST-INSERTED)\n",
    "    NUM-VALUES += 1\n",
    "    LAST-INSERTED = input(INP)\n",
    "if NUM_VALUES > 0 then\n",
    "    print(SUM / NUM_VALUES)"
   ]
  },
  {
   "cell_type": "code",
   "execution_count": null,
   "id": "08a5ff9b",
   "metadata": {},
   "outputs": [],
   "source": []
  },
  {
   "cell_type": "markdown",
   "id": "706ab7f4",
   "metadata": {},
   "source": [
    "## Max"
   ]
  },
  {
   "cell_type": "code",
   "execution_count": 14,
   "id": "77bbcda4",
   "metadata": {},
   "outputs": [
    {
     "name": "stdout",
     "output_type": "stream",
     "text": [
      "\n",
      "Insert a number or N to exit: 6\n",
      "\n",
      "Insert a number or N to exit: 3\n",
      "\n",
      "Insert a number or N to exit: 7\n",
      "\n",
      "Insert a number or N to exit: 2\n",
      "\n",
      "Insert a number or N to exit: 6\n",
      "\n",
      "Insert a number or N to exit: N\n",
      "\n",
      "The max is: 7.0\n"
     ]
    }
   ],
   "source": [
    "MSG = '\\nInsert a number or N to exit: '\n",
    "\n",
    "current_max = None\n",
    "last_inserted = input(MSG)\n",
    "while last_inserted != \"N\":\n",
    "    last_inserted = float(last_inserted)\n",
    "    if current_max == None or current_max < last_inserted:\n",
    "        current_max = last_inserted\n",
    "    last_inserted = input(MSG)\n",
    "print(\"\\nThe max is:\", current_max)\n"
   ]
  },
  {
   "cell_type": "code",
   "execution_count": null,
   "id": "3dcc3033",
   "metadata": {},
   "outputs": [],
   "source": []
  },
  {
   "cell_type": "markdown",
   "id": "c21b1fce",
   "metadata": {},
   "source": [
    "## Nested Loops"
   ]
  },
  {
   "cell_type": "code",
   "execution_count": 22,
   "id": "b15ed8cb",
   "metadata": {},
   "outputs": [
    {
     "name": "stdout",
     "output_type": "stream",
     "text": [
      "   1   2   3   4   5   6   7   8   9  10\n",
      "   2   4   6   8  10  12  14  16  18  20\n",
      "   3   6   9  12  15  18  21  24  27  30\n",
      "   4   8  12  16  20  24  28  32  36  40\n",
      "   5  10  15  20  25  30  35  40  45  50\n",
      "   6  12  18  24  30  36  42  48  54  60\n",
      "   7  14  21  28  35  42  49  56  63  70\n",
      "   8  16  24  32  40  48  56  64  72  80\n",
      "   9  18  27  36  45  54  63  72  81  90\n",
      "  10  20  30  40  50  60  70  80  90 100\n"
     ]
    }
   ],
   "source": [
    "N = 1\n",
    "while N <= 10:\n",
    "    M = 1\n",
    "    while M <= 10:\n",
    "        print('{:4d}'.format(N*M), end = '')\n",
    "        M += 1\n",
    "    print()\n",
    "    N += 1"
   ]
  },
  {
   "cell_type": "code",
   "execution_count": null,
   "id": "50b7e039",
   "metadata": {},
   "outputs": [],
   "source": []
  },
  {
   "cell_type": "markdown",
   "id": "e33bc077",
   "metadata": {},
   "source": [
    "## For Loops"
   ]
  },
  {
   "cell_type": "code",
   "execution_count": 27,
   "id": "915080ca",
   "metadata": {},
   "outputs": [
    {
     "name": "stdout",
     "output_type": "stream",
     "text": [
      "50\n",
      "55\n",
      "60\n",
      "65\n",
      "70\n",
      "75\n",
      "80\n",
      "85\n",
      "90\n",
      "95\n"
     ]
    }
   ],
   "source": [
    "for x in range(50, 100, 5):\n",
    "    print(x)"
   ]
  },
  {
   "cell_type": "code",
   "execution_count": null,
   "id": "58e3b22a",
   "metadata": {},
   "outputs": [],
   "source": []
  },
  {
   "cell_type": "code",
   "execution_count": null,
   "id": "27121db8",
   "metadata": {},
   "outputs": [],
   "source": []
  },
  {
   "cell_type": "markdown",
   "id": "e202f47e",
   "metadata": {},
   "source": [
    "# Exercises"
   ]
  },
  {
   "cell_type": "code",
   "execution_count": 38,
   "id": "9d66b060",
   "metadata": {},
   "outputs": [
    {
     "name": "stdout",
     "output_type": "stream",
     "text": [
      "Insert a positive number: 5\n",
      "\n",
      "Factorial is: 120\n"
     ]
    }
   ],
   "source": [
    "from sys import exit\n",
    "\n",
    "n = int(input('Insert a positive number: '))\n",
    "\n",
    "if n < 0:\n",
    "    print('error')\n",
    "    exit\n",
    "    \n",
    "fact = 1\n",
    "while n > 0:\n",
    "    fact *= n\n",
    "    n -= 1\n",
    "print('\\nFactorial is:', fact)"
   ]
  },
  {
   "cell_type": "code",
   "execution_count": 41,
   "id": "eef9e8bb",
   "metadata": {},
   "outputs": [
    {
     "name": "stdout",
     "output_type": "stream",
     "text": [
      "Insert a positive number: 5\n",
      "\n",
      "Factorial of 5 is: 120\n"
     ]
    }
   ],
   "source": [
    "from sys import exit\n",
    "\n",
    "n = int(input('Insert a positive number: '))\n",
    "\n",
    "if n < 0:\n",
    "    print('error')\n",
    "    exit\n",
    "    \n",
    "fact = 1\n",
    "for i in range(2, n+1):\n",
    "    fact *= i\n",
    "print('\\nFactorial of', n, 'is:', fact)"
   ]
  },
  {
   "cell_type": "code",
   "execution_count": null,
   "id": "b926cf4f",
   "metadata": {},
   "outputs": [],
   "source": []
  },
  {
   "cell_type": "markdown",
   "id": "1fd64b01",
   "metadata": {},
   "source": [
    "### Palindrome\n",
    "\n",
    "Write a program that checks whether a word is palindrome"
   ]
  },
  {
   "cell_type": "code",
   "execution_count": 47,
   "id": "b3b25ae7",
   "metadata": {},
   "outputs": [
    {
     "name": "stdout",
     "output_type": "stream",
     "text": [
      "Insert a word: Anna\n",
      "Palindrome!\n"
     ]
    }
   ],
   "source": [
    "sentence = input('Insert a word: ').lower()\n",
    "reverse = \"\"\n",
    "\n",
    "for c in sentence:\n",
    "    reverse = c + reverse\n",
    "\n",
    "if reverse == sentence:\n",
    "    print('Palindrome!')\n",
    "else:\n",
    "    print('Not palindrome')"
   ]
  },
  {
   "cell_type": "code",
   "execution_count": null,
   "id": "d91bb7a2",
   "metadata": {},
   "outputs": [],
   "source": []
  },
  {
   "cell_type": "markdown",
   "id": "8316fb97",
   "metadata": {},
   "source": [
    "## Fibonacci\n",
    "### 1 1 2 3 5 8 13 21..."
   ]
  },
  {
   "cell_type": "code",
   "execution_count": 49,
   "id": "430ea1d4",
   "metadata": {},
   "outputs": [
    {
     "name": "stdout",
     "output_type": "stream",
     "text": [
      "1\n",
      "1\n",
      "2\n",
      "3\n",
      "5\n",
      "8\n",
      "13\n",
      "21\n",
      "34\n",
      "55\n",
      "89\n",
      "144\n",
      "233\n",
      "377\n",
      "610\n",
      "987\n",
      "1597\n",
      "2584\n",
      "4181\n",
      "6765\n"
     ]
    }
   ],
   "source": [
    "N = 20\n",
    "last = 1\n",
    "next_to_last = 1\n",
    "\n",
    "print(next_to_last)\n",
    "print(last)\n",
    "for _ in range(3, N+1):\n",
    "    next_fib = last + next_to_last\n",
    "    next_to_last = last\n",
    "    last = next_fib\n",
    "    print(next_fib)"
   ]
  },
  {
   "cell_type": "code",
   "execution_count": null,
   "id": "e7ca1883",
   "metadata": {},
   "outputs": [],
   "source": []
  },
  {
   "cell_type": "markdown",
   "id": "0230de06",
   "metadata": {},
   "source": [
    "## Greatest Common Divisor \n",
    "## Least Common Multiple"
   ]
  },
  {
   "cell_type": "code",
   "execution_count": 64,
   "id": "339eb056",
   "metadata": {},
   "outputs": [
    {
     "name": "stdout",
     "output_type": "stream",
     "text": [
      "found GCD:  5\n",
      "found LCM:  30\n"
     ]
    }
   ],
   "source": [
    "N1 = 15\n",
    "N2 = 10\n",
    "\n",
    "x = min(N1, N2)\n",
    "found = False\n",
    "while x > 0 and found == False:\n",
    "    if (N1 % x == 0) and (N2 % x == 0):\n",
    "        print('Found GCD: ', x)\n",
    "        found = True\n",
    "    x -= 1\n",
    "    \n",
    "y = max(N1, N2)\n",
    "while True:\n",
    "    if (y % N1 == 0) and (y % N2 == 0):\n",
    "        print('Found LCM: ', y)\n",
    "        break\n",
    "    y += 1"
   ]
  },
  {
   "cell_type": "code",
   "execution_count": null,
   "id": "4627aac2",
   "metadata": {},
   "outputs": [],
   "source": []
  },
  {
   "cell_type": "code",
   "execution_count": null,
   "id": "5377022d",
   "metadata": {},
   "outputs": [],
   "source": []
  }
 ],
 "metadata": {
  "kernelspec": {
   "display_name": "Python 3 (ipykernel)",
   "language": "python",
   "name": "python3"
  },
  "language_info": {
   "codemirror_mode": {
    "name": "ipython",
    "version": 3
   },
   "file_extension": ".py",
   "mimetype": "text/x-python",
   "name": "python",
   "nbconvert_exporter": "python",
   "pygments_lexer": "ipython3",
   "version": "3.10.6"
  }
 },
 "nbformat": 4,
 "nbformat_minor": 5
}

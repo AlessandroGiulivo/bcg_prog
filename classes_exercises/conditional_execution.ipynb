{
 "cells": [
  {
   "cell_type": "markdown",
   "id": "fae27f36",
   "metadata": {},
   "source": [
    "## Conditional Execution"
   ]
  },
  {
   "cell_type": "code",
   "execution_count": 22,
   "id": "e5a047f4",
   "metadata": {},
   "outputs": [
    {
     "name": "stdout",
     "output_type": "stream",
     "text": [
      "Please, insert an integer number: 90\n",
      "\n",
      "The number is even\n"
     ]
    }
   ],
   "source": [
    "ins_value = input(\"Please, insert an integer number: \")\n",
    "if ins_value.isnumeric():\n",
    "    user_num = int(ins_value)\n",
    "    rem = user_num % 2\n",
    "    if rem == 0:\n",
    "        print(\"\\nThe number is even\")\n",
    "    else:\n",
    "        print(\"\\nThe number is odd\")\n",
    "else:\n",
    "    print(\"What you inserted is not a number\")"
   ]
  },
  {
   "cell_type": "code",
   "execution_count": 18,
   "id": "6873b2cd",
   "metadata": {},
   "outputs": [
    {
     "name": "stdout",
     "output_type": "stream",
     "text": [
      "Please, insert an integer number: 23\n",
      "\n",
      "The number is not a multiple of either 2, 3 or 5\n"
     ]
    }
   ],
   "source": [
    "ins_value = input(\"Please, insert an integer number: \")\n",
    "if ins_value.isnumeric():\n",
    "    user_num = int(ins_value)\n",
    "    if user_num % 2 == 0:\n",
    "        print(\"\\nThe number is a multiple of 2\")\n",
    "    elif user_num % 3 == 0:\n",
    "        print(\"\\nThe number is a multiple of 3\")\n",
    "    elif user_num % 5 == 0:\n",
    "        print(\"\\nThe number is a multiple of 5\")\n",
    "    else:\n",
    "        print(\"\\nThe number is not a multiple of either 2, 3 or 5\")\n",
    "else:\n",
    "    print(\"Error\")"
   ]
  },
  {
   "cell_type": "code",
   "execution_count": null,
   "id": "e7a82e89",
   "metadata": {},
   "outputs": [],
   "source": []
  }
 ],
 "metadata": {
  "kernelspec": {
   "display_name": "Python 3 (ipykernel)",
   "language": "python",
   "name": "python3"
  },
  "language_info": {
   "codemirror_mode": {
    "name": "ipython",
    "version": 3
   },
   "file_extension": ".py",
   "mimetype": "text/x-python",
   "name": "python",
   "nbconvert_exporter": "python",
   "pygments_lexer": "ipython3",
   "version": "3.10.6"
  }
 },
 "nbformat": 4,
 "nbformat_minor": 5
}

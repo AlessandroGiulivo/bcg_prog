{
 "cells": [
  {
   "cell_type": "markdown",
   "id": "d20d0b07",
   "metadata": {},
   "source": [
    "# Regular Expression Exercises\n",
    "<br>"
   ]
  },
  {
   "cell_type": "code",
   "execution_count": 2,
   "id": "3fe55e73",
   "metadata": {},
   "outputs": [],
   "source": [
    "import re"
   ]
  },
  {
   "cell_type": "markdown",
   "id": "6eecd412",
   "metadata": {},
   "source": [
    "### Write a Python program that matches a string that has an ‘a’ followed by zero or more ‘b’s."
   ]
  },
  {
   "cell_type": "code",
   "execution_count": 5,
   "id": "c31f60e7",
   "metadata": {},
   "outputs": [
    {
     "name": "stdout",
     "output_type": "stream",
     "text": [
      "Insert a string: Write a Python program that matches a string that has an ‘a’ followed by zero or more ‘b’s.\n",
      "<re.Match object; span=(6, 7), match='a'>\n"
     ]
    }
   ],
   "source": [
    "inp = input(\"Insert a string: \")\n",
    "\n",
    "regex = r'ab*'\n",
    "\n",
    "x = re.search(regex, inp)\n",
    "\n",
    "print(x)"
   ]
  },
  {
   "cell_type": "markdown",
   "id": "3cdc3ad2",
   "metadata": {},
   "source": [
    "<br>"
   ]
  },
  {
   "cell_type": "markdown",
   "id": "5f4e4505",
   "metadata": {},
   "source": [
    "### Write a Python program to find two sequences of lowercase letters joined with an underscore."
   ]
  },
  {
   "cell_type": "code",
   "execution_count": 8,
   "id": "894f6967",
   "metadata": {},
   "outputs": [
    {
     "name": "stdout",
     "output_type": "stream",
     "text": [
      "Insert a string: Python_program to find two sequences of lowercase_letters joined with an underscore\n",
      "<re.Match object; span=(39, 58), match=' lowercase_letters '>\n"
     ]
    }
   ],
   "source": [
    "inp = input(\"Insert a string: \")\n",
    "\n",
    "regex = r'[a-z]+_[a-z]+'\n",
    "\n",
    "x = re.search(regex, inp)\n",
    "\n",
    "print(x)"
   ]
  },
  {
   "cell_type": "markdown",
   "id": "a54d011e",
   "metadata": {},
   "source": [
    "<br>"
   ]
  },
  {
   "cell_type": "markdown",
   "id": "a5b9b3f8",
   "metadata": {},
   "source": [
    "### Write a Python program to remove leading zeros from an IP address.\n",
    "E.g.,<br>\n",
    "Ip = ‘216.08.0904.196’<br>\n",
    "Expected result 216.8.904.196"
   ]
  },
  {
   "cell_type": "code",
   "execution_count": 18,
   "id": "6bc5123d",
   "metadata": {},
   "outputs": [
    {
     "name": "stdout",
     "output_type": "stream",
     "text": [
      "216.8.904.196\n"
     ]
    }
   ],
   "source": [
    "regex = \"\\.0+\"\n",
    "inpIp = '216.08.0904.196'\n",
    "\n",
    "outIp = re.sub(regex, '.', inpIp)\n",
    "print(outIp)"
   ]
  }
 ],
 "metadata": {
  "kernelspec": {
   "display_name": "Python 3 (ipykernel)",
   "language": "python",
   "name": "python3"
  },
  "language_info": {
   "codemirror_mode": {
    "name": "ipython",
    "version": 3
   },
   "file_extension": ".py",
   "mimetype": "text/x-python",
   "name": "python",
   "nbconvert_exporter": "python",
   "pygments_lexer": "ipython3",
   "version": "3.10.6"
  }
 },
 "nbformat": 4,
 "nbformat_minor": 5
}

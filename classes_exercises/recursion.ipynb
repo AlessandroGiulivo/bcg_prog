{
 "cells": [
  {
   "cell_type": "markdown",
   "id": "b87291bc",
   "metadata": {},
   "source": [
    "# Recursion"
   ]
  },
  {
   "cell_type": "markdown",
   "id": "6e15d595",
   "metadata": {},
   "source": [
    "<br>"
   ]
  },
  {
   "cell_type": "code",
   "execution_count": 62,
   "id": "d35d7874",
   "metadata": {},
   "outputs": [
    {
     "name": "stdout",
     "output_type": "stream",
     "text": [
      "3000\n"
     ]
    }
   ],
   "source": [
    "import sys\n",
    "print(sys.getrecursionlimit())"
   ]
  },
  {
   "cell_type": "markdown",
   "id": "6fd889c3",
   "metadata": {},
   "source": [
    "<br><br>"
   ]
  },
  {
   "cell_type": "markdown",
   "id": "132e3302",
   "metadata": {},
   "source": [
    "### Factorial"
   ]
  },
  {
   "cell_type": "code",
   "execution_count": 63,
   "id": "6eb96207",
   "metadata": {},
   "outputs": [
    {
     "data": {
      "text/plain": "120"
     },
     "execution_count": 63,
     "metadata": {},
     "output_type": "execute_result"
    }
   ],
   "source": [
    "def fact(n):\n",
    "    if n == 1:\n",
    "        return n\n",
    "    else:\n",
    "        return n*fact(n-1)\n",
    "fact(5)"
   ]
  },
  {
   "cell_type": "markdown",
   "id": "b706533b",
   "metadata": {},
   "source": [
    "### Fibonacci"
   ]
  },
  {
   "cell_type": "code",
   "execution_count": 64,
   "id": "317e6730",
   "metadata": {},
   "outputs": [
    {
     "data": {
      "text/plain": "5"
     },
     "execution_count": 64,
     "metadata": {},
     "output_type": "execute_result"
    }
   ],
   "source": [
    "def fib_rec(n):\n",
    "    if n == 0:\n",
    "        return 0\n",
    "    elif n == 1:\n",
    "        return 1\n",
    "    else:\n",
    "        return fib_rec(n-1) + fib_rec(n-2)\n",
    "\n",
    "fib_rec(5)"
   ]
  },
  {
   "cell_type": "markdown",
   "id": "3d0e0a20",
   "metadata": {},
   "source": [
    "### Palindrome"
   ]
  },
  {
   "cell_type": "code",
   "execution_count": 65,
   "id": "060c870f",
   "metadata": {},
   "outputs": [
    {
     "data": {
      "text/plain": "True"
     },
     "execution_count": 65,
     "metadata": {},
     "output_type": "execute_result"
    }
   ],
   "source": [
    "def pal_rec2(s):\n",
    "    if len(s) <= 1:\n",
    "        return True\n",
    "    else:\n",
    "        return s[0] == s[-1] and pal_rec2(s[1:-1])\n",
    "\n",
    "pal_rec2('anderedna')"
   ]
  },
  {
   "cell_type": "markdown",
   "id": "a7754af7",
   "metadata": {},
   "source": [
    "### Reverse Complement\n",
    "\n",
    "**ACCG**<br>TGGC<br><br>*CGGT*"
   ]
  },
  {
   "cell_type": "code",
   "execution_count": 66,
   "id": "da2a7973",
   "metadata": {},
   "outputs": [
    {
     "name": "stdout",
     "output_type": "stream",
     "text": [
      "string:\t\t\tACCG\n",
      "\n",
      "complement:\t\tTGGC\n",
      "reverse complement:\tCGGT\n"
     ]
    }
   ],
   "source": [
    "trans_table = {'A' : 'T',\n",
    "              'C': 'G',\n",
    "              'G': 'C',\n",
    "              'T': 'A'}\n",
    "\n",
    "def complement(s):\n",
    "    comp = ''\n",
    "    for c in s:\n",
    "        comp += trans_table[c]\n",
    "    return comp\n",
    "\n",
    "def reverse(s):\n",
    "    if len(s) <= 1:\n",
    "        return s\n",
    "    else:\n",
    "        return s[-1] + reverse(s[:-1])\n",
    "    \n",
    "#reverse(complement('ACCG'))\n",
    "string = 'ACCG'\n",
    "compl = complement(string)\n",
    "rev = reverse(compl)\n",
    "\n",
    "print(f'string:\\t\\t\\t{string}\\n\\ncomplement:\\t\\t{compl}\\nreverse complement:\\t{rev}')"
   ]
  },
  {
   "cell_type": "markdown",
   "id": "27d1a354",
   "metadata": {},
   "source": [
    "## Binary Search"
   ]
  },
  {
   "cell_type": "markdown",
   "id": "9d2602ba",
   "metadata": {},
   "source": [
    "Search for number `x` in an **Ordered Array** `arr`\n",
    "\n",
    "`def binary_search(arr, x)`"
   ]
  },
  {
   "cell_type": "code",
   "execution_count": 67,
   "id": "67a0babe",
   "metadata": {},
   "outputs": [
    {
     "data": {
      "text/plain": "True"
     },
     "execution_count": 67,
     "metadata": {},
     "output_type": "execute_result"
    }
   ],
   "source": [
    "'''\n",
    "BINARY-SEARCH(A, X)\n",
    "    if |A| = 0\n",
    "        return FALSE\n",
    "    else\n",
    "        if A[mid] = x then\n",
    "            return TRUE\n",
    "        else if A[mid] > x then\n",
    "            BINARY-SEARCH(A[1, ..., mid], x)\n",
    "        else\n",
    "            BINARY-SEARCH(A[mid, ..., |A|])\n",
    "'''\n",
    "\n",
    "def binary_search(A, x):\n",
    "    if len(A) == 0:\n",
    "        return False\n",
    "    else:\n",
    "        mid = len(A) // 2\n",
    "        return x == A[mid] or (binary_search(A[:mid], x) if A[mid] > x else binary_search(A[mid + 1:], x))\n",
    "\n",
    "arr = [1, 2, 4, 10, 60, 70]\n",
    "binary_search(arr, 60)"
   ]
  },
  {
   "cell_type": "markdown",
   "id": "b217e597",
   "metadata": {},
   "source": [
    "## Trees"
   ]
  },
  {
   "cell_type": "code",
   "execution_count": 68,
   "id": "a5e7d7c4",
   "metadata": {},
   "outputs": [],
   "source": [
    "FS = (\"/\", [ (\"bin\", []),\n",
    "               (\"usr\", []),\n",
    "               (\"etc\", []),\n",
    "               (\"users\", [(\"admin\", [(\"John\", []),\n",
    "                                        (\"Steve\", [])]),\n",
    "                         (\"staff\", []),\n",
    "                         (\"students\", [])]),\n",
    "               (\"lib\", [])])"
   ]
  },
  {
   "cell_type": "code",
   "execution_count": 69,
   "id": "aab9ce39",
   "metadata": {},
   "outputs": [
    {
     "name": "stdout",
     "output_type": "stream",
     "text": [
      "/\n",
      "└── bin\n",
      "    ├── etc\n",
      "    ├── lib\n",
      "    ├── users\n",
      "    │   ├── admin\n",
      "    │   │   ├── John\n",
      "    │   │   └── Steve\n",
      "    │   ├── staff\n",
      "    │   └── students\n",
      "    └── usr\n",
      "\n"
     ]
    }
   ],
   "source": [
    "from treelib import Node, Tree\n",
    "\n",
    "FStree = Tree()\n",
    "\n",
    "FStree.create_node(\"/\", \"/\")\n",
    "FStree.create_node(\"bin\",  \"bin\"   , parent=\"/\")\n",
    "FStree.create_node(\"usr\",  \"usr\"   , parent=\"bin\")\n",
    "FStree.create_node(\"etc\", \"etc\"  , parent=\"bin\")\n",
    "FStree.create_node(\"users\",  \"users\"   , parent=\"bin\")\n",
    "FStree.create_node(\"lib\",  \"lib\"   , parent=\"bin\")\n",
    "FStree.create_node(\"admin\",  \"admin\"   , parent=\"users\")\n",
    "FStree.create_node(\"John\",  \"john\"   , parent=\"admin\")\n",
    "FStree.create_node(\"Steve\", \"steve\"  , parent=\"admin\")\n",
    "FStree.create_node(\"staff\",  \"staff\"   , parent=\"users\")\n",
    "FStree.create_node(\"students\",  \"students\"   , parent=\"users\")\n",
    "\n",
    "FStree.show()"
   ]
  },
  {
   "cell_type": "markdown",
   "id": "138e0f77",
   "metadata": {},
   "source": [
    "* **1. Count Leaf Nodes**<br>\n",
    "If a node does not have any children, then it is a *leaf node*<br>\n",
    "Count how many *leaf nodes* there are in `FS`"
   ]
  },
  {
   "cell_type": "code",
   "execution_count": 70,
   "id": "d2ea7379",
   "metadata": {},
   "outputs": [
    {
     "data": {
      "text/plain": "8"
     },
     "execution_count": 70,
     "metadata": {},
     "output_type": "execute_result"
    }
   ],
   "source": [
    "def count_leaves(l):\n",
    "    _, children = l\n",
    "    if len(children) == 0:\n",
    "        return 1\n",
    "    else:\n",
    "        return sum([count_leaves(child) for child in children])\n",
    "\n",
    "count_leaves(FS)"
   ]
  },
  {
   "cell_type": "markdown",
   "source": [
    "# Homework"
   ],
   "metadata": {
    "collapsed": false
   }
  },
  {
   "cell_type": "markdown",
   "source": [
    "## 1. Power\n",
    "Write a recursive function power(a,b) that computes the value of the exponentiation a^b<br>\n",
    "Example:<br>power(2,3) = 8<br>power(5,4) = 625"
   ],
   "metadata": {
    "collapsed": false
   }
  },
  {
   "cell_type": "code",
   "execution_count": 1,
   "outputs": [
    {
     "data": {
      "text/plain": "625"
     },
     "execution_count": 1,
     "metadata": {},
     "output_type": "execute_result"
    }
   ],
   "source": [
    "# assuming that b >= 0\n",
    "def power(a, b):\n",
    "    if b == 0:\n",
    "        return 1\n",
    "    elif b == 1:\n",
    "        return a\n",
    "    else:\n",
    "        return a * power(a, b-1)\n",
    "\n",
    "power(5, 4)\n"
   ],
   "metadata": {
    "collapsed": false
   }
  },
  {
   "cell_type": "markdown",
   "source": [
    "# 2. Flatten\n",
    "\n",
    "Write a **recursive function** `flatten(list)` that takes a list of lists and returns a list with all the elements in the sub lists.\n",
    "Example:<br>\n",
    "`flatten([[1,2],\n",
    "[1,2,3],\n",
    "[4,5,6]])` => `[1,2,1,2,3,4,5,6]`<br>\n",
    "Also implement a **recursive function** `flatten_unique(list)` that takes a list of lists and return a list with all the unique elements in the sub lists. Example:<br>\n",
    "`flatten_unique([[1,2],\n",
    "[1,2,3],\n",
    "[4,5,6]])` => `[1,2,3,4,5,6]`<br>\n",
    "*Hint: to remove duplicates from a list L we can do L = list(set(L))*"
   ],
   "metadata": {
    "collapsed": false
   }
  },
  {
   "cell_type": "code",
   "execution_count": 41,
   "outputs": [
    {
     "data": {
      "text/plain": "[1, 2, 1, 2, 3, 4, 5, 6]"
     },
     "execution_count": 41,
     "metadata": {},
     "output_type": "execute_result"
    }
   ],
   "source": [
    "def flatten(l):\n",
    "    if len(l) <= 1:\n",
    "        return [e for e in l[0]]\n",
    "    else:\n",
    "        fl = flatten(l[:-1])\n",
    "        for e in l[-1]:\n",
    "            fl.append(e)\n",
    "        return fl\n",
    "\n",
    "flatten([[1,2],\n",
    "[1,2,3],\n",
    "[4,5,6]])"
   ],
   "metadata": {
    "collapsed": false
   }
  },
  {
   "cell_type": "code",
   "execution_count": 42,
   "outputs": [
    {
     "data": {
      "text/plain": "[1, 2, 3, 4, 5, 6]"
     },
     "execution_count": 42,
     "metadata": {},
     "output_type": "execute_result"
    }
   ],
   "source": [
    "def flatten_unique(l):\n",
    "    if len(l) <= 1:\n",
    "        return [e for e in l[0]]\n",
    "    else:\n",
    "        fl = list(flatten_unique(l[:-1]))\n",
    "        for e in l[-1]:\n",
    "            if e not in fl:\n",
    "                fl.append(e)\n",
    "        return fl\n",
    "\n",
    "flatten_unique([[1,2],\n",
    "[1,2,3],\n",
    "[4,5,6]])"
   ],
   "metadata": {
    "collapsed": false
   }
  },
  {
   "cell_type": "markdown",
   "source": [
    "# 3. Balanced Parenthesis\n",
    "Given a list of strings containing also opening and closing round parenthesis, write a **recursive function** that checks whether the parentheses are balanced in each string.<br>\n",
    "Example list: `[\"(a)\", \"(b()c\", \"dd(ee(ff))\", \"()()\", \")(\"]`\n",
    "Example print result:<br> (a):  True<br> (b()c: False<br> dd(ee(ff)): True<br> ()(): True<br> )(: False<br>\n",
    "*Hint:\n",
    "Your function could have the following signature:\n",
    "`def balanced(string, counter_of_opening_par, index_on_string)`*"
   ],
   "metadata": {
    "collapsed": false
   }
  },
  {
   "cell_type": "code",
   "execution_count": 97,
   "outputs": [],
   "source": [
    "def balanced(string, counter_of_opening_par, index_on_string):\n",
    "    c = counter_of_opening_par\n",
    "\n",
    "    if len(string) == 0:\n",
    "        return c == 0\n",
    "\n",
    "    elif index_on_string == len(string) - 1:\n",
    "        if string[-1] == '(':\n",
    "            c += 1\n",
    "        elif string[-1] == ')':\n",
    "            c -= 1\n",
    "        return c == 0\n",
    "\n",
    "    else:\n",
    "        i_open = string.find('(')\n",
    "        i_closed = string.find(')')\n",
    "        if i_open < i_closed and i_open != -1:\n",
    "            c += 1\n",
    "            return balanced(string[i_open+1:], c, 0)\n",
    "        elif i_closed != -1:\n",
    "            c -= 1\n",
    "            if c >= 0:\n",
    "                return balanced(string[i_closed+1:], c, 0)\n",
    "            else:\n",
    "                return False\n",
    "        else: return c == 0"
   ],
   "metadata": {
    "collapsed": false
   }
  },
  {
   "cell_type": "code",
   "execution_count": 102,
   "outputs": [
    {
     "name": "stdout",
     "output_type": "stream",
     "text": [
      "(a): True\n",
      "(b()c: False\n",
      "dd(ee(ff)): True\n",
      "()(): True\n",
      ")(: False\n",
      "()aa()(()(a)a): True\n"
     ]
    }
   ],
   "source": [
    "lst = [\"(a)\", \"(b()c\", \"dd(ee(ff))\", \"()()\", \")(\", '()aa()(()(a)a)']\n",
    "for s in lst:\n",
    "    print(f'{s}: {balanced(s, 0, 0)}')"
   ],
   "metadata": {
    "collapsed": false
   }
  }
 ],
 "metadata": {
  "kernelspec": {
   "display_name": "Python 3 (ipykernel)",
   "language": "python",
   "name": "python3"
  },
  "language_info": {
   "codemirror_mode": {
    "name": "ipython",
    "version": 3
   },
   "file_extension": ".py",
   "mimetype": "text/x-python",
   "name": "python",
   "nbconvert_exporter": "python",
   "pygments_lexer": "ipython3",
   "version": "3.10.6"
  }
 },
 "nbformat": 4,
 "nbformat_minor": 5
}

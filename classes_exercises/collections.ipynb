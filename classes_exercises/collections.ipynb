{
 "cells": [
  {
   "cell_type": "markdown",
   "id": "9390f7d0",
   "metadata": {},
   "source": [
    "# Collections"
   ]
  },
  {
   "cell_type": "markdown",
   "id": "47a2d48d",
   "metadata": {},
   "source": [
    "## Tuples\n",
    "<br>"
   ]
  },
  {
   "cell_type": "code",
   "execution_count": 15,
   "id": "583e4bba",
   "metadata": {},
   "outputs": [
    {
     "name": "stdout",
     "output_type": "stream",
     "text": [
      "('John', 'Andrew')\n",
      "John\n",
      "['Andrew', 'Mark']\n"
     ]
    }
   ],
   "source": [
    "my_tuple = (\"John\", \"Andrew\", \"Mark\")\n",
    "print(my_tuple[:2])\n",
    "name1, name2, name3 = my_tuple\n",
    "print(name1)\n",
    "name1, *name2 = my_tuple\n",
    "print(name2)"
   ]
  },
  {
   "cell_type": "code",
   "execution_count": 16,
   "id": "a841500e",
   "metadata": {},
   "outputs": [
    {
     "name": "stdout",
     "output_type": "stream",
     "text": [
      "John Andrew\n"
     ]
    }
   ],
   "source": [
    "name1, name2 = my_tuple[0:2]\n",
    "print(name1, name2)"
   ]
  },
  {
   "cell_type": "code",
   "execution_count": 14,
   "id": "8c9c9058",
   "metadata": {},
   "outputs": [
    {
     "name": "stdout",
     "output_type": "stream",
     "text": [
      "John\n",
      "Andrew\n",
      "Mark\n",
      "Found\n",
      "1\n",
      "1\n"
     ]
    }
   ],
   "source": [
    "for name in my_tuple:\n",
    "    print(name)\n",
    "if 'John' in my_tuple:\n",
    "    print('Found')\n",
    "\n",
    "print(my_tuple.count(\"Andrew\"))\n",
    "print(my_tuple.index(\"Andrew\"))"
   ]
  },
  {
   "cell_type": "markdown",
   "id": "12b626b0",
   "metadata": {},
   "source": [
    "## Lists\n",
    "<br>"
   ]
  },
  {
   "cell_type": "code",
   "execution_count": 29,
   "id": "11c6008e",
   "metadata": {},
   "outputs": [
    {
     "data": {
      "text/plain": [
       "['Max', 'Doe', 42]"
      ]
     },
     "execution_count": 29,
     "metadata": {},
     "output_type": "execute_result"
    }
   ],
   "source": [
    "L = [\"Max\", \"Doe\", 42]\n",
    "L"
   ]
  },
  {
   "cell_type": "code",
   "execution_count": 30,
   "id": "beaa780c",
   "metadata": {},
   "outputs": [
    {
     "name": "stdout",
     "output_type": "stream",
     "text": [
      "['Max', 'Doe', 42, 'Polimi']\n"
     ]
    }
   ],
   "source": [
    "L.append(\"Polimi\")\n",
    "print(L)\n",
    "L.remove('Polimi')"
   ]
  },
  {
   "cell_type": "code",
   "execution_count": 31,
   "id": "51990ac0",
   "metadata": {},
   "outputs": [
    {
     "data": {
      "text/plain": [
       "['Max', 'Doe', 'Unimi', 42]"
      ]
     },
     "execution_count": 31,
     "metadata": {},
     "output_type": "execute_result"
    }
   ],
   "source": [
    "L.insert(2, 'Unimi')\n",
    "L"
   ]
  },
  {
   "cell_type": "code",
   "execution_count": 33,
   "id": "23451d73",
   "metadata": {},
   "outputs": [
    {
     "data": {
      "text/plain": [
       "42"
      ]
     },
     "execution_count": 33,
     "metadata": {},
     "output_type": "execute_result"
    }
   ],
   "source": [
    "L.pop()"
   ]
  },
  {
   "cell_type": "code",
   "execution_count": 34,
   "id": "8cf40d37",
   "metadata": {},
   "outputs": [],
   "source": [
    "del L[2]"
   ]
  },
  {
   "cell_type": "code",
   "execution_count": 35,
   "id": "46aa8281",
   "metadata": {},
   "outputs": [
    {
     "data": {
      "text/plain": [
       "['Max', 'Doe']"
      ]
     },
     "execution_count": 35,
     "metadata": {},
     "output_type": "execute_result"
    }
   ],
   "source": [
    "L"
   ]
  },
  {
   "cell_type": "code",
   "execution_count": 38,
   "id": "a27ea0b1",
   "metadata": {},
   "outputs": [
    {
     "data": {
      "text/plain": [
       "['Max', 'Doe']"
      ]
     },
     "execution_count": 38,
     "metadata": {},
     "output_type": "execute_result"
    }
   ],
   "source": [
    "L2 = L.copy()\n",
    "L2"
   ]
  },
  {
   "cell_type": "code",
   "execution_count": 39,
   "id": "87e4b1a1",
   "metadata": {},
   "outputs": [
    {
     "data": {
      "text/plain": [
       "False"
      ]
     },
     "execution_count": 39,
     "metadata": {},
     "output_type": "execute_result"
    }
   ],
   "source": [
    "id(L) == id(L2)"
   ]
  },
  {
   "cell_type": "code",
   "execution_count": 50,
   "id": "3ac1cbd0",
   "metadata": {},
   "outputs": [
    {
     "data": {
      "text/plain": [
       "[1, 2, 3, 3, 4, 5]"
      ]
     },
     "execution_count": 50,
     "metadata": {},
     "output_type": "execute_result"
    }
   ],
   "source": [
    "L1 = [1, 2, 3]\n",
    "L2 = [3, 4, 5]\n",
    "L = L1 + L2\n",
    "L"
   ]
  },
  {
   "cell_type": "code",
   "execution_count": 43,
   "id": "f0af111a",
   "metadata": {},
   "outputs": [
    {
     "data": {
      "text/plain": [
       "[1, 2, 3, 3, 4, 5]"
      ]
     },
     "execution_count": 43,
     "metadata": {},
     "output_type": "execute_result"
    }
   ],
   "source": [
    "for el in L2:\n",
    "    L1.append(el)\n",
    "L1"
   ]
  },
  {
   "cell_type": "code",
   "execution_count": 45,
   "id": "9de44e02",
   "metadata": {},
   "outputs": [
    {
     "data": {
      "text/plain": [
       "[1, 2, 3, 3, 4, 5]"
      ]
     },
     "execution_count": 45,
     "metadata": {},
     "output_type": "execute_result"
    }
   ],
   "source": [
    "L1 = [1, 2, 3]\n",
    "L1.extend(L2)\n",
    "L1"
   ]
  },
  {
   "cell_type": "code",
   "execution_count": 46,
   "id": "8eca416e",
   "metadata": {},
   "outputs": [
    {
     "data": {
      "text/plain": [
       "2"
      ]
     },
     "execution_count": 46,
     "metadata": {},
     "output_type": "execute_result"
    }
   ],
   "source": [
    "L1.count(3)"
   ]
  },
  {
   "cell_type": "code",
   "execution_count": 51,
   "id": "d86baa49",
   "metadata": {},
   "outputs": [
    {
     "data": {
      "text/plain": [
       "[1, 3, 3, 5]"
      ]
     },
     "execution_count": 51,
     "metadata": {},
     "output_type": "execute_result"
    }
   ],
   "source": [
    "L.pop(1)\n",
    "L.remove(4)\n",
    "L"
   ]
  },
  {
   "cell_type": "code",
   "execution_count": 53,
   "id": "e51bcbc7",
   "metadata": {},
   "outputs": [
    {
     "data": {
      "text/plain": [
       "[5, 3, 3, 1]"
      ]
     },
     "execution_count": 53,
     "metadata": {},
     "output_type": "execute_result"
    }
   ],
   "source": [
    "L.reverse()\n",
    "L"
   ]
  },
  {
   "cell_type": "markdown",
   "id": "8a012f3c",
   "metadata": {},
   "source": [
    "## Sets\n",
    "<br>"
   ]
  },
  {
   "cell_type": "code",
   "execution_count": 54,
   "id": "898eaca1",
   "metadata": {},
   "outputs": [],
   "source": [
    "se = {\"A\", \"B\", \"C\"}"
   ]
  },
  {
   "cell_type": "code",
   "execution_count": 56,
   "id": "8d17cb97",
   "metadata": {},
   "outputs": [
    {
     "name": "stdout",
     "output_type": "stream",
     "text": [
      "C\n",
      "B\n",
      "A\n"
     ]
    }
   ],
   "source": [
    "for e in se:\n",
    "    print(e)"
   ]
  },
  {
   "cell_type": "code",
   "execution_count": 57,
   "id": "ac44bf59",
   "metadata": {},
   "outputs": [
    {
     "name": "stdout",
     "output_type": "stream",
     "text": [
      "Found\n"
     ]
    }
   ],
   "source": [
    "if \"A\" in se:\n",
    "    print(\"Found\")"
   ]
  },
  {
   "cell_type": "code",
   "execution_count": 60,
   "id": "80bce3ef",
   "metadata": {},
   "outputs": [
    {
     "data": {
      "text/plain": [
       "{'A', 'B', 'C', 'D'}"
      ]
     },
     "execution_count": 60,
     "metadata": {},
     "output_type": "execute_result"
    }
   ],
   "source": [
    "se.add(\"D\")\n",
    "se.add(\"C\")\n",
    "se"
   ]
  },
  {
   "cell_type": "code",
   "execution_count": 61,
   "id": "0d2b826d",
   "metadata": {},
   "outputs": [],
   "source": [
    "se.remove(\"D\")"
   ]
  },
  {
   "cell_type": "code",
   "execution_count": 63,
   "id": "4a98de16",
   "metadata": {},
   "outputs": [],
   "source": [
    "if \"D\" in se:\n",
    "    se.remove(\"D\")"
   ]
  },
  {
   "cell_type": "code",
   "execution_count": 69,
   "id": "333ab719",
   "metadata": {},
   "outputs": [
    {
     "name": "stdout",
     "output_type": "stream",
     "text": [
      "{1, 2, 3, 4, 5}\n",
      "{3}\n",
      "{1, 2}\n",
      "{1, 2, 4, 5}\n",
      "{1, 2, 3, 4, 5}\n"
     ]
    }
   ],
   "source": [
    "set1 = {1, 2, 3}\n",
    "set2 = {3, 4, 5}\n",
    "\n",
    "set3 = set1.union(set2)\n",
    "print(set3)\n",
    "\n",
    "set3 = set1.intersection(set2)\n",
    "print(set3)\n",
    "\n",
    "set3 = set1.difference(set2)\n",
    "print(set3)\n",
    "\n",
    "set3 = set1.symmetric_difference(set2)\n",
    "print(set3)\n",
    "\n",
    "set1.update(set2)\n",
    "print(set1)"
   ]
  },
  {
   "cell_type": "markdown",
   "id": "2c73880c",
   "metadata": {},
   "source": [
    "### Exercise\n",
    "Build the two sets of numbers in the range (0, 20) that are:<br>\n",
    "* multiple of 3<br>\n",
    "* multiple of 4\n",
    "\n",
    "Then, by using set methods, find:<br>\n",
    "* Numbers that are multiple of 3 OR 4<br>\n",
    "* Numbers that are multiple of 3 AND 4<br>\n",
    "* Numbers that are multiple of 3 AND NOT 4<br>\n",
    "* Numbers that are multiple of 3 XOR 4<br>"
   ]
  },
  {
   "cell_type": "code",
   "execution_count": 89,
   "id": "afb1982e",
   "metadata": {},
   "outputs": [
    {
     "name": "stdout",
     "output_type": "stream",
     "text": [
      "Multiples of 3: {3, 6, 9, 12, 15, 18}\n",
      "Multiples of 4: {4, 8, 12, 16, 20}\n",
      "\n",
      "Numbers that are multiple of 3 OR 4:  {3, 4, 6, 8, 9, 12, 15, 16, 18, 20}\n",
      "Numbers that are multiple of 3 AND 4:  {12}\n",
      "Numbers that are multiple of 3 AND NOT 4:  {3, 6, 9, 15, 18}\n",
      "Numbers that are multiple of 3 XOR 4:  {3, 4, 6, 8, 9, 15, 16, 18, 20}\n"
     ]
    }
   ],
   "source": [
    "# Building the two sets\n",
    "s3 = set()\n",
    "s4 = set()\n",
    "for n in range(1, 21):\n",
    "    if n % 3 == 0:\n",
    "        s3.add(n)\n",
    "    if n % 4 == 0:\n",
    "        s4.add(n)\n",
    "print(\"Multiples of 3:\", s3)\n",
    "print(\"Multiples of 4:\", s4)\n",
    "print()\n",
    "# Numbers that are multiple of 3 OR 4\n",
    "print(\"Numbers that are multiple of 3 OR 4: \", s3.union(s4))\n",
    "\n",
    "# Numbers that are multiple of 3 AND 4\n",
    "print(\"Numbers that are multiple of 3 AND 4: \", s3.intersection(s4))\n",
    "\n",
    "# Numbers that are multiple of 3 AND NOT 4\n",
    "print(\"Numbers that are multiple of 3 AND NOT 4: \", s3.difference(s4))\n",
    "\n",
    "# Numbers that are multiple of 3 XOR 4\n",
    "print(\"Numbers that are multiple of 3 XOR 4: \", s3.symmetric_difference(s4))"
   ]
  },
  {
   "cell_type": "markdown",
   "id": "7ff4c606",
   "metadata": {},
   "source": [
    "## Dictionaries\n",
    "<br>"
   ]
  },
  {
   "cell_type": "code",
   "execution_count": 96,
   "id": "1b487966",
   "metadata": {},
   "outputs": [],
   "source": [
    "name2mark = {\n",
    "    \"Joe\" : 30,\n",
    "    \"Averell\" : 22,\n",
    "    \"Jack\" : 27\n",
    "}"
   ]
  },
  {
   "cell_type": "code",
   "execution_count": 97,
   "id": "4713c52a",
   "metadata": {},
   "outputs": [
    {
     "data": {
      "text/plain": [
       "30"
      ]
     },
     "execution_count": 97,
     "metadata": {},
     "output_type": "execute_result"
    }
   ],
   "source": [
    "name2mark[\"Joe\"]"
   ]
  },
  {
   "cell_type": "code",
   "execution_count": 106,
   "id": "71c5490b",
   "metadata": {},
   "outputs": [
    {
     "name": "stdout",
     "output_type": "stream",
     "text": [
      "0 : 1\n",
      "1 : 5\n",
      "2 : 2\n",
      "3 : 1\n"
     ]
    }
   ],
   "source": [
    "l = [1, 2, 1, 0, 1, 3, 1, 1, 2]\n",
    "counter = {}\n",
    "for n in sorted(l):\n",
    "    if n in counter.keys():\n",
    "        counter[n] += 1\n",
    "    else:\n",
    "        counter[n] = 1\n",
    "\n",
    "for key in counter:\n",
    "    print(key, \":\", counter[key])"
   ]
  },
  {
   "cell_type": "code",
   "execution_count": 110,
   "id": "67d949f6",
   "metadata": {},
   "outputs": [
    {
     "name": "stdout",
     "output_type": "stream",
     "text": [
      "Cowboy\n",
      "Outlaw\n"
     ]
    }
   ],
   "source": [
    "my_dict = {\n",
    "    \"Joe\" : \"Outlaw\",\n",
    "    \"Averell\" : \"Outlaw\",\n",
    "    \"Jack\" : \"Cowboy\"\n",
    "}\n",
    "\n",
    "print(my_dict[\"Jack\"])\n",
    "my_dict[\"Jack\"] = \"Outlaw\"\n",
    "print(my_dict[\"Jack\"])"
   ]
  },
  {
   "cell_type": "code",
   "execution_count": 112,
   "id": "52537a92",
   "metadata": {},
   "outputs": [
    {
     "name": "stdout",
     "output_type": "stream",
     "text": [
      "Joe\n",
      "Averell\n",
      "Jack\n"
     ]
    }
   ],
   "source": [
    "for i in my_dict.keys():\n",
    "    print(i)"
   ]
  },
  {
   "cell_type": "code",
   "execution_count": 113,
   "id": "f04e521e",
   "metadata": {},
   "outputs": [
    {
     "name": "stdout",
     "output_type": "stream",
     "text": [
      "Outlaw\n",
      "Outlaw\n",
      "Outlaw\n"
     ]
    }
   ],
   "source": [
    "for i in my_dict.values():\n",
    "    print(i)"
   ]
  },
  {
   "cell_type": "code",
   "execution_count": 114,
   "id": "0e507930",
   "metadata": {},
   "outputs": [
    {
     "name": "stdout",
     "output_type": "stream",
     "text": [
      "Joe Outlaw\n",
      "Averell Outlaw\n",
      "Jack Outlaw\n"
     ]
    }
   ],
   "source": [
    "for k, v in my_dict.items():\n",
    "    print(k, v)"
   ]
  },
  {
   "cell_type": "code",
   "execution_count": 115,
   "id": "805c4e4f",
   "metadata": {},
   "outputs": [
    {
     "name": "stdout",
     "output_type": "stream",
     "text": [
      "dict_items([('Joe', 'Outlaw'), ('Averell', 'Outlaw'), ('Jack', 'Outlaw')])\n"
     ]
    }
   ],
   "source": [
    "print(my_dict.items())"
   ]
  },
  {
   "cell_type": "code",
   "execution_count": 118,
   "id": "5add3dd6",
   "metadata": {},
   "outputs": [
    {
     "name": "stdout",
     "output_type": "stream",
     "text": [
      "{'Joe': 'Outlaw', 'Averell': 'Outlaw', 'Jack': 'Outlaw', 'Kate': 'Student'}\n"
     ]
    }
   ],
   "source": [
    "my_dict[\"Kate\"] = \"Student\"\n",
    "print(my_dict)"
   ]
  },
  {
   "cell_type": "markdown",
   "id": "8b4ccad8",
   "metadata": {},
   "source": [
    "### Exercise\n",
    "Consider a piece of text:<br>\n",
    "\"She was young the way an actual young person is young\"<br>\n",
    "First represent it as a list of words;<br>\n",
    "Then, using a dictionary provide an answer to the following questions:<br>\n",
    "* How many distinct words are present in the text?<br>\n",
    "* What is the most frequent word and how many times does it appear?"
   ]
  },
  {
   "cell_type": "code",
   "execution_count": 125,
   "id": "74f609f6",
   "metadata": {},
   "outputs": [
    {
     "name": "stdout",
     "output_type": "stream",
     "text": [
      "['She', 'was', 'young', 'the', 'way', 'an', 'actual', 'young', 'person', 'is', 'young', 'the', 'the']\n",
      "\n",
      "In the text there are 9 words\n",
      "\n",
      "The most frequent word is young and it appears 3 times\n",
      "The most frequent word is young and it appears 3 times\n",
      "The most frequent word is the and it appears 3 times\n"
     ]
    }
   ],
   "source": [
    "s = \"She was young the way an actual young person is young the the\"\n",
    "\n",
    "# list of words\n",
    "l = s.split()\n",
    "print(l)\n",
    "\n",
    "# create a \"histogram\" dictionary\n",
    "mydict = {}\n",
    "for word in l:\n",
    "    if word in mydict.keys():\n",
    "        mydict[word] += 1\n",
    "    else:\n",
    "        mydict[word] = 1\n",
    "\n",
    "print()\n",
    "# How many distinct words are present in the text?\n",
    "print(\"In the text there are\", len(mydict), \"words\")\n",
    "\n",
    "print()\n",
    "# What is the most frequent word and how many times does it appear?\n",
    "currMax_value = 0\n",
    "currMax_word = None\n",
    "for k, v in mydict.items():\n",
    "    if v > currMax_value:\n",
    "        currMax_value = v\n",
    "        currMax_word = k\n",
    "print(\"The most frequent word is\", currMax_word, \"and it appears\", currMax_value, \"times\")\n",
    "# OR\n",
    "curr_max = max(mydict.values())\n",
    "for k, v in mydict.items():\n",
    "    if v == curr_max:\n",
    "        print(\"The most frequent word is\", k, \"and it appears\", v, \"times\")"
   ]
  },
  {
   "cell_type": "code",
   "execution_count": null,
   "id": "46bc6d90",
   "metadata": {},
   "outputs": [],
   "source": []
  }
 ],
 "metadata": {
  "kernelspec": {
   "display_name": "Python 3 (ipykernel)",
   "language": "python",
   "name": "python3"
  },
  "language_info": {
   "codemirror_mode": {
    "name": "ipython",
    "version": 3
   },
   "file_extension": ".py",
   "mimetype": "text/x-python",
   "name": "python",
   "nbconvert_exporter": "python",
   "pygments_lexer": "ipython3",
   "version": "3.10.6"
  }
 },
 "nbformat": 4,
 "nbformat_minor": 5
}

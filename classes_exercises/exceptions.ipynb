{
 "cells": [
  {
   "cell_type": "markdown",
   "id": "e6d45d29",
   "metadata": {},
   "source": [
    "# Exceptions"
   ]
  },
  {
   "cell_type": "code",
   "execution_count": 3,
   "id": "d4909919",
   "metadata": {},
   "outputs": [
    {
     "name": "stdout",
     "output_type": "stream",
     "text": [
      "Something else happened\n",
      "Working both cases. Closing here!\n"
     ]
    }
   ],
   "source": [
    "import sys\n",
    "\n",
    "numerator = 10\n",
    "denominator = '5'\n",
    "\n",
    "try:\n",
    "    result = numerator / denominator\n",
    "except ZeroDivisionError:\n",
    "    result = numerator / (denominator + sys.float_info.epsilon)\n",
    "except NameError as e:\n",
    "    print('This error cannot be solved: ', e)\n",
    "except:\n",
    "    print('Something else happened')\n",
    "else:\n",
    "    print('Nothing bad happened')\n",
    "    print(result)\n",
    "finally:\n",
    "    print('Working both cases. Closing here!')"
   ]
  },
  {
   "cell_type": "code",
   "execution_count": 6,
   "id": "653269a3",
   "metadata": {},
   "outputs": [
    {
     "name": "stdout",
     "output_type": "stream",
     "text": [
      "Input a number: 4\n",
      "An input was asked to the user\n"
     ]
    }
   ],
   "source": [
    "try:\n",
    "    x = int(input('Input a number: '))\n",
    "except ValueError:\n",
    "    print('Not valid number! Try again... ')\n",
    "    exit(-1)\n",
    "finally:\n",
    "    print('An input was asked to the user')"
   ]
  },
  {
   "cell_type": "code",
   "execution_count": 14,
   "id": "0cdf6163",
   "metadata": {},
   "outputs": [
    {
     "name": "stdout",
     "output_type": "stream",
     "text": [
      "Something went wrong when reading\n",
      "Something went wrong when writing\n"
     ]
    }
   ],
   "source": [
    "try:\n",
    "    f = open('demofile.txt', 'r')\n",
    "    try:\n",
    "        f.write('lorem ipsum')\n",
    "    except:\n",
    "        print('Something went wrong when writing')\n",
    "except:\n",
    "    print('Something went wrong when reading')\n",
    "    \n",
    "try:\n",
    "    f = open('hello.py', 'r')\n",
    "    try:\n",
    "        f.write('lorem ipsum')\n",
    "    except:\n",
    "        print('Something went wrong when writing')\n",
    "except:\n",
    "    print('Something went wrong when reading')"
   ]
  },
  {
   "cell_type": "code",
   "execution_count": 22,
   "id": "bb7ce3c2",
   "metadata": {},
   "outputs": [
    {
     "name": "stdout",
     "output_type": "stream",
     "text": [
      "Insert a number: -5\n",
      "Error: wrong input bitch\n"
     ]
    }
   ],
   "source": [
    "class MyException(Exception):\n",
    "    def __init__(self, msg):\n",
    "        self.message = msg\n",
    "\n",
    "x = int(input('Insert a number: '))\n",
    "\n",
    "try:\n",
    "    if x < 0:\n",
    "        raise MyException('wrong input bitch')\n",
    "except MyException as e:\n",
    "    print(f'Error: {e}')"
   ]
  },
  {
   "cell_type": "markdown",
   "id": "1c667a91",
   "metadata": {},
   "source": [
    "<br><br>"
   ]
  },
  {
   "cell_type": "markdown",
   "id": "22ea0acb",
   "metadata": {},
   "source": [
    "## Exercise - Multimedia Files"
   ]
  },
  {
   "cell_type": "code",
   "execution_count": null,
   "id": "e817e29b",
   "metadata": {},
   "outputs": [],
   "source": [
    "Class File:\n",
    "    def __init__(self, name, size):\n",
    "        self.name = name\n",
    "        self.size = size\n",
    "    def __str__(self):\n",
    "        return f'name = {self.name} and size = {self.size}'\n",
    "\n",
    "class Text(File):\n",
    "    def __init__(self, name, size):\n",
    "        super().__init__name, size\n",
    "    \n",
    "    #def printtext(self, text):\n",
    "        "
   ]
  },
  {
   "cell_type": "code",
   "execution_count": null,
   "id": "0b8d7bfd",
   "metadata": {},
   "outputs": [],
   "source": []
  }
 ],
 "metadata": {
  "kernelspec": {
   "display_name": "Python 3 (ipykernel)",
   "language": "python",
   "name": "python3"
  },
  "language_info": {
   "codemirror_mode": {
    "name": "ipython",
    "version": 3
   },
   "file_extension": ".py",
   "mimetype": "text/x-python",
   "name": "python",
   "nbconvert_exporter": "python",
   "pygments_lexer": "ipython3",
   "version": "3.10.6"
  }
 },
 "nbformat": 4,
 "nbformat_minor": 5
}

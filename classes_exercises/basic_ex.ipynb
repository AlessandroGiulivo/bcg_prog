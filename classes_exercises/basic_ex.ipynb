{
 "cells": [
  {
   "cell_type": "markdown",
   "id": "df8e6614",
   "metadata": {},
   "source": [
    "### Some Basic Exercises"
   ]
  },
  {
   "cell_type": "code",
   "execution_count": 3,
   "id": "70384aae",
   "metadata": {},
   "outputs": [],
   "source": [
    "name = 'Sara'\n",
    "city = 'Milan'\n",
    "country = 'Italy'\n",
    "\n",
    "print(f'{name} lives in {city}, {country}.')"
   ]
  },
  {
   "cell_type": "code",
   "execution_count": 9,
   "id": "11aaa1ad",
   "metadata": {},
   "outputs": [],
   "source": [
    "cartoon = 'Smurfs'\n",
    "age = 100\n",
    "height = 6.7\n",
    "are_blue = True"
   ]
  },
  {
   "cell_type": "code",
   "execution_count": 11,
   "id": "081bacb4",
   "metadata": {},
   "outputs": [
    {
     "name": "stdout",
     "output_type": "stream",
     "text": [
      "Type of cartoon <class 'str'>\n",
      "Type of age <class 'int'>\n",
      "Type of height <class 'float'>\n",
      "Type of are_blue <class 'bool'>\n"
     ]
    }
   ],
   "source": [
    "print('Type of cartoon', type(cartoon))\n",
    "print('Type of age', type(age))\n",
    "print('Type of height', type(height))\n",
    "print('Type of are_blue', type(are_blue))"
   ]
  },
  {
   "cell_type": "code",
   "execution_count": 14,
   "id": "8cba1406",
   "metadata": {},
   "outputs": [
    {
     "name": "stdout",
     "output_type": "stream",
     "text": [
      "What is your favourite color? red\n",
      "My favourite color is red\n",
      "My favourite color is red\n"
     ]
    }
   ],
   "source": [
    "fav_color = input('What is your favourite color? ')\n",
    "print(f'My favourite color is {fav_color}')\n",
    "print('My favourite color is %s'%fav_color)"
   ]
  },
  {
   "cell_type": "code",
   "execution_count": 15,
   "id": "aca68dd6",
   "metadata": {},
   "outputs": [
    {
     "data": {
      "text/plain": [
       "3.666666666666666"
      ]
     },
     "execution_count": 15,
     "metadata": {},
     "output_type": "execute_result"
    }
   ],
   "source": [
    "2+2*4/3-1"
   ]
  },
  {
   "cell_type": "code",
   "execution_count": 16,
   "id": "10043480",
   "metadata": {},
   "outputs": [
    {
     "name": "stdout",
     "output_type": "stream",
     "text": [
      "My result is:  64\n"
     ]
    }
   ],
   "source": [
    "v = 2\n",
    "result = v + 4**3 - (((5//2) * 7) % 4)\n",
    "\n",
    "print('My result is: ', result)"
   ]
  },
  {
   "cell_type": "code",
   "execution_count": null,
   "id": "9cfa671b",
   "metadata": {},
   "outputs": [],
   "source": [
    "a = abs(float(input('Please, provide a number \\\n",
    "If negative I will provide the absolute value')))\n",
    "print('Here it is: ', a)"
   ]
  },
  {
   "cell_type": "code",
   "execution_count": 19,
   "id": "c0429b4b",
   "metadata": {},
   "outputs": [
    {
     "name": "stdout",
     "output_type": "stream",
     "text": [
      "Provide a number4\n",
      "Provide a number7\n",
      "Provide a number1\n",
      "The minimum is:  1\n"
     ]
    }
   ],
   "source": [
    "a = int(input('Provide a number'))\n",
    "b = int(input('Provide a number'))\n",
    "c= int(input('Provide a number'))\n",
    "\n",
    "print('The minimum is: ', min(a, b, c))"
   ]
  },
  {
   "cell_type": "code",
   "execution_count": 24,
   "id": "039de964",
   "metadata": {},
   "outputs": [
    {
     "name": "stdout",
     "output_type": "stream",
     "text": [
      "Provide a name anna\n",
      "Provide a name giulia\n",
      "Is a different from b? Answer: True\n"
     ]
    }
   ],
   "source": [
    "a = input('Provide a name ')\n",
    "b = input('Provide a name ')\n",
    "\n",
    "print('Is a different from b? Answer:', a != b)"
   ]
  },
  {
   "cell_type": "code",
   "execution_count": 28,
   "id": "bd4b68c9",
   "metadata": {},
   "outputs": [
    {
     "name": "stdout",
     "output_type": "stream",
     "text": [
      "2 2 2 4\n",
      "2 14 4\n"
     ]
    }
   ],
   "source": [
    "#multiple assignment\n",
    "a = b = 2\n",
    "c, d = a, 4\n",
    "print(a, b, c, d)\n",
    "\n",
    "x, y, z = a, b*7, c+a\n",
    "print(x, y, z)"
   ]
  },
  {
   "cell_type": "code",
   "execution_count": 29,
   "id": "2bc4aece",
   "metadata": {},
   "outputs": [
    {
     "name": "stdout",
     "output_type": "stream",
     "text": [
      "2\n"
     ]
    }
   ],
   "source": [
    "x = 2\n",
    "if x > 0:\n",
    "    print(x)\n",
    "else:\n",
    "    print(0)"
   ]
  },
  {
   "cell_type": "code",
   "execution_count": 30,
   "id": "75044224",
   "metadata": {},
   "outputs": [
    {
     "name": "stdout",
     "output_type": "stream",
     "text": [
      "x is greater than 0\n"
     ]
    }
   ],
   "source": [
    "x = 2\n",
    "if x < 0:\n",
    "    print('x is less than 0')\n",
    "elif x > 0:\n",
    "    print('x is greater than 0')\n",
    "else:\n",
    "    print('x is equal to 0')"
   ]
  },
  {
   "cell_type": "code",
   "execution_count": 3,
   "id": "56c0418a",
   "metadata": {},
   "outputs": [
    {
     "name": "stdout",
     "output_type": "stream",
     "text": [
      "Please, insert your year of birth: 2000\n",
      "\n",
      "Proceeding to registration...\n"
     ]
    }
   ],
   "source": [
    "from sys import exit\n",
    "\n",
    "CURRENT_YEAR = 2022\n",
    "\n",
    "year = input('Please, insert your year of birth: ')\n",
    "\n",
    "if not(year.isnumeric()) or int(year) > CURRENT_YEAR:\n",
    "    print('\\nError: not valid input')\n",
    "    exit(-1)\n",
    "\n",
    "age = CURRENT_YEAR - int(year)\n",
    "\n",
    "if age <= 14:\n",
    "    print('\\nYou are too young to register')\n",
    "elif age <= 18:\n",
    "    print('\\nYou need parent authorization to register')\n",
    "else:\n",
    "    print('\\nProceeding to registration...')"
   ]
  },
  {
   "cell_type": "markdown",
   "id": "2b6561e1",
   "metadata": {},
   "source": [
    "\n",
    "\n",
    "\n"
   ]
  },
  {
   "cell_type": "markdown",
   "id": "e018430b",
   "metadata": {},
   "source": [
    "## Exercise 5\n",
    "\n",
    "Write a program that reads the grade (0-100) of a student, then prints out:\n",
    "\n",
    "· \"A\" if it is greater than or equal to 90;\n",
    "\n",
    "· \"B\" if its between 89 - 80;\n",
    "\n",
    "· \"C\" if its between 79 - 60;\n",
    "\n",
    "· \"D\" if its between 59 - 40;\n",
    "\n",
    "· \"F\" otherwise."
   ]
  },
  {
   "cell_type": "code",
   "execution_count": 12,
   "id": "324af2f1",
   "metadata": {},
   "outputs": [
    {
     "name": "stdout",
     "output_type": "stream",
     "text": [
      "Please, insert grade (0-100): 55\n",
      "The grade is: D\n"
     ]
    }
   ],
   "source": [
    "from sys import exit\n",
    "\n",
    "grade = input('Please, insert grade (0-100): ')\n",
    "\n",
    "if not grade.isnumeric() or int(grade) > 100 or int(grade) < 0:\n",
    "    print('\\nError: not valid input')\n",
    "    exit(-1)\n",
    "    \n",
    "grade = int(grade)\n",
    "if grade >= 90 and grade <= 100:\n",
    "    print(\"The grade is: A\")\n",
    "elif grade >= 80 and grade <= 89:\n",
    "    print(\"The grade is: B\")\n",
    "elif grade >= 60 and grade <= 79:\n",
    "    print(\"The grade is: C\")\n",
    "elif grade >= 40 and grade <= 59:\n",
    "    print(\"The grade is: D\")\n",
    "else: print(\"The grade is: F\")"
   ]
  },
  {
   "cell_type": "markdown",
   "id": "c3820fc8",
   "metadata": {},
   "source": [
    "    "
   ]
  },
  {
   "cell_type": "markdown",
   "id": "645f1d52",
   "metadata": {},
   "source": [
    "## Exercise 6\n",
    "\n",
    "Convert time in seconds to year, months, days, hours, minutes and seconds\n",
    "\n",
    "Example inputs: 233726582\n",
    "\n",
    "Output: 7 years 6 months 5 days 4 hours 3 minutes 2 seconds\n",
    "\n",
    "Example inputs: 15998582\n",
    "\n",
    "Output: 6 months 5 days 4 hours 3 minutes 2 seconds\n",
    "\n",
    "Example inputs: 446582\n",
    "\n",
    "Output: 5 days 4 hours 3 minutes 2 seconds\n",
    "\n",
    "Example inputs: 182\n",
    "\n",
    "Output: 3 minutes 2 seconds\n",
    "\n",
    "Assume that:\n",
    "\n",
    "1 month is 30 days so 1 year is 360 days"
   ]
  },
  {
   "cell_type": "code",
   "execution_count": 30,
   "id": "c1881451",
   "metadata": {},
   "outputs": [
    {
     "name": "stdout",
     "output_type": "stream",
     "text": [
      "Plese, insert time (in seconds): 8654599\n",
      "3 months, 10 days, 4 hours, 3 minutes and 19 seconds"
     ]
    }
   ],
   "source": [
    "from sys import exit\n",
    "\n",
    "seconds = input('Plese, insert time (in seconds): ')\n",
    "\n",
    "if not seconds.isnumeric() or int(seconds) < 0:\n",
    "    print('\\nError: not valid input')\n",
    "    exit(-1)\n",
    "\n",
    "seconds = int(seconds)\n",
    "\n",
    "years = seconds // 360 // 24 // 60 // 60\n",
    "seconds = seconds % (360*24*60*60)\n",
    "months = seconds // 30 // 24 // 60 // 60\n",
    "seconds = seconds % (30*24*60*60)\n",
    "days = seconds // 24 // 60 // 60\n",
    "seconds = seconds % (24*60*60)\n",
    "hours = seconds // 60 // 60\n",
    "seconds = seconds % (60*60)\n",
    "minutes = seconds // 60\n",
    "seconds = seconds % 60\n",
    "\n",
    "if years > 0:\n",
    "    print(years, \"years, \", end = '')\n",
    "if months > 0:\n",
    "    print(months, \"months, \", end = '')\n",
    "if days > 0:\n",
    "    print(days, \"days, \", end = '')\n",
    "if hours > 0:\n",
    "    print(hours, \"hours, \", end = '')\n",
    "if minutes > 0:\n",
    "    print(minutes, \"minutes and \", end = '')\n",
    "if seconds > 0:\n",
    "    print(seconds, \"seconds\", end = '')"
   ]
  },
  {
   "cell_type": "code",
   "execution_count": 4,
   "id": "f611e8e0",
   "metadata": {},
   "outputs": [
    {
     "name": "stdout",
     "output_type": "stream",
     "text": [
      "insert a positive number8654599\n",
      "the time is 100 days, 4 hours, 3 minutes and 19 seconds\n"
     ]
    }
   ],
   "source": [
    "## Solution\n",
    "\n",
    "inp = input('insert a positive number')\n",
    "\n",
    "if inp.isnumeric():\n",
    "    full_seconds = int(inp)\n",
    "    seconds = full_seconds % 60\n",
    "    full_minutes = full_seconds // 60\n",
    "    if full_minutes == 0:\n",
    "        print('the time is', seconds, 'seconds')\n",
    "    else:\n",
    "        minutes = full_minutes % 60\n",
    "        full_hours = full_minutes // 60\n",
    "        if full_hours == 0:\n",
    "            print('the time is', minutes, 'minutes and', seconds, 'seconds')\n",
    "        else:\n",
    "            hours = full_hours % 24\n",
    "            full_days = full_hours // 24\n",
    "            if full_days == 0:\n",
    "                print('the time is', hours, 'hours,', minutes, 'minutes and', seconds, 'seconds')\n",
    "            else:\n",
    "                print('the time is', full_days, 'days,', hours, 'hours,', minutes, 'minutes and', seconds, 'seconds')\n",
    "#               ..........\n",
    "#               ..........\n",
    "#               ..........\n",
    "else:\n",
    "    print('please insert positive num')"
   ]
  }
 ],
 "metadata": {
  "kernelspec": {
   "display_name": "Python 3 (ipykernel)",
   "language": "python",
   "name": "python3"
  },
  "language_info": {
   "codemirror_mode": {
    "name": "ipython",
    "version": 3
   },
   "file_extension": ".py",
   "mimetype": "text/x-python",
   "name": "python",
   "nbconvert_exporter": "python",
   "pygments_lexer": "ipython3",
   "version": "3.10.6"
  }
 },
 "nbformat": 4,
 "nbformat_minor": 5
}

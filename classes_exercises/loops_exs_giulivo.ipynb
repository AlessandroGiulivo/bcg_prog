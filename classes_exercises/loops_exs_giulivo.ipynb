{
 "cells": [
  {
   "cell_type": "markdown",
   "id": "e9920605",
   "metadata": {},
   "source": [
    "# Exercises on Loops\n",
    "<br>"
   ]
  },
  {
   "cell_type": "markdown",
   "id": "2fdab9f9",
   "metadata": {},
   "source": [
    "## First Prime Number after N\n",
    "Write a program that finds the first prime number after a number N."
   ]
  },
  {
   "cell_type": "code",
   "execution_count": 2,
   "id": "825ff474",
   "metadata": {},
   "outputs": [
    {
     "name": "stdout",
     "output_type": "stream",
     "text": [
      "Please, insert a positive number: 3\n",
      "\n",
      "The first prime number after 3 is 5\n"
     ]
    }
   ],
   "source": [
    "N = input('Please, insert a positive number: ')\n",
    "\n",
    "if not N.isnumeric():\n",
    "    print(\"Error: you didn't insert a positive number\")\n",
    "else:\n",
    "    prime = int(N) + 1\n",
    "    div = 2\n",
    "    while div < prime // 2 + 1:\n",
    "        if prime % div == 0:\n",
    "            prime += 1\n",
    "            div = 2\n",
    "        else:\n",
    "            div += 1\n",
    "    print(\"\\nThe first prime number after\", N, \"is\", prime)"
   ]
  },
  {
   "cell_type": "markdown",
   "id": "cfb404a3",
   "metadata": {},
   "source": [
    "<br>"
   ]
  },
  {
   "cell_type": "markdown",
   "id": "6f4ba926",
   "metadata": {},
   "source": [
    "## Palindromic Number\n",
    "Check if a number is a palindrome:<br>\n",
    "12321 -> True<br>\n",
    "12345 -> False"
   ]
  },
  {
   "cell_type": "code",
   "execution_count": 2,
   "id": "8242ce50",
   "metadata": {},
   "outputs": [
    {
     "name": "stdout",
     "output_type": "stream",
     "text": [
      "Please, insert a number: 123454321\n",
      "It is a palindrome!\n"
     ]
    }
   ],
   "source": [
    "number = input('Please, insert a number: ')\n",
    "reverse = \"\"\n",
    "\n",
    "for digit in number:\n",
    "    reverse = digit + reverse\n",
    "\n",
    "if reverse == number:\n",
    "    print('It is a palindrome!')\n",
    "else:\n",
    "    print('It is not a palindrome')"
   ]
  },
  {
   "cell_type": "markdown",
   "id": "72e92eea",
   "metadata": {},
   "source": [
    "<br>"
   ]
  },
  {
   "cell_type": "markdown",
   "id": "6bef64cb",
   "metadata": {},
   "source": [
    "## Farfallino Alphabet\n",
    "Given a world, substitute vowels with “vowel + f + vowel”"
   ]
  },
  {
   "cell_type": "code",
   "execution_count": 3,
   "id": "59f7f755",
   "metadata": {},
   "outputs": [
    {
     "name": "stdout",
     "output_type": "stream",
     "text": [
      "Please, insert a word: longandweirdword\n",
      "\n",
      "lofongafandwefeifirdwoford\n"
     ]
    }
   ],
   "source": [
    "word = input('Please, insert a word: ')\n",
    "farf_word = \"\"\n",
    "\n",
    "for c in word:\n",
    "    if c.lower() == 'a' or c.lower() == 'e' or c.lower() == 'i' or c.lower() == 'o' or c.lower() == 'u':\n",
    "        farf_word += c + 'f' + c\n",
    "    else:\n",
    "        farf_word += c\n",
    "        \n",
    "print()\n",
    "print(farf_word)"
   ]
  },
  {
   "cell_type": "markdown",
   "id": "ee7f10d2",
   "metadata": {},
   "source": [
    "<br>"
   ]
  },
  {
   "cell_type": "markdown",
   "id": "0f55cc1a",
   "metadata": {},
   "source": [
    "## Multiplication Table\n",
    "Write a program that prints the multiplication table of the numbers 1, 2, ..., 10"
   ]
  },
  {
   "cell_type": "code",
   "execution_count": 4,
   "id": "f5c65d81",
   "metadata": {},
   "outputs": [
    {
     "name": "stdout",
     "output_type": "stream",
     "text": [
      "   1   2   3   4   5   6   7   8   9  10\n",
      "   2   4   6   8  10  12  14  16  18  20\n",
      "   3   6   9  12  15  18  21  24  27  30\n",
      "   4   8  12  16  20  24  28  32  36  40\n",
      "   5  10  15  20  25  30  35  40  45  50\n",
      "   6  12  18  24  30  36  42  48  54  60\n",
      "   7  14  21  28  35  42  49  56  63  70\n",
      "   8  16  24  32  40  48  56  64  72  80\n",
      "   9  18  27  36  45  54  63  72  81  90\n",
      "  10  20  30  40  50  60  70  80  90 100\n"
     ]
    }
   ],
   "source": [
    "# did it in class \n",
    "N = 1\n",
    "while N <= 10:\n",
    "    M = 1\n",
    "    while M <= 10:\n",
    "        print('{:4d}'.format(N*M), end = '')\n",
    "        M += 1\n",
    "    print()\n",
    "    N += 1"
   ]
  },
  {
   "cell_type": "markdown",
   "id": "64cd166e",
   "metadata": {},
   "source": [
    "<br>"
   ]
  },
  {
   "cell_type": "markdown",
   "id": "040791da",
   "metadata": {},
   "source": [
    "## Pyramid\n",
    "Print the following pattern, up to a number N<br>\n",
    "1<br>\n",
    "2 2<br>\n",
    "3 3 3<br>\n",
    "4 4 4 4<br>\n",
    "5 5 5 5 5<br>\n",
    "..."
   ]
  },
  {
   "cell_type": "code",
   "execution_count": 5,
   "id": "8c7c8d6c",
   "metadata": {},
   "outputs": [
    {
     "name": "stdout",
     "output_type": "stream",
     "text": [
      "Please, insert a number N: 9\n",
      "\n",
      "1 \n",
      "2 2 \n",
      "3 3 3 \n",
      "4 4 4 4 \n",
      "5 5 5 5 5 \n",
      "6 6 6 6 6 6 \n",
      "7 7 7 7 7 7 7 \n",
      "8 8 8 8 8 8 8 8 \n",
      "9 9 9 9 9 9 9 9 9 \n"
     ]
    }
   ],
   "source": [
    "N = int(input('Please, insert a number N: '))\n",
    "print()\n",
    "for n in range(1, N + 1):\n",
    "    print((str(n) + ' ')* n)"
   ]
  },
  {
   "cell_type": "markdown",
   "id": "fdcbd1ca",
   "metadata": {},
   "source": [
    "<br>"
   ]
  },
  {
   "cell_type": "markdown",
   "id": "e657e941",
   "metadata": {},
   "source": [
    "## Vowel Histogram\n",
    "Write a program that takes as input a sequence and prints the (horizontal) histrogram of the vowels.<br>\n",
    "Example:<br>\n",
    "input: this is the sentence<br>\n",
    "a:<br>\n",
    "e: ***<br>\n",
    "i: **<br>\n",
    "o:<br>\n",
    "u:"
   ]
  },
  {
   "cell_type": "code",
   "execution_count": 6,
   "id": "043933d6",
   "metadata": {},
   "outputs": [
    {
     "name": "stdout",
     "output_type": "stream",
     "text": [
      "Please, insert a sentence: Eleven numbers and five apples\n",
      "\n",
      "a: **\n",
      "e: ******\n",
      "i: *\n",
      "o: \n",
      "u: *\n"
     ]
    }
   ],
   "source": [
    "word = input('Please, insert a sentence: ')\n",
    "print()\n",
    "\n",
    "a = 0\n",
    "e = 0\n",
    "i = 0\n",
    "o = 0\n",
    "u = 0\n",
    "for c in word:\n",
    "    if c.lower() == 'a':\n",
    "        a += 1\n",
    "    elif c.lower() == 'e':\n",
    "        e += 1\n",
    "    elif c.lower() == 'i':\n",
    "        i += 1\n",
    "    elif c.lower() == 'o':\n",
    "        o += 1\n",
    "    elif c.lower() == 'u':\n",
    "        u += 1\n",
    "print('a:', '*'*a)\n",
    "print('e:', '*'*e)\n",
    "print('i:', '*'*i)\n",
    "print('o:', '*'*o)\n",
    "print('u:', '*'*u)"
   ]
  },
  {
   "cell_type": "code",
   "execution_count": null,
   "id": "77336bd0",
   "metadata": {},
   "outputs": [],
   "source": []
  }
 ],
 "metadata": {
  "kernelspec": {
   "display_name": "Python 3 (ipykernel)",
   "language": "python",
   "name": "python3"
  },
  "language_info": {
   "codemirror_mode": {
    "name": "ipython",
    "version": 3
   },
   "file_extension": ".py",
   "mimetype": "text/x-python",
   "name": "python",
   "nbconvert_exporter": "python",
   "pygments_lexer": "ipython3",
   "version": "3.10.6"
  }
 },
 "nbformat": 4,
 "nbformat_minor": 5
}

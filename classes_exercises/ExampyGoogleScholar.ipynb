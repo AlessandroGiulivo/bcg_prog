{
 "cells": [
  {
   "cell_type": "markdown",
   "source": [
    "# pyGoogleScholar"
   ],
   "metadata": {
    "collapsed": false
   }
  },
  {
   "cell_type": "code",
   "execution_count": 4,
   "metadata": {
    "collapsed": true
   },
   "outputs": [],
   "source": [
    "database = []\n",
    "class Author:\n",
    "    def __init__(self, name, surname, affiliation, list_of_publications):\n",
    "        self.name = name\n",
    "        self.surname = surname\n",
    "        self.affiliation = affiliation\n",
    "        self.list_of_publications = list_of_publications\n",
    "        database.append(f'{self.name} {self.surname}')\n",
    "\n",
    "    def hindex(self):\n",
    "        prpubs = [pub for pub in self.list_of_publications if isinstance(pub, PeerReviewedPublication)]\n",
    "        h = 0\n",
    "        x = True\n",
    "        while x:\n",
    "            c = 0\n",
    "            for pub in prpubs:\n",
    "                if pub.Ncitations > h:\n",
    "\n",
    "class Publication:\n",
    "    def __init__(self, title, year, nCitations, nCited, authors):\n",
    "        self.title = title\n",
    "        self.year = year\n",
    "        self.nCitations = nCitations\n",
    "        self.nCited = nCited\n",
    "        self.authors = authors\n",
    "        for author in self.authors:\n",
    "            author.list_of_publications.append(self)\n",
    "\n",
    "class SelfPublication(Publication):\n",
    "    pass\n",
    "\n",
    "class PeerReviewedPublication(Publication):\n",
    "    pass"
   ]
  },
  {
   "cell_type": "code",
   "execution_count": null,
   "outputs": [],
   "source": [],
   "metadata": {
    "collapsed": false
   }
  }
 ],
 "metadata": {
  "kernelspec": {
   "display_name": "Python 3",
   "language": "python",
   "name": "python3"
  },
  "language_info": {
   "codemirror_mode": {
    "name": "ipython",
    "version": 2
   },
   "file_extension": ".py",
   "mimetype": "text/x-python",
   "name": "python",
   "nbconvert_exporter": "python",
   "pygments_lexer": "ipython2",
   "version": "2.7.6"
  }
 },
 "nbformat": 4,
 "nbformat_minor": 0
}

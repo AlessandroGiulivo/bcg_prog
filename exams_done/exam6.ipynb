{
 "cells": [
  {
   "cell_type": "markdown",
   "metadata": {},
   "source": [
    "# Exam 6"
   ]
  },
  {
   "cell_type": "markdown",
   "metadata": {},
   "source": [
    "## 1.\n",
    "Consider a list of dictionaries, each of which contains clinical data of a certain\n",
    "patient:\n",
    "L = [{\"patient_id\": 1, \"age\": 12, \"diagnosis\": \"measles\", ...},\n",
    "{\"patient_id\": 2, \"age\": 43, \"diagnosis\": \"flu\", ...},\n",
    "...]\n",
    "\n",
    "Using list comprehension build, starting from list L, a list that contains the “age” of\n",
    "all the patients diagnosed with “flu”. Use a boxplot to visualize the distribution of the ages.\n"
   ]
  },
  {
   "cell_type": "code",
   "execution_count": 1,
   "metadata": {},
   "outputs": [],
   "source": [
    "# create example list to check the code\n",
    "L = [{\"patient_id\": 1, \"age\": 12, \"diagnosis\": \"measles\"},\n",
    "     {\"patient_id\": 2, \"age\": 27, \"diagnosis\": \"flu\"},\n",
    "     {\"patient_id\": 3, \"age\": 15, \"diagnosis\": \"sore throat\"},\n",
    "     {\"patient_id\": 4, \"age\": 55, \"diagnosis\": \"flu\"},\n",
    "     {\"patient_id\": 5, \"age\": 34, \"diagnosis\": \"atypical angina\"},\n",
    "     {\"patient_id\": 6, \"age\": 22, \"diagnosis\": \"flu\"},\n",
    "     {\"patient_id\": 7, \"age\": 43, \"diagnosis\": \"flu\"},\n",
    "     {\"patient_id\": 8, \"age\": 16, \"diagnosis\": \"migraine\"},\n",
    "     {\"patient_id\": 9, \"age\": 17, \"diagnosis\": \"flu\"}\n",
    "     ]"
   ]
  },
  {
   "cell_type": "code",
   "execution_count": 4,
   "metadata": {},
   "outputs": [],
   "source": [
    "import matplotlib.pyplot as plt #needed for data visualization"
   ]
  },
  {
   "cell_type": "code",
   "execution_count": 5,
   "metadata": {},
   "outputs": [
    {
     "data": {
      "image/png": "[encoded data removed]",
      "text/plain": [
       "<Figure size 640x480 with 1 Axes>"
      ]
     },
     "metadata": {},
     "output_type": "display_data"
    }
   ],
   "source": [
    "# for each dictionary in the list, add to \"age_list\" the 'age' value only if the corresponding 'diagnosis' value is 'flu`\n",
    "age_list = [p['age'] for p in L if p['diagnosis'] == 'flu']\n",
    "\n",
    "plt.boxplot(age_list)                                   # turn the list of age values into a boxplot object\n",
    "plt.title('Age Boxplot of Patients who had the Flu')    # add a title to the boxplot\n",
    "plt.ylabel('Age')                                       # add a label to the y-axis\n",
    "plt.show()                                              # visualize the plot"
   ]
  },
  {
   "cell_type": "markdown",
   "metadata": {},
   "source": [
    "# 2.\n",
    "A codec encodes binary trees as nested tuples, as in the example figure. Write a recursive function that takes an instance of on encoded tree as input and returns the sum of all the numbers in the tree.\n",
    "\n",
    "E.g.:\n",
    "`c = (1,(2,3))` => `rec_sum_codec(c)` returns 6\n",
    "\n",
    "Hint: you may use the condition: type(c) == int to test is the variable c is an integer."
   ]
  },
  {
   "cell_type": "code",
   "execution_count": 6,
   "metadata": {},
   "outputs": [],
   "source": [
    "def rec_sum_codec(c):\n",
    "    if type(c) == int:                              # if the argument of the function is an integer, then\n",
    "        return c                                    # the output is the integer itself\n",
    "    else:                                               # if the argument is an iterable (list or tuple)\n",
    "        if len(c) == 1:                                     # and it has length = 1, then\n",
    "            return rec_sum_codec(c[0])                      # call the function on the first element of the iterable\n",
    "        else: return rec_sum_codec(c[0]) + rec_sum_codec(c[1:]) # otherwise, the result is the sum funcion(first element) + function(list of other elements)"
   ]
  },
  {
   "cell_type": "code",
   "execution_count": 7,
   "metadata": {},
   "outputs": [
    {
     "data": {
      "text/plain": [
       "79"
      ]
     },
     "execution_count": 7,
     "metadata": {},
     "output_type": "execute_result"
    }
   ],
   "source": [
    "# try out the recursive function on an example codec\n",
    "rec_sum_codec((1, (2, 3), (4, 5, 6, (7, 8, 9, (10, 11, (13))))))"
   ]
  },
  {
   "cell_type": "markdown",
   "metadata": {},
   "source": [
    "# 3.\n",
    "Implement a class `BankAccount`, which contains the total wealth of the owner (amount of euros). When a `BankAccount` is created, it is possible to define the initial wealth, but it must not be negative. Furthermore it provides a method `deposit(N)` to add an amount of N euros, `withdraw(N)` to withdraw N euros and `transfer(other_account, N)` to transfer N euros from the account to the `other_account`. If the account does not hold enough money to grant a withdraw or transfer operation, then a user-defined `BankAccountException` should be raised. Consider the class `LimitedBankAccount` identical to the previous but with the limitation that the maximum amount that the user can withdraw is 100 euros. Show how to design it as a specialization of the former."
   ]
  },
  {
   "cell_type": "code",
   "execution_count": 64,
   "metadata": {},
   "outputs": [],
   "source": [
    "# define `BanckccountException`\n",
    "class BankAccountException(Exception):\n",
    "    def __init__( self, msg):\n",
    "        self.message = msg"
   ]
  },
  {
   "cell_type": "code",
   "execution_count": 65,
   "metadata": {},
   "outputs": [],
   "source": [
    "class BankAccount:\n",
    "    def __init__(self, ownerID, initial_balance):\n",
    "        self.id = ownerID\n",
    "        if initial_balance >= 0:                                            #check that initial balance is not negative\n",
    "            self.balance = initial_balance\n",
    "        else:                                                               # otherwise, raise BankAccountException\n",
    "            raise BankAccountException('Balance cannot be negative')\n",
    "\n",
    "    def deposit(self, N):                                                   # define `deposit` method\n",
    "        self.balance += N                                                   # adds N to the balance\n",
    "\n",
    "    def withdraw(self, N):                                                  # define `withdraw` method\n",
    "        if self.balance >= N:                                               # if balance is greater than N, then\n",
    "            self.balance -= N                                                   # subracts N to the balance\n",
    "        else:\n",
    "            raise BankAccountException('Balance cannot be negative')        # otherwise, raise BankAccountException\n",
    "\n",
    "    def transfer(self, other_account, N):                                   # define `transfer` method\n",
    "        if self.balance >= N:                                               # if balance is greater than N, then\n",
    "            self.balance -= N                                                   # subtracts N to the balance of the current account\n",
    "            other_account.balance += N                                          # adds N to the balance of `other_account`\n",
    "        else:\n",
    "            raise BankAccountException('Balance cannot be negative')        # otherwise, raise BankAccountException\n",
    "\n",
    "class LimitedBankAccount(BankAccount):                  # define class LimitedBankAccount which inherits the characteristics of class BankAccount\n",
    "    def withdraw(self, N):                              # define new `withdraw` method:\n",
    "        if N <= 100:                                    # if N is not more than 100, then\n",
    "            super().withdraw(N)                             # apply the method `withdraw` of parent class BankAccount\n",
    "        else:\n",
    "            raise Exception('Cannot withdraw more than 100 euros from LimitedBankAccount') # otherwise, raise Exception"
   ]
  },
  {
   "cell_type": "code",
   "execution_count": 66,
   "metadata": {},
   "outputs": [
    {
     "name": "stdout",
     "output_type": "stream",
     "text": [
      "1000\n",
      "700\n",
      "650 150\n"
     ]
    },
    {
     "ename": "BankAccountException",
     "evalue": "",
     "output_type": "error",
     "traceback": [
      "\u001B[0;31m---------------------------------------------------------------------------\u001B[0m",
      "\u001B[0;31mBankAccountException\u001B[0m                      Traceback (most recent call last)",
      "Cell \u001B[0;32mIn [66], line 9\u001B[0m\n\u001B[1;32m      7\u001B[0m a1\u001B[38;5;241m.\u001B[39mtransfer(a2, \u001B[38;5;241m50\u001B[39m)\n\u001B[1;32m      8\u001B[0m \u001B[38;5;28mprint\u001B[39m(a1\u001B[38;5;241m.\u001B[39mbalance, a2\u001B[38;5;241m.\u001B[39mbalance)\n\u001B[0;32m----> 9\u001B[0m \u001B[43ma1\u001B[49m\u001B[38;5;241;43m.\u001B[39;49m\u001B[43mwithdraw\u001B[49m\u001B[43m(\u001B[49m\u001B[38;5;241;43m660\u001B[39;49m\u001B[43m)\u001B[49m\n",
      "Cell \u001B[0;32mIn [65], line 16\u001B[0m, in \u001B[0;36mBankAccount.withdraw\u001B[0;34m(self, N)\u001B[0m\n\u001B[1;32m     14\u001B[0m     \u001B[38;5;28mself\u001B[39m\u001B[38;5;241m.\u001B[39mbalance \u001B[38;5;241m-\u001B[39m\u001B[38;5;241m=\u001B[39m N\n\u001B[1;32m     15\u001B[0m \u001B[38;5;28;01melse\u001B[39;00m:\n\u001B[0;32m---> 16\u001B[0m     \u001B[38;5;28;01mraise\u001B[39;00m BankAccountException()\n",
      "\u001B[0;31mBankAccountException\u001B[0m: "
     ]
    }
   ],
   "source": [
    "a1 = BankAccount('Alex', 500)           # creating a BankAccount object\n",
    "a2 = BankAccount('Lori', 100)           # creating another BankAccount object\n",
    "a1.deposit(500)                         # applying method `deposit` on the first object\n",
    "print(a1.balance)                       # checking the balance of the first object\n",
    "a1.withdraw(300)                        # applying method `withdraw`\n",
    "print(a1.balance)\n",
    "a1.transfer(a2, 50)                     # applying method `transfer` on the first object to the second one\n",
    "print(a1.balance, a2.balance)           # checking the balances\n",
    "a1.withdraw(660)                        # trying to withdraw an amount greater than the balance"
   ]
  },
  {
   "cell_type": "code",
   "execution_count": 63,
   "outputs": [
    {
     "name": "stdout",
     "output_type": "stream",
     "text": [
      "1000\n",
      "900\n"
     ]
    },
    {
     "ename": "Exception",
     "evalue": "Cannot withdraw more than 100 euros from LimitedBankAccount",
     "output_type": "error",
     "traceback": [
      "\u001B[0;31m---------------------------------------------------------------------------\u001B[0m",
      "\u001B[0;31mException\u001B[0m                                 Traceback (most recent call last)",
      "Cell \u001B[0;32mIn [63], line 6\u001B[0m\n\u001B[1;32m      4\u001B[0m la1\u001B[38;5;241m.\u001B[39mwithdraw(\u001B[38;5;241m100\u001B[39m)\n\u001B[1;32m      5\u001B[0m \u001B[38;5;28mprint\u001B[39m(la1\u001B[38;5;241m.\u001B[39mbalance)\n\u001B[0;32m----> 6\u001B[0m \u001B[43mla1\u001B[49m\u001B[38;5;241;43m.\u001B[39;49m\u001B[43mwithdraw\u001B[49m\u001B[43m(\u001B[49m\u001B[38;5;241;43m150\u001B[39;49m\u001B[43m)\u001B[49m\n",
      "Cell \u001B[0;32mIn [61], line 30\u001B[0m, in \u001B[0;36mLimitedBankAccount.withdraw\u001B[0;34m(self, N)\u001B[0m\n\u001B[1;32m     28\u001B[0m     \u001B[38;5;28msuper\u001B[39m()\u001B[38;5;241m.\u001B[39mwithdraw(N)\n\u001B[1;32m     29\u001B[0m \u001B[38;5;28;01melse\u001B[39;00m:\n\u001B[0;32m---> 30\u001B[0m     \u001B[38;5;28;01mraise\u001B[39;00m \u001B[38;5;167;01mException\u001B[39;00m(\u001B[38;5;124m'\u001B[39m\u001B[38;5;124mCannot withdraw more than 100 euros from LimitedBankAccount\u001B[39m\u001B[38;5;124m'\u001B[39m)\n",
      "\u001B[0;31mException\u001B[0m: Cannot withdraw more than 100 euros from LimitedBankAccount"
     ]
    }
   ],
   "source": [
    "la1 = LimitedBankAccount('Anna', 400)       # creating a LimitedBankAccount object\n",
    "la1.deposit(600)\n",
    "print(la1.balance)\n",
    "la1.withdraw(100)\n",
    "print(la1.balance)\n",
    "la1.withdraw(150)                           # trying to withdraw more than 100 to a LimitedBankAccount object"
   ],
   "metadata": {
    "collapsed": false
   }
  },
  {
   "cell_type": "markdown",
   "source": [
    "## 4.\n",
    "Consider a file `my_gwas.csv`, with the following structure:\n",
    "`id,donor,SNP,trait`\n",
    "`1,p001,rs023,opioid dependence`\n",
    "`2,p001,rs209,lactose intolerance`\n",
    "`...`<br>\n",
    "\n",
    "Write a piece of software that\n",
    "(a) skips the first header line,\n",
    "(b) reads and parses each line,\n",
    "(c) check the correctness of the donor and SNP IDs. with regular expression,\n",
    "(d) computes a list of pairs `GWAS = [(SNP1, trait1), (SNP2, trait2), ...]`,\n",
    "(e) writes the list in an output file `output.csv`, where each pair corresponds to a line.\n",
    "\n",
    "*Donor id must start with \"p\" or \"d\" and there must be a number, SNP starts with \"rs\" then a number with at least 3 digits.*"
   ],
   "metadata": {
    "collapsed": false
   }
  },
  {
   "cell_type": "code",
   "execution_count": 50,
   "outputs": [],
   "source": [
    "# writing a file to use as example\n",
    "with open('my_gwas.csv', 'w') as rf:\n",
    "    rf.write('''id,donor,SNP,trait\n",
    "1,p001,rs876,opioid dependence\n",
    "2,p001,rs209,lactose intolerance\n",
    "3,d001,rs123, malaria resistance\n",
    "4,r002,rs768,lactose intolerance\n",
    "5,p002,rs209,anemia\n",
    "6,p003,rs09,green eyes\n",
    "7,p004,rs073,opioid dependence\n",
    "8,p005,rs209,green eyes\n",
    "9,p006,rs123,opioid dependence\n",
    "10,p006,rs455,lactose intolerance\n",
    "''')"
   ],
   "metadata": {
    "collapsed": false
   }
  },
  {
   "cell_type": "code",
   "execution_count": 51,
   "outputs": [],
   "source": [
    "import re   #needed for regular expression"
   ],
   "metadata": {
    "collapsed": false
   }
  },
  {
   "cell_type": "code",
   "execution_count": 55,
   "outputs": [
    {
     "name": "stdout",
     "output_type": "stream",
     "text": [
      "Not valid donor ID for line 3\n",
      "Not valid SNP ID for line 5\n"
     ]
    }
   ],
   "source": [
    "with open('my_gwas.csv', 'r') as rf:        # open the file in read mode\n",
    "    rf.readline()                           # skip first line (header)\n",
    "    lines = rf.readlines()                  # save the list of lines\n",
    "    GWAS = []                               # create empty GWAS list\n",
    "    for i in range(len(lines)):                 # iterate over each line (indeces)\n",
    "        line = lines[i].strip().split(',')      # remove newlines and split into a list of strings which formed the line of the file\n",
    "        if not re.search(r'^[pd]\\d+$', line[1]):    # check correctness of donor IDs\n",
    "            print(f'Not valid donor ID for line {i}')\n",
    "        elif not re.search(r'^rs\\d{3,}$', line[2]): # check correctnes of SNP IDs\n",
    "            print(f'Not valid SNP ID for line {i}')\n",
    "        else:                                       # if both are correct; then\n",
    "            if (line[2], line[3]) not in GWAS:          # if the couple (SNP ID, trait) are not already inside GWAS list, then\n",
    "                GWAS.append((line[2], line[3]))             # insert the couple into GWAS list\n",
    "\n",
    "with open('gwas_output.csv', 'w') as wf:        # open a new file in write mode\n",
    "    for pair in GWAS:                           # iterate over the elements of GWAS list\n",
    "        wf.write(f'{pair[0]}, {pair[1]}\\n')     # write each element in a new line of the file"
   ],
   "metadata": {
    "collapsed": false
   }
  },
  {
   "cell_type": "markdown",
   "source": [
    "## 5.\n",
    "Consider the list generated in the Exercise 4, e.g.,:\n",
    "`GWAS = [(\"rs023\",\"opioid dependence”), (\"rs209\",\"lactose intolerance”), ...]`<br>\n",
    "Write a piece of software that identifies the SNP (rsID) which is associated to the largest set of distinct traits."
   ],
   "metadata": {
    "collapsed": false
   }
  },
  {
   "cell_type": "code",
   "execution_count": 56,
   "outputs": [
    {
     "name": "stdout",
     "output_type": "stream",
     "text": [
      "Highest associated SNP: rs209\n",
      "Number of associated traits: 3\n"
     ]
    }
   ],
   "source": [
    "# create empty dictionary to be filled with [SNP ID: number of different traits associated to it]\n",
    "SNP_dict = {}\n",
    "for pair in GWAS:                   # iterate over elements (pairs) of GWAS list\n",
    "    if pair[0] not in SNP_dict:     # if the first element of the pair (the SNP ID) is not one of the dictionary keys, then\n",
    "        SNP_dict[pair[0]] = 1           # insert it into the dictionary and set its value to 1\n",
    "    else:\n",
    "        SNP_dict[pair[0]] += 1      # otherwise (if it was already in the dictionary), increase its value by 1\n",
    "\n",
    "# find the maximum of all the counts of traits associated to each SNP\n",
    "max_count = 0                   # set an initial `maximum` to 0\n",
    "for k, v in SNP_dict.items():   # iterate over the elements of the dictionary\n",
    "    if v > max_count:               # if the value (count) of the SNP is greater than the current maximum, then\n",
    "        max_count = v                   # change the current maximum into the new value found\n",
    "\n",
    "# get the result\n",
    "for k, v in SNP_dict.items():       # iterate again over the elements of the dictionary\n",
    "    if v == max_count:              # if the value is equal to the found maximum, then print the SNP ID and the corresponding value\n",
    "        print(f'Highest associated SNP: {k}\\nNumber of associated traits: {v}')"
   ],
   "metadata": {
    "collapsed": false
   }
  },
  {
   "cell_type": "code",
   "execution_count": null,
   "outputs": [],
   "source": [],
   "metadata": {
    "collapsed": false
   }
  }
 ],
 "metadata": {
  "kernelspec": {
   "display_name": "Python 3 (ipykernel)",
   "language": "python",
   "name": "python3"
  },
  "language_info": {
   "codemirror_mode": {
    "name": "ipython",
    "version": 3
   },
   "file_extension": ".py",
   "mimetype": "text/x-python",
   "name": "python",
   "nbconvert_exporter": "python",
   "pygments_lexer": "ipython3",
   "version": "3.10.6"
  }
 },
 "nbformat": 4,
 "nbformat_minor": 1
}

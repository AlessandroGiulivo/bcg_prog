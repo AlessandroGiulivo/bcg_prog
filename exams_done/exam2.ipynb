{
 "cells": [
  {
   "cell_type": "markdown",
   "id": "df0e9217",
   "metadata": {},
   "source": [
    "# Exam 2"
   ]
  },
  {
   "cell_type": "markdown",
   "id": "a955834c",
   "metadata": {},
   "source": [
    "#### 1) [5 pts]\n",
    "Consider a 2-D matrix, represented as a list of lists. Each inner list has the same length:<br>\n",
    "`M = [[1,0,4,2,4],\n",
    "    [0,0,1,0,6],\n",
    "    [0,0,0,0,0],\n",
    "    [2,0,0,3,2]]`<br>\n",
    "Write a piece of code that:<br>\n",
    "(a) identifies the maximum value in the matrix;<br>\n",
    "(b) computes a list with the maximum of each row and<br>\n",
    "(c) computes a list with the maximum of each column."
   ]
  },
  {
   "cell_type": "code",
   "execution_count": 1,
   "id": "7b12f543",
   "metadata": {},
   "outputs": [
    {
     "name": "stdout",
     "output_type": "stream",
     "text": [
      "6\n",
      "[4, 6, 0, 3]\n",
      "[2, 0, 4, 3, 6]\n"
     ]
    }
   ],
   "source": [
    "M = [[1,0,4,2,4],\n",
    "    [0,0,1,0,6],\n",
    "    [0,0,0,0,0],\n",
    "    [2,0,0,3,2]]\n",
    "\n",
    "# (a)\n",
    "maxel = M[0][0]\n",
    "for l in M:\n",
    "    for e in l:\n",
    "        if e > maxel:\n",
    "            maxel = e\n",
    "print(maxel)\n",
    "\n",
    "# (b)\n",
    "rowmax = [max(row) for row in M]\n",
    "print(rowmax)\n",
    "\n",
    "# (c)\n",
    "transposedM = zip(*M)\n",
    "colmax = [max(col) for col in transposedM]\n",
    "print(colmax)"
   ]
  },
  {
   "cell_type": "code",
   "execution_count": 2,
   "id": "75d12c81",
   "metadata": {},
   "outputs": [
    {
     "name": "stdout",
     "output_type": "stream",
     "text": [
      "6\n",
      "[4, 6, 0, 3]\n",
      "[2, 0, 4, 3, 6]\n"
     ]
    }
   ],
   "source": [
    "# solution\n",
    "\n",
    "#b\n",
    "max_rows = [max(row) for row in M]\n",
    "\n",
    "#a\n",
    "max_whole = max(max_rows)\n",
    "\n",
    "#c\n",
    "Mc = []\n",
    "n_cols = len(M[0])\n",
    "for col_id in range(n_cols):\n",
    "    column = [row[col_id] for row in M]\n",
    "    Mc.append(column)\n",
    "max_cols = [max(row) for row in Mc]\n",
    "\n",
    "print(max_whole)\n",
    "print(max_rows)\n",
    "print(max_cols)"
   ]
  },
  {
   "cell_type": "code",
   "execution_count": null,
   "id": "5fc65473",
   "metadata": {},
   "outputs": [],
   "source": []
  },
  {
   "cell_type": "markdown",
   "id": "d62c5a78",
   "metadata": {},
   "source": [
    "#### 2) [7 pts]\n",
    "A list list_files contains the paths of many BED-like files (space-separated files of genomic regions) for human. The first three fields of each file are:<br>\n",
    "            `chr start stop (e.g., chr11, 120345 245376`<br>\n",
    "Write a program that reads each single files in the list and for each file, checks the correctness of file with the condition defined below.<br>\n",
    "Write in a `output_file.tx` the number average length (stop - start) of the regions of each file, e.g.,:<br>`file1.bed, 1243.5`<br>`file2.bed, 432.1`<br><br>\n",
    "\n",
    "* The first columns should contain the chromosome of the region.\n",
    "* The chromosomes are from 1 to 22 and X, Y. 'chr' prefix is facultative.\n",
    "* 2nd (start) and 3rd (stop) columns must be a positive integer.\n"
   ]
  },
  {
   "cell_type": "code",
   "execution_count": 23,
   "id": "a2b13674",
   "metadata": {},
   "outputs": [],
   "source": [
    "import random\n",
    "chromosomes = ['chr1', 'chr2', 'chr3', 'chr4', 'chr5', 'chr6', 'chr7', 'chr8', 'chr9', 'chr10',  'chr11',\n",
    "               'chr12', 'chr13', 'chr14', 'chr15', 'chr16', 'chr17', 'chr18', 'chr19', 'chr20', 'chr21', 'chr22',\n",
    "               '1', '2', '3', '4', '5', '6', '7', '8', '9', '10', '11', '12', '13', '14', '15', '16', '17', '18', '19', '20', '21', '23',\n",
    "               'chrX', 'chrY', 'X', 'Y']\n",
    "for i in range(1, 6):\n",
    "    with open(f'file{i}.bed', 'w') as f:\n",
    "        for i in range(random.randint(20, 80)):\n",
    "            chrom = random.choices(chromosomes)[0]\n",
    "            start = random.randint(0, 10000)\n",
    "            end = start + random.randint(50, 1000)\n",
    "            f.write(f'{chrom}, {start}, {end}, other info...\\n')\n"
   ]
  },
  {
   "cell_type": "code",
   "execution_count": 27,
   "outputs": [],
   "source": [
    "# note that this code won't run correctly unless\n",
    "# the files contained in list_files are present\n",
    "# in your working directory\n",
    "\n",
    "list_files = ['file1.bed', 'file2.bed', 'file3.bed', 'file4.bed', 'file5.bed']\n",
    "import re\n",
    "with open('output.txt', 'w') as wf:\n",
    "    for file in list_files:\n",
    "        with open(file) as rf:\n",
    "            lengths = []\n",
    "            lines = rf.readlines()\n",
    "            for i in range(len(lines)):\n",
    "                chrom, start, stop = lines[i].strip().split(', ')[0], lines[i].strip().split(', ')[1], lines[i].strip().split(', ')[2]\n",
    "                #print(chrom)\n",
    "                if not re.search(r'^(chr)?(1[0-9]|2[0-2]|[1-9])|X|Y$', chrom):\n",
    "                    print(f'Line {i} of file {file}\\n{chrom} not valid chromosome format')\n",
    "                elif not re.search(r'^\\d+', start) or not re.search(r'\\d+', stop):\n",
    "                        print(f'Line {i} of file {file}\\n{start}:{stop} not valid start/stop coordinates format')\n",
    "                else:\n",
    "                    lengths.append(int(stop) - int(start))\n",
    "        file_avg = sum(lengths) / len(lengths)\n",
    "        wf.write(f'{file}, {round(file_avg, 3)}\\n')"
   ],
   "metadata": {
    "collapsed": false
   }
  },
  {
   "cell_type": "markdown",
   "id": "6272260d",
   "metadata": {},
   "source": [
    "#### 3) [10 pts]\n",
    "Define two classes Graph and Node, that represent a node of a graph; each node is represented by a name and each node is a member of a graph. Two nodes with the same name are equal, cannot be in the same graph (implement this control). Each graph has nodes and each node has a list of connected nodes. The class graph implements an add_connection method to add new connections. If the user tries to add twice the same node (i.e., a node with the same name) a user defined NodeException is raised. And also, implement functions to print name of the node and its direct connected nodes."
   ]
  },
  {
   "cell_type": "code",
   "execution_count": null,
   "outputs": [],
   "source": [],
   "metadata": {
    "collapsed": false
   }
  },
  {
   "cell_type": "code",
   "execution_count": 1,
   "id": "741e3f1c",
   "metadata": {},
   "outputs": [],
   "source": [
    "class NodeException(Exception):\n",
    "    pass\n",
    "\n",
    "class Node:\n",
    "    def __init__(self, name):\n",
    "        self.name = name\n",
    "        self.connections = []\n",
    "        \n",
    "    def add_connection_on_nodes(self, end):\n",
    "        if isinstance(end, Node):\n",
    "            self.connections.append(end)\n",
    "        else:\n",
    "            raise NodeException('Trying to add a non-Node')\n",
    "            \n",
    "    def print_name(self):\n",
    "        return self.name\n",
    "    \n",
    "    def print_connections(self):\n",
    "        return [i.name for i in self.connections]\n",
    "        \n",
    "class Graph:\n",
    "    def __init__(self, name):\n",
    "        self.nodes = {}\n",
    "        \n",
    "    def get_nodes(self):\n",
    "        return self.nodes\n",
    "        \n",
    "    def add_node(self, node_name):\n",
    "        if node_name not in self.nodes:\n",
    "            self.nodes[node_name] = Node(node_name)\n",
    "        else:\n",
    "            raise NodeException('Tried to add already existing node')\n",
    "        \n",
    "    def add_connection(self, start_name, end_name):\n",
    "        if start_name in self.nodes and end_name in self.nodes:\n",
    "            sn = self.nodes[start_name]\n",
    "            en = self.nodes[end_name]\n",
    "            sn.add_connection_on_nodes(en)\n",
    "    "
   ]
  },
  {
   "cell_type": "code",
   "execution_count": 4,
   "id": "fb094f06",
   "metadata": {},
   "outputs": [
    {
     "ename": "AttributeError",
     "evalue": "'str' object has no attribute 'print_connections'",
     "output_type": "error",
     "traceback": [
      "\u001B[0;31m---------------------------------------------------------------------------\u001B[0m",
      "\u001B[0;31mAttributeError\u001B[0m                            Traceback (most recent call last)",
      "Cell \u001B[0;32mIn [4], line 18\u001B[0m\n\u001B[1;32m     15\u001B[0m G\u001B[38;5;241m.\u001B[39madd_connection(\u001B[38;5;124m'\u001B[39m\u001B[38;5;124mn2\u001B[39m\u001B[38;5;124m'\u001B[39m, \u001B[38;5;124m'\u001B[39m\u001B[38;5;124mn5\u001B[39m\u001B[38;5;124m'\u001B[39m)\n\u001B[1;32m     16\u001B[0m G\u001B[38;5;241m.\u001B[39madd_connection(\u001B[38;5;124m'\u001B[39m\u001B[38;5;124mn2\u001B[39m\u001B[38;5;124m'\u001B[39m, \u001B[38;5;124m'\u001B[39m\u001B[38;5;124mn4\u001B[39m\u001B[38;5;124m'\u001B[39m)\n\u001B[0;32m---> 18\u001B[0m \u001B[38;5;28mprint\u001B[39m(\u001B[38;5;124;43m'\u001B[39;49m\u001B[38;5;124;43mn2\u001B[39;49m\u001B[38;5;124;43m'\u001B[39;49m\u001B[38;5;241;43m.\u001B[39;49m\u001B[43mprint_connections\u001B[49m())\n",
      "\u001B[0;31mAttributeError\u001B[0m: 'str' object has no attribute 'print_connections'"
     ]
    }
   ],
   "source": [
    "# instances\n",
    "G = Graph(Graph)\n",
    "G.add_node('n1')\n",
    "G.add_node('n2')\n",
    "G.add_node('n3')\n",
    "G.add_node('n4')\n",
    "G.add_node('n5')\n",
    "G.add_node('n6')\n",
    "\n",
    "G.get_nodes()\n",
    "\n",
    "G.add_connection('n2', 'n1')\n",
    "G.add_connection('n1', 'n3')\n",
    "G.add_connection('n5', 'n6')\n",
    "G.add_connection('n2', 'n5')\n",
    "G.add_connection('n2', 'n4')\n",
    "\n",
    "#print('n2'.print_connections())"
   ]
  },
  {
   "cell_type": "code",
   "execution_count": null,
   "id": "67abc4c3",
   "metadata": {},
   "outputs": [],
   "source": []
  },
  {
   "cell_type": "markdown",
   "id": "c57ded51",
   "metadata": {},
   "source": [
    "#### 4) [6 pts]\n",
    "Extend the classes in the previous exercise by adding a AcyclicGraph of AcyclicNodes that does not allow cyclic paths in the graph.\n",
    "\n",
    "Implement checking algorithm with a recursive function."
   ]
  },
  {
   "cell_type": "code",
   "execution_count": null,
   "id": "c8d7bae4",
   "metadata": {},
   "outputs": [],
   "source": [
    "def acyclic_check(g):\n",
    "    \n",
    "\n",
    "class AcyclicNode(Node):\n",
    "    def add_connection_on_nodes(self, end_node):\n",
    "        if acyclic_check():\n",
    "            super().add_connection_on_nodes(end_node)\n",
    "        else:\n",
    "            raise NodeException('Creating Cycle')\n",
    "\n",
    "class AcyclicGraph(Graph):\n",
    "    pass"
   ]
  },
  {
   "cell_type": "code",
   "execution_count": null,
   "id": "3ef5aa54",
   "metadata": {},
   "outputs": [],
   "source": []
  }
 ],
 "metadata": {
  "kernelspec": {
   "display_name": "Python 3 (ipykernel)",
   "language": "python",
   "name": "python3"
  },
  "language_info": {
   "codemirror_mode": {
    "name": "ipython",
    "version": 3
   },
   "file_extension": ".py",
   "mimetype": "text/x-python",
   "name": "python",
   "nbconvert_exporter": "python",
   "pygments_lexer": "ipython3",
   "version": "3.10.6"
  }
 },
 "nbformat": 4,
 "nbformat_minor": 5
}

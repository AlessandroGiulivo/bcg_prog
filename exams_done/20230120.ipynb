{
 "cells": [
  {
   "cell_type": "markdown",
   "metadata": {},
   "source": [
    "# Programming - Prof. A. Bernasconi - A.A. 2022/23\n",
    "## Call 1 - January 20th - Duration lh30rn"
   ]
  },
  {
   "cell_type": "markdown",
   "metadata": {},
   "source": [
    "Consider a text file \"sp-admissions.tsv\", representing admissions to a swimming pool, with the structure <User, Date, EntryTime, ExitTime>. Fields are separated by tabs."
   ]
  },
  {
   "cell_type": "markdown",
   "metadata": {},
   "source": [
    "**1. [4pts]** Write a Python code that extracts the information from the file and builds a dictionary, where keys are User-identifiers and values are lists of tuples (Date, EntryTime, ExitTime) representing an admission to the swimming pool.<br>*Note: for simplicity, keep dates and times as strings.*"
   ]
  },
  {
   "cell_type": "code",
   "execution_count": 12,
   "metadata": {},
   "outputs": [
    {
     "name": "stdout",
     "output_type": "stream",
     "text": [
      "1 [('2022-01-20', '11.23', '13.30'), ('2022-01-21', '12.30', '13.30'), ('2022-03-03', '14.00', '16.30'), ('2022-05-01', '18.31', '18.50')]\n",
      "3 [('2022-01-22', '11.22', '13.30')]\n",
      "2 [('2022-03-02', '21.40', '23.30')]\n",
      "4 [('2022-04-20', '15.34', '17.30')]\n"
     ]
    }
   ],
   "source": [
    "d = {}\n",
    "with open('sp-admissions.tsv', 'r') as f:\n",
    "    f.readline()\n",
    "    for line in f.readlines():\n",
    "        l = line.replace('\\n', '').split('\\t')\n",
    "        if l[0] in d:\n",
    "            d[l[0]].append((l[1], l[2], l[3]))\n",
    "        else:\n",
    "            d[l[0]] = [(l[1], l[2], l[3])]\n",
    "\n",
    "for k, v in d.items():\n",
    "    print(k, v)"
   ]
  },
  {
   "cell_type": "markdown",
   "metadata": {},
   "source": [
    "**2. [6pts]** Write a Python code that creates a modified version of the dictionary built in **1.**, so that each value is a list with three elements: the user's list of admissions, the number of admissions, and the number of evening admissions (whose entry time is after 18:00). *Solutions employing comprehension are preferred.*"
   ]
  },
  {
   "cell_type": "code",
   "execution_count": 13,
   "outputs": [
    {
     "name": "stdout",
     "output_type": "stream",
     "text": [
      "1 [[('2022-01-20', '11.23', '13.30'), ('2022-01-21', '12.30', '13.30'), ('2022-03-03', '14.00', '16.30'), ('2022-05-01', '18.31', '18.50')], 4, 1]\n",
      "3 [[('2022-01-22', '11.22', '13.30')], 1, 0]\n",
      "2 [[('2022-03-02', '21.40', '23.30')], 1, 1]\n",
      "4 [[('2022-04-20', '15.34', '17.30')], 1, 0]\n"
     ]
    }
   ],
   "source": [
    "for k in d:\n",
    "    d[k] = [[i for i in d[k]], len(d[k]), len([adm for adm in d[k] if int(adm[1][:2]) >= 18])]\n",
    "\n",
    "for k, v in d.items():\n",
    "    print(k, v)"
   ],
   "metadata": {
    "collapsed": false
   }
  },
  {
   "cell_type": "markdown",
   "metadata": {},
   "source": [
    "**3) [6pts]** Write a Python recursive function that extracts the user with the greatest number of admissions. The following header is suggested: `def find_max_admissions(dict_name, dict_keys_list, current_max_num = O)`\n",
    "*Note: as dict_name, you may use a dictionary that you built previously in points **1)** or **2)**.*"
   ]
  },
  {
   "cell_type": "code",
   "execution_count": 15,
   "metadata": {},
   "outputs": [
    {
     "ename": "TypeError",
     "evalue": "unhashable type: 'list'",
     "output_type": "error",
     "traceback": [
      "\u001B[0;31m---------------------------------------------------------------------------\u001B[0m",
      "\u001B[0;31mTypeError\u001B[0m                                 Traceback (most recent call last)",
      "Cell \u001B[0;32mIn [15], line 11\u001B[0m\n\u001B[1;32m      8\u001B[0m     \u001B[38;5;28;01melse\u001B[39;00m:\n\u001B[1;32m      9\u001B[0m         \u001B[38;5;28;01mreturn\u001B[39;00m [k \u001B[38;5;28;01mfor\u001B[39;00m k,v \u001B[38;5;129;01min\u001B[39;00m dict_name\u001B[38;5;241m.\u001B[39mitems() \u001B[38;5;28;01mif\u001B[39;00m v[\u001B[38;5;241m1\u001B[39m]\u001B[38;5;241m==\u001B[39mcurrent_max_num]\n\u001B[0;32m---> 11\u001B[0m \u001B[43mfind_max_admissions\u001B[49m\u001B[43m(\u001B[49m\u001B[43md\u001B[49m\u001B[43m,\u001B[49m\u001B[43m \u001B[49m\u001B[38;5;28;43mlist\u001B[39;49m\u001B[43m(\u001B[49m\u001B[43md\u001B[49m\u001B[38;5;241;43m.\u001B[39;49m\u001B[43mkeys\u001B[49m\u001B[43m(\u001B[49m\u001B[43m)\u001B[49m\u001B[43m)\u001B[49m\u001B[43m)\u001B[49m\n",
      "Cell \u001B[0;32mIn [15], line 4\u001B[0m, in \u001B[0;36mfind_max_admissions\u001B[0;34m(dict_name, dict_keys_list, current_max_num)\u001B[0m\n\u001B[1;32m      2\u001B[0m \u001B[38;5;28;01mif\u001B[39;00m \u001B[38;5;28mlen\u001B[39m(dict_keys_list) \u001B[38;5;241m>\u001B[39m \u001B[38;5;241m0\u001B[39m:\n\u001B[1;32m      3\u001B[0m     curr_key \u001B[38;5;241m=\u001B[39m dict_keys_list\n\u001B[0;32m----> 4\u001B[0m     curr_num_adm \u001B[38;5;241m=\u001B[39m \u001B[43mdict_name\u001B[49m\u001B[43m[\u001B[49m\u001B[43mcurr_key\u001B[49m\u001B[43m]\u001B[49m[\u001B[38;5;241m1\u001B[39m]\n\u001B[1;32m      5\u001B[0m     \u001B[38;5;28;01mif\u001B[39;00m curr_num_adm \u001B[38;5;241m>\u001B[39m current_max_num:\n\u001B[1;32m      6\u001B[0m         current_max_num \u001B[38;5;241m=\u001B[39m curr_num_adm\n",
      "\u001B[0;31mTypeError\u001B[0m: unhashable type: 'list'"
     ]
    }
   ],
   "source": [
    "def find_max_admissions(dict_name, dict_keys_list, current_max_num=0):\n",
    "    if len(dict_keys_list) > 0:\n",
    "        curr_key = dict_keys_list\n",
    "        curr_num_adm = dict_name[curr_key]\n",
    "        if curr_num_adm > current_max_num:\n",
    "            current_max_num = curr_num_adm\n",
    "        return find_max_admissions(dict_name, dict_keys_list[1:], current_max_num)\n",
    "    else:\n",
    "        return [k for k,v in dict_name.items() if v[1]==current_max_num]\n",
    "\n",
    "find_max_admissions(d, list(d.keys()))"
   ]
  },
  {
   "cell_type": "markdown",
   "metadata": {},
   "source": [
    "**4. [6pts]** Write a Python code that counts the admissions in the swimming pool in each month and plots them in a bar plot sorted by month."
   ]
  },
  {
   "cell_type": "code",
   "execution_count": 1,
   "metadata": {},
   "outputs": [
    {
     "ename": "ImportError",
     "evalue": "dlopen(/Library/Frameworks/Python.framework/Versions/3.10/lib/python3.10/site-packages/matplotlib/_c_internal_utils.cpython-310-darwin.so, 0x0002): tried: '/Library/Frameworks/Python.framework/Versions/3.10/lib/python3.10/site-packages/matplotlib/_c_internal_utils.cpython-310-darwin.so' (mach-o file, but is an incompatible architecture (have 'arm64', need 'x86_64')), '/System/Volumes/Preboot/Cryptexes/OS/Library/Frameworks/Python.framework/Versions/3.10/lib/python3.10/site-packages/matplotlib/_c_internal_utils.cpython-310-darwin.so' (no such file), '/Library/Frameworks/Python.framework/Versions/3.10/lib/python3.10/site-packages/matplotlib/_c_internal_utils.cpython-310-darwin.so' (mach-o file, but is an incompatible architecture (have 'arm64', need 'x86_64'))",
     "output_type": "error",
     "traceback": [
      "\u001B[0;31m---------------------------------------------------------------------------\u001B[0m",
      "\u001B[0;31mImportError\u001B[0m                               Traceback (most recent call last)",
      "Cell \u001B[0;32mIn [1], line 11\u001B[0m\n\u001B[1;32m      8\u001B[0m         \u001B[38;5;28;01melse\u001B[39;00m:\n\u001B[1;32m      9\u001B[0m             months[l[\u001B[38;5;241m1\u001B[39m][\u001B[38;5;241m5\u001B[39m:\u001B[38;5;241m7\u001B[39m]]  \u001B[38;5;241m=\u001B[39m \u001B[38;5;241m1\u001B[39m\n\u001B[0;32m---> 11\u001B[0m \u001B[38;5;28;01mimport\u001B[39;00m \u001B[38;5;21;01mmatplotlib\u001B[39;00m\u001B[38;5;21;01m.\u001B[39;00m\u001B[38;5;21;01mpyplot\u001B[39;00m \u001B[38;5;28;01mas\u001B[39;00m \u001B[38;5;21;01mplt\u001B[39;00m\n\u001B[1;32m     13\u001B[0m plt\u001B[38;5;241m.\u001B[39mbar(\u001B[38;5;28mrange\u001B[39m(\u001B[38;5;28mlen\u001B[39m(months)), \u001B[38;5;28mlist\u001B[39m(months\u001B[38;5;241m.\u001B[39mvalues()))\n\u001B[1;32m     14\u001B[0m plt\u001B[38;5;241m.\u001B[39mtitle(\u001B[38;5;124m'\u001B[39m\u001B[38;5;124mmonths\u001B[39m\u001B[38;5;124m'\u001B[39m)\n",
      "File \u001B[0;32m/Library/Frameworks/Python.framework/Versions/3.10/lib/python3.10/site-packages/matplotlib/__init__.py:113\u001B[0m\n\u001B[1;32m    109\u001B[0m \u001B[38;5;28;01mfrom\u001B[39;00m \u001B[38;5;21;01mpackaging\u001B[39;00m\u001B[38;5;21;01m.\u001B[39;00m\u001B[38;5;21;01mversion\u001B[39;00m \u001B[38;5;28;01mimport\u001B[39;00m parse \u001B[38;5;28;01mas\u001B[39;00m parse_version\n\u001B[1;32m    111\u001B[0m \u001B[38;5;66;03m# cbook must import matplotlib only within function\u001B[39;00m\n\u001B[1;32m    112\u001B[0m \u001B[38;5;66;03m# definitions, so it is safe to import from it here.\u001B[39;00m\n\u001B[0;32m--> 113\u001B[0m \u001B[38;5;28;01mfrom\u001B[39;00m \u001B[38;5;21;01m.\u001B[39;00m \u001B[38;5;28;01mimport\u001B[39;00m _api, _version, cbook, _docstring, rcsetup\n\u001B[1;32m    114\u001B[0m \u001B[38;5;28;01mfrom\u001B[39;00m \u001B[38;5;21;01mmatplotlib\u001B[39;00m\u001B[38;5;21;01m.\u001B[39;00m\u001B[38;5;21;01mcbook\u001B[39;00m \u001B[38;5;28;01mimport\u001B[39;00m sanitize_sequence\n\u001B[1;32m    115\u001B[0m \u001B[38;5;28;01mfrom\u001B[39;00m \u001B[38;5;21;01mmatplotlib\u001B[39;00m\u001B[38;5;21;01m.\u001B[39;00m\u001B[38;5;21;01m_api\u001B[39;00m \u001B[38;5;28;01mimport\u001B[39;00m MatplotlibDeprecationWarning\n",
      "File \u001B[0;32m/Library/Frameworks/Python.framework/Versions/3.10/lib/python3.10/site-packages/matplotlib/cbook/__init__.py:30\u001B[0m\n\u001B[1;32m     27\u001B[0m \u001B[38;5;28;01mimport\u001B[39;00m \u001B[38;5;21;01mnumpy\u001B[39;00m \u001B[38;5;28;01mas\u001B[39;00m \u001B[38;5;21;01mnp\u001B[39;00m\n\u001B[1;32m     29\u001B[0m \u001B[38;5;28;01mimport\u001B[39;00m \u001B[38;5;21;01mmatplotlib\u001B[39;00m\n\u001B[0;32m---> 30\u001B[0m \u001B[38;5;28;01mfrom\u001B[39;00m \u001B[38;5;21;01mmatplotlib\u001B[39;00m \u001B[38;5;28;01mimport\u001B[39;00m _api, _c_internal_utils\n\u001B[1;32m     33\u001B[0m \u001B[38;5;129m@_api\u001B[39m\u001B[38;5;241m.\u001B[39mcaching_module_getattr\n\u001B[1;32m     34\u001B[0m \u001B[38;5;28;01mclass\u001B[39;00m \u001B[38;5;21;01m__getattr__\u001B[39;00m:\n\u001B[1;32m     35\u001B[0m     \u001B[38;5;66;03m# module-level deprecations\u001B[39;00m\n\u001B[1;32m     36\u001B[0m     MatplotlibDeprecationWarning \u001B[38;5;241m=\u001B[39m _api\u001B[38;5;241m.\u001B[39mdeprecated(\n\u001B[1;32m     37\u001B[0m         \u001B[38;5;124m\"\u001B[39m\u001B[38;5;124m3.6\u001B[39m\u001B[38;5;124m\"\u001B[39m, obj_type\u001B[38;5;241m=\u001B[39m\u001B[38;5;124m\"\u001B[39m\u001B[38;5;124m\"\u001B[39m,\n\u001B[1;32m     38\u001B[0m         alternative\u001B[38;5;241m=\u001B[39m\u001B[38;5;124m\"\u001B[39m\u001B[38;5;124mmatplotlib.MatplotlibDeprecationWarning\u001B[39m\u001B[38;5;124m\"\u001B[39m)(\n\u001B[1;32m     39\u001B[0m         \u001B[38;5;28mproperty\u001B[39m(\u001B[38;5;28;01mlambda\u001B[39;00m \u001B[38;5;28mself\u001B[39m: _api\u001B[38;5;241m.\u001B[39mdeprecation\u001B[38;5;241m.\u001B[39mMatplotlibDeprecationWarning))\n",
      "\u001B[0;31mImportError\u001B[0m: dlopen(/Library/Frameworks/Python.framework/Versions/3.10/lib/python3.10/site-packages/matplotlib/_c_internal_utils.cpython-310-darwin.so, 0x0002): tried: '/Library/Frameworks/Python.framework/Versions/3.10/lib/python3.10/site-packages/matplotlib/_c_internal_utils.cpython-310-darwin.so' (mach-o file, but is an incompatible architecture (have 'arm64', need 'x86_64')), '/System/Volumes/Preboot/Cryptexes/OS/Library/Frameworks/Python.framework/Versions/3.10/lib/python3.10/site-packages/matplotlib/_c_internal_utils.cpython-310-darwin.so' (no such file), '/Library/Frameworks/Python.framework/Versions/3.10/lib/python3.10/site-packages/matplotlib/_c_internal_utils.cpython-310-darwin.so' (mach-o file, but is an incompatible architecture (have 'arm64', need 'x86_64'))"
     ]
    }
   ],
   "source": [
    "months = {}\n",
    "with open('sp-admissions.tsv', 'r') as f:\n",
    "    f.readline()\n",
    "    for line in f.readlines():\n",
    "        l = line.split('\\t')\n",
    "        if l[1][5:7] in months:\n",
    "            months[l[1][5:7]] += 1\n",
    "        else:\n",
    "            months[l[1][5:7]]  = 1\n",
    "\n",
    "import matplotlib.pyplot as plt\n",
    "\n",
    "plt.bar(range(len(months)), list(months.values()))\n",
    "plt.title('months')\n",
    "plt.ylabel('number')\n",
    "plt.xlabel('month')\n",
    "plt.show()\n"
   ]
  },
  {
   "cell_type": "markdown",
   "source": [
    "### 5"
   ],
   "metadata": {
    "collapsed": false
   }
  },
  {
   "cell_type": "code",
   "execution_count": 60,
   "outputs": [
    {
     "name": "stdout",
     "output_type": "stream",
     "text": [
      "Swimming Pool: Bacone\n",
      "Via Piccinni, 8, Milano\n",
      "\n",
      "User 1\n",
      "2022-01-20\t\t11:23\t13:30\n",
      "2022-01-21\t\t12:30\t13:30\n",
      "\n",
      "User 4, p2\n",
      "2022-04-20\t\t15:34\t17:30\n",
      "\n",
      "\n"
     ]
    }
   ],
   "source": [
    "class DuplicateUserException(Exception):\n",
    "    def __init__(self, msg):\n",
    "        self.msg = msg\n",
    "\n",
    "class WrongAdmissionException(Exception):\n",
    "    def __init__(self, msg):\n",
    "        self.msg = msg\n",
    "\n",
    "class SwimmingPool:\n",
    "    def __init__(self, name, location):\n",
    "        self.name = name\n",
    "        self.location = location\n",
    "        self.userList = []\n",
    "\n",
    "    def add_user(self, new_user):\n",
    "        if new_user not in self.userList:\n",
    "            self.userList.append(new_user)\n",
    "        else:\n",
    "            raise DuplicateUserException('already-existing user')\n",
    "\n",
    "    def __str__(self):\n",
    "        print(f'Swimming Pool: {self.name}\\n{self.location}')\n",
    "        print()\n",
    "        for user in self.userList:\n",
    "            if isinstance(user, PSPUser) and not user.pupil_id is None:\n",
    "                print(f'User {user.id}, {user.pupil_id}')\n",
    "                for adm in user.admissionList:\n",
    "                    print(f'{adm[0]}\\t\\t{adm[1]}\\t{adm[2]}')\n",
    "                print()\n",
    "            elif not isinstance(user, PSPUser):\n",
    "                print(f'User {user.id}')\n",
    "                for adm in user.admissionList:\n",
    "                    print(f'{adm[0]}\\t\\t{adm[1]}\\t{adm[2]}')\n",
    "                print()\n",
    "        return ''\n",
    "\n",
    "class User:\n",
    "    def __init__(self, id, full_name):\n",
    "        self.id = id\n",
    "        self.__name__ = full_name\n",
    "        self.admissionList = []\n",
    "x\n",
    "    def register_entry(self, new_date, new_time):\n",
    "        if len(self.admissionList) == 0 or\\\n",
    "            self.admissionList[-1][0] < new_date or\\\n",
    "            (self.admissionList[-1][0] == new_date and self.admissionList[-1][1] < new_time):\n",
    "            self.admissionList.append((new_date, new_time))\n",
    "        else:\n",
    "            raise WrongAdmissionException('new entry date-time cannot be earlier than last entry')\n",
    "\n",
    "    def register_exit(self, new_exit_time):\n",
    "        if self.admissionList[-1][1] < new_exit_time:\n",
    "            self.admissionList[-1] = (self.admissionList[-1][0], self.admissionList[-1][1], new_exit_time)\n",
    "        else:\n",
    "            raise WrongAdmissionException('exit time cannot be earlier than entry time')\n",
    "\n",
    "class PSPUser(User):\n",
    "    def __init__(self, id, full_name, pupil_id, schoolInfo):\n",
    "        self.id = id\n",
    "        self.__name__ = full_name\n",
    "        self.admissionList = []\n",
    "        self.pupil_id = pupil_id\n",
    "        self.__schoolInfo__ = schoolInfo\n",
    "\n",
    "    def deactivate_pupil(self):\n",
    "        self.pupil_id = None\n",
    "\n",
    "\n",
    "sp = SwimmingPool('Bacone', 'Via Piccinni, 8, Milano')\n",
    "u1 = User(1, 'Paolo')\n",
    "u1.register_entry('2022-01-20', '11:23')\n",
    "u1.register_exit('13:30')\n",
    "u1.register_entry('2022-01-21', '12:30')\n",
    "u1.register_exit('13:30')\n",
    "sp.add_user(u1)\n",
    "u3 = PSPUser(3, 'Laura', 'p1', 'Copernico')\n",
    "u3.register_entry('2022-01-22', '11:22')\n",
    "u3.register_exit('13:30')\n",
    "sp.add_user(u3)\n",
    "u3.deactivate_pupil()\n",
    "u4 = PSPUser(4, 'Chiara','p2','Galvani')\n",
    "u4.register_entry('2022-04-20', '15:34')\n",
    "u4.register_exit('17:30')\n",
    "sp.add_user(u4)\n",
    "\n",
    "print(sp)"
   ],
   "metadata": {
    "collapsed": false
   }
  },
  {
   "cell_type": "code",
   "execution_count": null,
   "outputs": [],
   "source": [],
   "metadata": {
    "collapsed": false
   }
  }
 ],
 "metadata": {
  "kernelspec": {
   "display_name": "Python 3 (ipykernel)",
   "language": "python",
   "name": "python3"
  },
  "language_info": {
   "codemirror_mode": {
    "name": "ipython",
    "version": 3
   },
   "file_extension": ".py",
   "mimetype": "text/x-python",
   "name": "python",
   "nbconvert_exporter": "python",
   "pygments_lexer": "ipython3",
   "version": "3.10.6"
  }
 },
 "nbformat": 4,
 "nbformat_minor": 1
}

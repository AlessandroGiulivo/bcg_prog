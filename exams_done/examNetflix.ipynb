{
 "cells": [
  {
   "cell_type": "code",
   "execution_count": 44,
   "metadata": {
    "collapsed": true
   },
   "outputs": [],
   "source": [
    "class DataBank:\n",
    "    def __init__(self):\n",
    "        self.itemsList = []\n",
    "\n",
    "    def add_item(self, new_item):\n",
    "        if len(self.itemsList) == 0:\n",
    "            self.itemsList.append(new_item)\n",
    "        else:\n",
    "            for i in range(len(self.itemsList)-1):\n",
    "                if self.itemsList[i].title < new_item.title and new_item.title < self.itemsList[i + 1].title:\n",
    "                    self.itemsList.insert(i + 1, new_item)\n",
    "            if self.itemsList[-1].title < new_item.title:\n",
    "                self.itemsList.append(new_item)\n",
    "\n",
    "    def save_items_info(self):\n",
    "        table = {}\n",
    "        for item in self.itemsList:\n",
    "            table[item] = {'Title':item.title, 'Director':item.director}\n",
    "            if isinstance(item, Movie):\n",
    "                table[item]['Type'] = 'Movie'\n",
    "            elif isinstance(item, Series):\n",
    "                table[item]['Type'] = 'Series'\n",
    "            else:\n",
    "                table[item]['Type'] = 'Unknown'\n",
    "            table[item]['Number of Ratings'] = len(item.ratings)\n",
    "            table[item]['Average Rating'] = sum(list(item.ratings.values())) / len(item.ratings)\n",
    "        with open('multimedia.csv', 'w') as f:\n",
    "            for k, v in table.items():\n",
    "                title = v['Title']\n",
    "                director = v['Director']\n",
    "                typ = v['Type']\n",
    "                n = v['Number of Ratings']\n",
    "                avg = v['Average Rating']\n",
    "                f.write(f'Title: {title}, Director: {director}, Type: {typ}, Number of Ratings: {n}, Average Rating: {avg}\\n')\n",
    "\n",
    "\n",
    "\n",
    "\n",
    "class MultimediaItem:\n",
    "    def __init__(self, title, director):\n",
    "        self.title = title\n",
    "        self.director = director\n",
    "        self.ratings = {}\n",
    "\n",
    "    def add_review(self, nickname, rating):\n",
    "        if nickname not in list(self.ratings.keys()):\n",
    "            self.ratings[nickname] = rating\n",
    "        else:\n",
    "            raise Exception('Rating for this nickname already present in database')\n",
    "        return True\n",
    "\n",
    "class Rating:\n",
    "    def __init__(self, user, score, MultimediaItem):\n",
    "        self.user = user\n",
    "        self.score = score\n",
    "        self.MultimediaItem = MultimediaItem\n",
    "\n",
    "class Movie(MultimediaItem):\n",
    "    pass\n",
    "\n",
    "class Series(MultimediaItem):\n",
    "    def __init__(self, title, director):\n",
    "        self.title = title\n",
    "        self.director = director\n",
    "        self.ratings = {}\n",
    "        self.episodes = []"
   ]
  },
  {
   "cell_type": "code",
   "execution_count": 45,
   "outputs": [],
   "source": [
    "db = DataBank()\n",
    "movie1 = Movie('Django', 'Quentin Tarantino')\n",
    "series1 = Series('Wednesday', 'Tim Burton')\n",
    "db.add_item(movie1)\n",
    "db.add_item(series1)\n",
    "movie1.add_review('sandrino', 4)\n",
    "movie1.add_review('sofi', 5)\n",
    "series1.add_review('lori', 5)\n",
    "series1.add_review('anna', 3)\n",
    "db.save_items_info()"
   ],
   "metadata": {
    "collapsed": false
   }
  },
  {
   "cell_type": "code",
   "execution_count": 2,
   "outputs": [
    {
     "data": {
      "text/plain": "True"
     },
     "execution_count": 2,
     "metadata": {},
     "output_type": "execute_result"
    }
   ],
   "source": [],
   "metadata": {
    "collapsed": false
   }
  },
  {
   "cell_type": "code",
   "execution_count": null,
   "outputs": [],
   "source": [],
   "metadata": {
    "collapsed": false
   }
  }
 ],
 "metadata": {
  "kernelspec": {
   "display_name": "Python 3",
   "language": "python",
   "name": "python3"
  },
  "language_info": {
   "codemirror_mode": {
    "name": "ipython",
    "version": 2
   },
   "file_extension": ".py",
   "mimetype": "text/x-python",
   "name": "python",
   "nbconvert_exporter": "python",
   "pygments_lexer": "ipython2",
   "version": "2.7.6"
  }
 },
 "nbformat": 4,
 "nbformat_minor": 0
}

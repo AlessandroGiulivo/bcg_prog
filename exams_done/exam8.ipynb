{
 "cells": [
  {
   "cell_type": "markdown",
   "id": "54264a1e",
   "metadata": {},
   "source": [
    "# Exam 8"
   ]
  },
  {
   "cell_type": "markdown",
   "id": "7357d22a",
   "metadata": {},
   "source": [
    "## Scenario\n",
    "A Bank institution manages data ot two types of accounts; *basic customers* and *trading\n",
    "customers*.<br>\n",
    "Both types have an *identifier* (e.g., the account number) and a *balance* (amount of\n",
    "available money). In addition, trading customers have a *portfolio* of owned stocks and quantity\n",
    "*(e.g., I(SPM, 200), (META, 100), . . )* and a variable *totalWealth* that summarises the balance\n",
    "with the values of the stocks.<br>\n",
    "How the value of totalWealth is updated is described later."
   ]
  },
  {
   "cell_type": "markdown",
   "id": "870c83bd",
   "metadata": {},
   "source": [
    "**1. Design the data structures to represent the Bank, the Basic Customers and the Trading Customers.**"
   ]
  },
  {
   "cell_type": "code",
   "execution_count": 1,
   "id": "9d72c646",
   "metadata": {},
   "outputs": [],
   "source": [
    "class Bank():\n",
    "    def __init__(self, bank_name):\n",
    "        self.name = bank_name\n",
    "        self.basic_customers = []\n",
    "        self.trading_customers = []\n",
    "        \n",
    "    def new_basic_customer(self, new_customer):\n",
    "        if new_customer not in self.basic_customers:\n",
    "            self.basic_customers.append(new_customer)\n",
    "        else:\n",
    "            raise Exception('Already-existing basic customer')\n",
    "            \n",
    "    def new_trading_customer(self, new_customer):\n",
    "        if new_customer not in self.trading_customers:\n",
    "            self.trading_customers.append(new_customer)\n",
    "        else:\n",
    "            raise Exception('Already-existing trading customer')\n",
    "\n",
    "class BasicCustomer:\n",
    "    def __init__(self, identifier, balance, bank):\n",
    "        self.id = identifier\n",
    "        self.balance = balance\n",
    "        self.bank = bank\n",
    "        self.bank.new_basic_customer(self)\n",
    "\n",
    "class TradingCustomer:\n",
    "    def __init__(self, identifier, balance, bank, portfolio, totalWealth):\n",
    "        self.id = identifier\n",
    "        self.balance = balance\n",
    "        self.bank = bank\n",
    "        self.portfolio = portfolio\n",
    "        self.totalWealth = totalWealth\n",
    "        self.bank.new_trading_customer(self)\n"
   ]
  },
  {
   "cell_type": "code",
   "execution_count": 2,
   "id": "22e7c08b",
   "metadata": {},
   "outputs": [
    {
     "name": "stdout",
     "output_type": "stream",
     "text": [
      "Ale\n",
      "Lori\n"
     ]
    }
   ],
   "source": [
    "# testing the code\n",
    "bank1 = Bank('UniCredit')\n",
    "c1 = BasicCustomer('Ale', 500, bank1)\n",
    "c2 = TradingCustomer('Lori', 100, bank1, [('SPM', 200), ('META', 100)], None)\n",
    "print(*[c.id for c in bank1.basic_customers])\n",
    "print(*[c.id for c in bank1.trading_customers])"
   ]
  },
  {
   "cell_type": "code",
   "execution_count": 3,
   "id": "55c78aae",
   "metadata": {},
   "outputs": [],
   "source": [
    "### generating random customers to test the code ###\n",
    "import random\n",
    "import string\n",
    "\n",
    "ids = []\n",
    "\n",
    "# 500 basic customers\n",
    "for n in range(500):\n",
    "    cid = ''.join(random.choices(string.ascii_letters + string.digits, k = 5))\n",
    "    while cid in ids:\n",
    "        cid = ''.join(random.choices(string.ascii_letters + string.digits, k = 5))\n",
    "    ids.append(cid)\n",
    "    globals()['c%s' % n] = BasicCustomer(cid, random.randint(0, 10000000), bank1)\n",
    "    \n",
    "# example list of stock names\n",
    "stocks = ['ADNWW', 'AIMDW', 'AMH', 'AQNA', 'ATCOL', 'AY', 'BFI', 'BLU', 'BRY', 'CAMT', 'CERS', 'CLBR', 'COE', 'CSCO', 'CYTO', 'DKDCW', 'DWACW', 'ELME', 'ESP', 'FBRX', 'FMC', 'FTF', 'GET', 'GNTX', 'GWRE', 'HMACU', 'HWCPZ', 'IMBIL', 'IRDM', 'JNCE', 'KOF', 'LEGA', 'LOV', 'MBCN', 'MGY', 'MPAA', 'MYD', 'NHI', 'NSTS', 'OCAXU', 'ORIAU', 'PCH', 'PII', 'PRCT', 'PYT', 'RELI', 'ROCG', 'SANW', 'SFST', 'SLNG', 'SPNS', 'SUM', 'TCVA', 'TMCWW', 'TTP', 'USAP', 'VIRX', 'WRK', 'ZBRA']\n",
    "\n",
    "# 500 trading customers\n",
    "for n in range(500, 1000):\n",
    "    cid = ''.join(random.choices(string.ascii_letters + string.digits, k = 5))\n",
    "    while cid in ids:\n",
    "        cid = ''.join(random.choices(string.ascii_letters + string.digits, k = 5))\n",
    "    ids.append(cid)\n",
    "    balance = random.randint(0, 10000000)\n",
    "    number_of_stocks_owned = random.randint(1, 10)\n",
    "    customer_stocks = [[stock_name, random.randint(0, 100)] for stock_name in random.choices(stocks, k = number_of_stocks_owned)]\n",
    "    globals()['c%s' % n] = TradingCustomer(cid, balance, bank1, customer_stocks, balance + random.randint(0, 1000))"
   ]
  },
  {
   "cell_type": "markdown",
   "id": "ab8cc0e1",
   "metadata": {},
   "source": [
    "**2. Design a function `make_transaction(customer_10_1, customer_1d_2, amount)`\n",
    "that:**\n",
    "* Attempts to move amount of money trom the balance of `customer_id_1` to the balance of `customer_id_2`\n",
    "* If the balance of `customerid_1` is lower than amount, then the transaction is aborted and a `BalanceException` is raised (also define the exception)\n",
    "* If the transaction is completed successfully, the function appends to a `log.csv` file a line of text with its parameters: `customer_id_1, customer_id_2, amount`"
   ]
  },
  {
   "cell_type": "code",
   "execution_count": 4,
   "id": "e0fc42b4",
   "metadata": {},
   "outputs": [],
   "source": [
    "class BalanceException(Exception):\n",
    "    def __init__(self, msg):\n",
    "        self.msg = msg\n",
    "\n",
    "def make_transaction(cus1, cus2, amount):\n",
    "    if cus1.balance > amount:\n",
    "        cus1.balance -= amount\n",
    "        cus2.balance += amount\n",
    "    else:\n",
    "        raise BalanceException('Not enough money to be transfered')\n",
    "    with open('log.csv', 'a') as af:\n",
    "        af.write(f'\\n{cus1.id}, {cus2.id}, {amount}')"
   ]
  },
  {
   "cell_type": "code",
   "execution_count": 5,
   "id": "ca8697f3",
   "metadata": {},
   "outputs": [],
   "source": [
    "make_transaction(c2, c1, 50)\n",
    "make_transaction(c1, c2, 200)"
   ]
  },
  {
   "cell_type": "markdown",
   "id": "995c750f",
   "metadata": {},
   "source": [
    "**3. Once a day, a financial institute provides a file `quotations.csv` that lists all the stocks with the\n",
    "dallyprice**: <br>\n",
    "`AMD, 113.18`<br>`AAPL, 168.64`<br>`TWTR, 35.84`<br>\n",
    "Create a function (or a set of tunctions) that reads and parses the file, and updates the\n",
    "totalWealth of each TradingCustomer as follows:<br>\n",
    "totalWealth = balance + ∑ (price_of_stock * quantity_of_stock)"
   ]
  },
  {
   "cell_type": "code",
   "execution_count": 6,
   "id": "9e9fa46e",
   "metadata": {},
   "outputs": [],
   "source": [
    "## creating the quotations file with random quotations for each stock ##\n",
    "with open('quotations.csv', 'w') as q:\n",
    "    for stock in stocks:\n",
    "        q.write(f'{stock}, {round(random.randint(0, 100) + random.random(), 2)}\\n')"
   ]
  },
  {
   "cell_type": "code",
   "execution_count": 7,
   "id": "d8bd8c2a",
   "metadata": {},
   "outputs": [],
   "source": [
    "def update_wealth(bank):\n",
    "    quotations = {}\n",
    "    with open('quotations.csv', 'r') as qf:\n",
    "        for line in qf.readlines():\n",
    "            line = line.strip().split(', ')\n",
    "            quotations[line[0]] = float(line[1])\n",
    "    for trad_cus in bank.trading_customers:\n",
    "        trad_cus.totalWealth = trad_cus.balance + sum([stock[1] * quotations[k]\n",
    "                                                         for stock in trad_cus.portfolio\n",
    "                                                          for k, v in quotations.items()\n",
    "                                                               if k == stock[0]])"
   ]
  },
  {
   "cell_type": "code",
   "execution_count": 8,
   "id": "bad00610",
   "metadata": {},
   "outputs": [
    {
     "name": "stdout",
     "output_type": "stream",
     "text": [
      "Trading Customer Lori\ttotalWealth: 100.00\n",
      "Trading Customer L9pyE\ttotalWealth: 5076365.59\n",
      "Trading Customer IknMw\ttotalWealth: 2070190.55\n",
      "Trading Customer RPd8I\ttotalWealth: 8282569.77\n",
      "Trading Customer xwO8d\ttotalWealth: 9631676.78\n",
      "Trading Customer VuiaB\ttotalWealth: 836742.77\n",
      "Trading Customer 6Pxs7\ttotalWealth: 2245008.65\n",
      "Trading Customer iAWKp\ttotalWealth: 1698035.71\n",
      "Trading Customer ajwT5\ttotalWealth: 5782312.14\n",
      "Trading Customer HdRYt\ttotalWealth: 558365.04\n"
     ]
    }
   ],
   "source": [
    "update_wealth(bank1)\n",
    "# totalWealth of first 10 customers\n",
    "for c in bank1.trading_customers[:10]:\n",
    "    print(f'Trading Customer {c.id}\\ttotalWealth: {c.totalWealth:.2f}')"
   ]
  },
  {
   "cell_type": "markdown",
   "id": "ccd04584",
   "metadata": {},
   "source": [
    "**4. Implement a piece of software that returns the list of the ids of the 10% Basic Customers with the highest balance.**"
   ]
  },
  {
   "cell_type": "code",
   "execution_count": 9,
   "id": "0bcf8e95",
   "metadata": {},
   "outputs": [
    {
     "name": "stdout",
     "output_type": "stream",
     "text": [
      "Customer: q7jlT\t\tBalance: 9947508.00\n",
      "Customer: BVu7m\t\tBalance: 9939041.00\n",
      "Customer: Cv6Rb\t\tBalance: 9870631.00\n",
      "Customer: bQGIS\t\tBalance: 9840789.00\n",
      "Customer: Ag4ap\t\tBalance: 9839935.00\n",
      "Customer: DSLws\t\tBalance: 9812487.00\n",
      "Customer: WChr7\t\tBalance: 9804161.00\n",
      "Customer: Oxw62\t\tBalance: 9775677.00\n",
      "Customer: 1tJ2j\t\tBalance: 9747244.00\n",
      "Customer: j65ih\t\tBalance: 9746931.00\n",
      "Customer: T0avC\t\tBalance: 9743145.00\n",
      "Customer: qpePc\t\tBalance: 9703488.00\n",
      "Customer: 5TVJK\t\tBalance: 9649705.00\n",
      "Customer: rX8dY\t\tBalance: 9644341.00\n",
      "Customer: AVFb6\t\tBalance: 9642795.00\n",
      "Customer: IsLWi\t\tBalance: 9641062.00\n",
      "Customer: pno0L\t\tBalance: 9608509.00\n",
      "Customer: HEHo1\t\tBalance: 9607902.00\n",
      "Customer: CoGzx\t\tBalance: 9586988.00\n",
      "Customer: hRvHE\t\tBalance: 9579682.00\n",
      "Customer: itAE4\t\tBalance: 9564130.00\n",
      "Customer: rwjfb\t\tBalance: 9530682.00\n",
      "Customer: sXkYu\t\tBalance: 9527302.00\n",
      "Customer: WyL3I\t\tBalance: 9523264.00\n",
      "Customer: P9tkO\t\tBalance: 9502774.00\n",
      "Customer: 9hMtP\t\tBalance: 9448309.00\n",
      "Customer: DCbZi\t\tBalance: 9448225.00\n",
      "Customer: 3Yb1Z\t\tBalance: 9426400.00\n",
      "Customer: dJuZg\t\tBalance: 9410912.00\n",
      "Customer: IA6K6\t\tBalance: 9401352.00\n",
      "Customer: umDvo\t\tBalance: 9383160.00\n",
      "Customer: qPxMu\t\tBalance: 9361185.00\n",
      "Customer: opUhT\t\tBalance: 9336075.00\n",
      "Customer: hFwhM\t\tBalance: 9325176.00\n",
      "Customer: vNHxn\t\tBalance: 9318768.00\n",
      "Customer: Y6kUK\t\tBalance: 9300064.00\n",
      "Customer: PHze6\t\tBalance: 9270193.00\n",
      "Customer: qKHBo\t\tBalance: 9237677.00\n",
      "Customer: Tza9M\t\tBalance: 9168102.00\n",
      "Customer: WK3RT\t\tBalance: 9152107.00\n",
      "Customer: y0cXD\t\tBalance: 9150133.00\n",
      "Customer: g0jYa\t\tBalance: 9137268.00\n",
      "Customer: 5axsy\t\tBalance: 9094319.00\n",
      "Customer: mCWDX\t\tBalance: 9068836.00\n",
      "Customer: ui0tp\t\tBalance: 9062960.00\n",
      "Customer: XBNII\t\tBalance: 9039747.00\n",
      "Customer: mjA7w\t\tBalance: 9027406.00\n",
      "Customer: C4RUR\t\tBalance: 9010526.00\n",
      "Customer: rkg3n\t\tBalance: 9008746.00\n",
      "Customer: QGKcA\t\tBalance: 8972041.00\n"
     ]
    }
   ],
   "source": [
    "def highest_basic_customers(bank):\n",
    "    d = {}\n",
    "    for basic_customer in bank.basic_customers:\n",
    "        d[basic_customer.id] = basic_customer.balance\n",
    "    balances = []\n",
    "    for k, v in d.items():\n",
    "        balances.append(v)\n",
    "    balances = sorted(balances, reverse = True)\n",
    "    for balance in balances[:len(balances)//10]:\n",
    "        for k, v in d.items():\n",
    "            if v == balance:\n",
    "                print(f'Customer: {k}\\t\\tBalance: {v:.2f}')\n",
    "\n",
    "highest_basic_customers(bank1) # should return 50 elements if we have 500 basic customers"
   ]
  },
  {
   "cell_type": "markdown",
   "id": "c8562fc3",
   "metadata": {},
   "source": [
    "**5. Implement a piece of software that identifies the stock that is owned by the maximum number of Trading Customers.**"
   ]
  },
  {
   "cell_type": "code",
   "execution_count": 10,
   "id": "b4735731",
   "metadata": {},
   "outputs": [
    {
     "name": "stdout",
     "output_type": "stream",
     "text": [
      "Stock ESP owned by 61 customers\n"
     ]
    }
   ],
   "source": [
    "stock_owners = {}\n",
    "for c in bank1.trading_customers:\n",
    "    for stock in c.portfolio:\n",
    "        if stock[0] not in stock_owners:\n",
    "            stock_owners[stock[0]] = 1\n",
    "        else:\n",
    "            stock_owners[stock[0]] += 1\n",
    "max_num = 0\n",
    "for k, v in stock_owners.items():\n",
    "    if v > max_num:\n",
    "        max_num = v\n",
    "\n",
    "for k, v in stock_owners.items():\n",
    "    if v == max_num:\n",
    "        most_owned_stock = k\n",
    "        print(f'Stock {k} owned by {v} customers')"
   ]
  },
  {
   "cell_type": "markdown",
   "id": "76a5b439",
   "metadata": {},
   "source": [
    "**6. Implement a function `quantity_boxplot(stock)` that:**\n",
    "* Identifies the customers that own the `stock`;\n",
    "* From each of those customers extracts the quantity of the stock;\n",
    "* Plots a boxplot of the distribution of the quantity."
   ]
  },
  {
   "cell_type": "code",
   "execution_count": 11,
   "id": "5ab4a64d",
   "metadata": {},
   "outputs": [],
   "source": [
    "import matplotlib.pyplot as plt"
   ]
  },
  {
   "cell_type": "code",
   "execution_count": 12,
   "id": "10c532eb",
   "metadata": {},
   "outputs": [
    {
     "data": {
      "image/png": "[encoded data removed]",
      "text/plain": [
       "<Figure size 640x480 with 1 Axes>"
      ]
     },
     "metadata": {},
     "output_type": "display_data"
    }
   ],
   "source": [
    "def quantity_boxplot(stock):\n",
    "    ### with a for loop ###\n",
    "    #for c in bank1.trading_customers:\n",
    "    #    for s in c.portfolio:\n",
    "    #        if s[0] == stock:\n",
    "    #            lst.append(s[1])\n",
    "    ### or with a list comprehension ###\n",
    "    quantities = [s[1] for c in bank1.trading_customers for s in c.portfolio if s[0] == stock]\n",
    "    plt.boxplot(quantities)\n",
    "    plt.title(f'Distribution of {stock} quantities owned by bank customers')\n",
    "\n",
    "quantity_boxplot(most_owned_stock)\n"
   ]
  },
  {
   "cell_type": "code",
   "execution_count": null,
   "id": "95ac1c99",
   "metadata": {},
   "outputs": [],
   "source": []
  }
 ],
 "metadata": {
  "kernelspec": {
   "display_name": "Python 3 (ipykernel)",
   "language": "python",
   "name": "python3"
  },
  "language_info": {
   "codemirror_mode": {
    "name": "ipython",
    "version": 3
   },
   "file_extension": ".py",
   "mimetype": "text/x-python",
   "name": "python",
   "nbconvert_exporter": "python",
   "pygments_lexer": "ipython3",
   "version": "3.10.6"
  }
 },
 "nbformat": 4,
 "nbformat_minor": 5
}

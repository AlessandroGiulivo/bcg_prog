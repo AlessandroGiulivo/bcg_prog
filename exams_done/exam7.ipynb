{
 "cells": [
  {
   "cell_type": "markdown",
   "metadata": {},
   "source": [
    "# Exam7"
   ]
  },
  {
   "cell_type": "markdown",
   "metadata": {},
   "source": [
    "## [File management, basic python, data structures]\n",
    "A dump from a SQL database designed for in-silico drug repurposing experiments contains two textual tab-separated files, namely `cell_mutation.tsv` and `ic50.tsv`.\n",
    "The `cell_mutation.tsv` file contains a list of pairs *cell_line - gene*; each pair indicates that the cell_line harbours a mutation on the gene.\n",
    "The `ic50.tsv` file contains triplets <*cell line, drug, ic50*> and indicates the ic50 score (a typical measure for the drug response) of the drug on the cell line."
   ]
  },
  {
   "cell_type": "code",
   "execution_count": 2,
   "metadata": {},
   "outputs": [],
   "source": [
    "# creating the files to test the code\n",
    "with open('cell_mutation.tsv', 'w') as f:\n",
    "    f.write('''cell gene\n",
    "MCF7    ADAM17\n",
    "MCF7    ALPK1\n",
    "K562    CBL\n",
    "K562    CIT''')\n",
    "\n",
    "with open('ic50.tsv', 'w') as f:\n",
    "    f.write('''cell drug    ic50\n",
    "MCF7    tamoxifen   4.506\n",
    "K562    tamoxifen   30.1\n",
    "MCF7    Bicalutamide    7.54\n",
    "K562    Bicalutamide    10.537''')"
   ]
  },
  {
   "cell_type": "markdown",
   "metadata": {},
   "source": [
    "**A)** Load the `cell_mutation.tsv` file into a dictionary `mut`, with the format *{cell: [list mutated genes]}*;\n",
    "load the ic50.tsv file into a list of tuples scores (e.g., [(cell, drug,\n",
    "score), (..,..,..)]). Mind the header in both file."
   ]
  },
  {
   "cell_type": "code",
   "execution_count": 1,
   "metadata": {},
   "outputs": [
    {
     "name": "stdout",
     "output_type": "stream",
     "text": [
      "{'MCF7': ['ADAM17', 'ALPK1'], 'K562': ['CBL', 'CIT']}\n",
      "[('MCF7', 'tamoxifen', 4.506), ('K562', 'tamoxifen', 30.1), ('MCF7', 'Bicalutamide', 7.54), ('K562', 'Bicalutamide', 10.537)]\n"
     ]
    }
   ],
   "source": [
    "mut = {}\n",
    "with open('cell_mutation.tsv', 'r') as mf:\n",
    "    mf.readline()\n",
    "    for line in mf.readlines():\n",
    "        line = line.strip().split('\\t')\n",
    "        if line[0] not in mut:\n",
    "            mut[line[0]] = [line[1]]\n",
    "        else:\n",
    "            mut[line[0]].append(line[1])\n",
    "\n",
    "scores = []\n",
    "with open('ic50.tsv', 'r') as sf:\n",
    "    sf.readline()\n",
    "    for line in sf.readlines():\n",
    "        line = line.strip().split('\\t')\n",
    "        scores.append((line[0], line[1], float(line[2])))\n",
    "\n",
    "print(mut)\n",
    "print(scores)"
   ]
  },
  {
   "cell_type": "markdown",
   "metadata": {},
   "source": [
    "**B)** Implement a function `with_mutation(gene_id)` that takes as input a string representing an identifier of a gene, analyses the `mut` dictionary and returns the (possibly empty) list of cell lines harbouring a mutation on that gene"
   ]
  },
  {
   "cell_type": "code",
   "execution_count": 4,
   "metadata": {},
   "outputs": [
    {
     "data": {
      "text/plain": [
       "['MCF7']"
      ]
     },
     "execution_count": 4,
     "metadata": {},
     "output_type": "execute_result"
    }
   ],
   "source": [
    "def with_mutation(gene):\n",
    "    cells = []\n",
    "    for k, v in mut.items():\n",
    "        if gene in v:\n",
    "            cells.append(k)\n",
    "    return cells\n",
    "\n",
    "with_mutation('ALPK1')"
   ]
  },
  {
   "cell_type": "markdown",
   "metadata": {
    "collapsed": true
   },
   "source": [
    "**C)** Implement a function `sensitive_to(drug_name)` that takes as input a drug name and analyses the scores list. If `drug_name` is not present in the list, then a built-in `ValueError` exception is raised. Otherwise, the function firstly computes the mean IC50 of the input drug across all the cell lines and finally returns the list of cell lines which IC50 score (associated to the input drug) is lower than the computed mean."
   ]
  },
  {
   "cell_type": "code",
   "execution_count": 5,
   "metadata": {},
   "outputs": [
    {
     "name": "stdout",
     "output_type": "stream",
     "text": [
      "['MCF7']\n",
      "['MCF7']\n"
     ]
    }
   ],
   "source": [
    "def sensitive_to(drug_name):\n",
    "    drug_names = [t[1] for t in scores]\n",
    "    if drug_name not in drug_names:\n",
    "        raise ValueError('drug_name not in list of drugs')\n",
    "    else:\n",
    "        drug_scores = [t[2] for t in scores if t[1] == drug_name]\n",
    "        scores_mean = sum(drug_scores)/len(drug_scores)\n",
    "        cells = [t[0] for t in scores if t[1] == drug_name and\n",
    "                                         t[2] <= scores_mean]\n",
    "    return cells\n",
    "\n",
    "print(sensitive_to('tamoxifen'))\n",
    "print(sensitive_to('Bicalutamide'))\n",
    "#sensitive_to('stammoxifenn') # -> gives error\n",
    "    "
   ]
  },
  {
   "cell_type": "markdown",
   "metadata": {},
   "source": [
    "**D)** Implement a `compare(drug1, drug2)` function that takes as input two drug identifiers, analyses the list scores and draws the two boxplots of the IC50 scores to the two drugs."
   ]
  },
  {
   "cell_type": "code",
   "execution_count": 7,
   "metadata": {},
   "outputs": [],
   "source": [
    "import matplotlib.pyplot as plt"
   ]
  },
  {
   "cell_type": "code",
   "execution_count": 10,
   "metadata": {},
   "outputs": [
    {
     "data": {
      "image/png": "[encoded data removed]",
      "text/plain": [
       "<Figure size 640x480 with 1 Axes>"
      ]
     },
     "metadata": {},
     "output_type": "display_data"
    }
   ],
   "source": [
    "def compare(drug1, drug2):\n",
    "    drug1_scores = [t[2] for t in scores if t[1] == drug1]\n",
    "    drug2_scores = [t[2] for t in scores if t[1] == drug2]\n",
    "    plt.boxplot([drug1_scores,drug2_scores])\n",
    "    plt.title(f'{drug1} vs {drug2}')\n",
    "    plt.show()\n",
    "\n",
    "compare('tamoxifen', 'Bicalutamide')"
   ]
  },
  {
   "cell_type": "markdown",
   "metadata": {},
   "source": [
    "## [Object Oriented]\n",
    "\n",
    "Implement the class `MyContainer`, that has an attribute list (initially empty), an attribute `maxElem` and an attribute `minElem` that represent the minimum and the maximum elements in the list and are both initially set to `None`. `MyContainer` also has a method `add_elem(x)` that adds the element x to the list and eventually updates the value of the `min` and `max` element.<br>\n",
    "\n",
    "Implement `MyBatchContainer` class, that extends `MyContainer` and provides the `add_batch(list_of_elements)` method, which allows the user to add many elements at once, passing them as a list. It is required to implement the new method by using the `MyContainer.add_elem` method, rather than directly accessing and updating the class attributes."
   ]
  },
  {
   "cell_type": "code",
   "execution_count": 12,
   "metadata": {},
   "outputs": [],
   "source": [
    "class MyContainer:\n",
    "    # attributes\n",
    "    lst = []\n",
    "    maxElem = None\n",
    "    minElem = None\n",
    "    \n",
    "    # methods\n",
    "    def __init__(self):\n",
    "        pass\n",
    "    \n",
    "    def add_elem(self, x):\n",
    "        self.lst.append(x)\n",
    "        if self.maxElem == None or self.maxElem < x:\n",
    "            self.maxElem = x\n",
    "        if self.minElem == None or self.minElem > x:\n",
    "            self.minElem = x\n",
    "\n",
    "class MyBatchContainer(MyContainer):\n",
    "    def add_batch(self, list_of_elements):\n",
    "        for x in list_of_elements:\n",
    "            super().add_elem(x)"
   ]
  },
  {
   "cell_type": "code",
   "execution_count": 13,
   "metadata": {},
   "outputs": [
    {
     "name": "stdout",
     "output_type": "stream",
     "text": [
      "None\n",
      "None\n",
      "3\n",
      "3\n",
      "10\n",
      "3\n"
     ]
    }
   ],
   "source": [
    "c = MyContainer()\n",
    "print(c.maxElem)\n",
    "print(c.minElem)\n",
    "c.add_elem(3)\n",
    "print(c.maxElem)\n",
    "print(c.minElem)\n",
    "c.add_elem(10)\n",
    "print(c.maxElem)\n",
    "print(c.minElem)"
   ]
  },
  {
   "cell_type": "markdown",
   "metadata": {},
   "source": [
    "\n",
    "### [Recursion]\n",
    "The int built-in python function parses a valid string (e.g., “123”) into the corresponding integer. Implement recInt(string), a recursive version of the int\n",
    "function.  \n",
    "If the input string is not valid (e.g., “1ab”) then the function prints an error message and returns None."
   ]
  },
  {
   "cell_type": "code",
   "execution_count": 18,
   "metadata": {},
   "outputs": [],
   "source": [
    "numbers = {'0': 0, '1': 1, '2': 2, '3': 3, '4': 4,\n",
    "           '5': 5, '6': 6, '7': 7, '8': 8, '9': 9}\n",
    "def recInt(string):\n",
    "    if len(string) == 0:\n",
    "        return None\n",
    "    if string[-1] not in numbers:\n",
    "        raise ValueError('Not valid integer')\n",
    "    if len(string) == 1:\n",
    "        return numbers[string]\n",
    "    else:\n",
    "        return 10*recInt(string[:-1]) + numbers[string[-1]]\n",
    "        "
   ]
  },
  {
   "cell_type": "code",
   "execution_count": 23,
   "metadata": {},
   "outputs": [
    {
     "data": {
      "text/plain": [
       "1097658"
      ]
     },
     "execution_count": 23,
     "metadata": {},
     "output_type": "execute_result"
    }
   ],
   "source": [
    "recInt('1097658')\n",
    "# recInt('35abcu2w38') # -> raises an error"
   ]
  }
 ],
 "metadata": {
  "kernelspec": {
   "display_name": "Python 3 (ipykernel)",
   "language": "python",
   "name": "python3"
  },
  "language_info": {
   "codemirror_mode": {
    "name": "ipython",
    "version": 3
   },
   "file_extension": ".py",
   "mimetype": "text/x-python",
   "name": "python",
   "nbconvert_exporter": "python",
   "pygments_lexer": "ipython3",
   "version": "3.10.6"
  }
 },
 "nbformat": 4,
 "nbformat_minor": 1
}

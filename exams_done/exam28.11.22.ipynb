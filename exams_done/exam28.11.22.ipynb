{
 "cells": [
  {
   "cell_type": "markdown",
   "id": "3572fe93",
   "metadata": {},
   "source": [
    "# Exam-like"
   ]
  },
  {
   "cell_type": "code",
   "execution_count": 2,
   "id": "698d3997",
   "metadata": {},
   "outputs": [],
   "source": [
    "La = [('DLL1', -0.60), ('BRCA2', 0.02), ('IGF2', 1.34), ('TNF', -1.87)]\n",
    "Lb = [('TRPV2', 12732), ('DLL1', 8342), ('BRCA2', 6334), ('IGF2', 18342)]"
   ]
  },
  {
   "cell_type": "code",
   "execution_count": 4,
   "id": "a171a6e3",
   "metadata": {},
   "outputs": [
    {
     "data": {
      "text/plain": [
       "[('DLL1', -0.6, 8342), ('BRCA2', 0.02, 6334), ('IGF2', 1.34, 18342)]"
      ]
     },
     "execution_count": 4,
     "metadata": {},
     "output_type": "execute_result"
    }
   ],
   "source": [
    "Lc = []\n",
    "for e1 in La:\n",
    "    for e2 in Lb:\n",
    "        if e1[0] == e2[0]:\n",
    "            Lc.append((e1[0], e1[1], e2[1]))\n",
    "Lc"
   ]
  },
  {
   "cell_type": "code",
   "execution_count": 6,
   "id": "89cd84e9",
   "metadata": {},
   "outputs": [
    {
     "data": {
      "text/plain": [
       "[('DLL1', -0.6, 8342), ('BRCA2', 0.02, 6334), ('IGF2', 1.34, 18342)]"
      ]
     },
     "execution_count": 6,
     "metadata": {},
     "output_type": "execute_result"
    }
   ],
   "source": [
    "Lc = [(g1, v1, v2) for g1, v1 in La for g2, v2 in Lb if g1 == g2]\n",
    "Lc"
   ]
  },
  {
   "cell_type": "code",
   "execution_count": null,
   "id": "720f8558",
   "metadata": {},
   "outputs": [],
   "source": [
    "## at home\n",
    "## implement a left join and full outer join"
   ]
  },
  {
   "cell_type": "code",
   "execution_count": null,
   "id": "69bcebe9",
   "metadata": {},
   "outputs": [],
   "source": []
  },
  {
   "cell_type": "code",
   "execution_count": null,
   "id": "a82b3240",
   "metadata": {},
   "outputs": [],
   "source": []
  },
  {
   "cell_type": "code",
   "execution_count": null,
   "id": "9d8135af",
   "metadata": {},
   "outputs": [],
   "source": []
  },
  {
   "cell_type": "code",
   "execution_count": null,
   "id": "c6d24ae4",
   "metadata": {},
   "outputs": [],
   "source": []
  }
 ],
 "metadata": {
  "kernelspec": {
   "display_name": "Python 3 (ipykernel)",
   "language": "python",
   "name": "python3"
  },
  "language_info": {
   "codemirror_mode": {
    "name": "ipython",
    "version": 3
   },
   "file_extension": ".py",
   "mimetype": "text/x-python",
   "name": "python",
   "nbconvert_exporter": "python",
   "pygments_lexer": "ipython3",
   "version": "3.10.6"
  }
 },
 "nbformat": 4,
 "nbformat_minor": 5
}

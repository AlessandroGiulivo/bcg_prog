{
 "cells": [
  {
   "cell_type": "markdown",
   "id": "be3a79eb",
   "metadata": {},
   "source": [
    "# Programming Exam - 10.02.2023"
   ]
  },
  {
   "cell_type": "code",
   "execution_count": 1,
   "id": "b9d34967",
   "metadata": {},
   "outputs": [],
   "source": [
    "import random as r\n",
    "import matplotlib.pyplot as plt"
   ]
  },
  {
   "cell_type": "code",
   "execution_count": 2,
   "id": "fc107da0",
   "metadata": {},
   "outputs": [],
   "source": [
    "def insert_pawn_position():\n",
    "    coords = input('Please, insert starting coordinates (example: \"2, 2\") ')\n",
    "    try:\n",
    "        x, y = list(map(int, coords.split(', ')))\n",
    "        if x < 0 or y < 0 or x > 4 or y > 4:\n",
    "            print('Error: coordinates out of range [0, 4]')\n",
    "        else:\n",
    "            return x, y\n",
    "    except ValueError:\n",
    "        print('Not valid input')"
   ]
  },
  {
   "cell_type": "code",
   "execution_count": 3,
   "id": "9f2553e9",
   "metadata": {},
   "outputs": [],
   "source": [
    "class OutOfBoardException(Exception):\n",
    "    pass\n",
    "\n",
    "class MaxNumMovesException(Exception):\n",
    "    pass"
   ]
  },
  {
   "cell_type": "code",
   "execution_count": 4,
   "id": "d6ff2f44",
   "metadata": {},
   "outputs": [],
   "source": [
    "class PoliGame:\n",
    "    moves = ['UP', 'RIGHT', 'DOWN', 'LEFT', 'WON!']\n",
    "    \n",
    "    def __init__(self):\n",
    "        self.board = [r.choices(self.moves, k = 5) for _ in range(5)]\n",
    "        self.pawn_pos = insert_pawn_position()\n",
    "    \n",
    "    def __str__(self):\n",
    "        res = ''\n",
    "        for i in range(5):\n",
    "            for j in range(5):\n",
    "                if j != 4:\n",
    "                    if (i, j) == self.pawn_pos:\n",
    "                        res += f'[{self.board[i][j]}]\\t'\n",
    "                    else:\n",
    "                        res += f'{self.board[i][j]:8}'\n",
    "                else:\n",
    "                    if (i, j) == self.pawn_pos:\n",
    "                        res += f'[{self.board[i][j]}]\\n'\n",
    "                    else:\n",
    "                        res += f'{self.board[i][j]:8}\\n'\n",
    "        return res\n",
    "    \n",
    "    def draw_moves_plot(self):\n",
    "        moves_counts = {}\n",
    "        for move in sorted(self.moves):        # forgot 'self.' in self.moves\n",
    "            moves_counts[move] = 0\n",
    "        for i in range(5):\n",
    "            for j in range(5):\n",
    "                moves_counts[self.board[i][j]] += 1\n",
    "        plt.bar(list(moves_counts.keys()), list(moves_counts.values()))    # wrote 'plt.barplot'\n",
    "        plt.show()\n",
    "    \n",
    "    def one_step_move(self, max_num, moves_num = 0):\n",
    "        x, y = self.pawn_pos\n",
    "        if self.board[x][y] == 'WON!':\n",
    "            return f'The pawn won the game in {moves_num} moves!'\n",
    "        else:\n",
    "            try:                                             # did not manage exceptions with try and except\n",
    "                moves_num += 1\n",
    "                if moves_num == max_num:\n",
    "                    raise MaxNumMovesException\n",
    "            except MaxNumMovesException:\n",
    "                return 'The pawn lost the game because it reached the maximum number of moves allowed'\n",
    "            \n",
    "            if self.board[x][y] == 'UP':\n",
    "                self.pawn_pos = (x - 1, y)    # subtracted to y instead\n",
    "            elif self.board[x][y] == 'DOWN':\n",
    "                self.pawn_pos = (x + 1, y)    # added to y instead\n",
    "            elif self.board[x][y] == 'LEFT':\n",
    "                self.pawn_pos = (x, y - 1)    # subtracted to x instead\n",
    "            elif self.board[x][y] == 'RIGHT':\n",
    "                self.pawn_pos = (x, y + 1)    # added to x instead\n",
    "                \n",
    "            try:                                             # did not manage exceptions with try and except\n",
    "                if -1 in self.pawn_pos or 5 in self.pawn_pos:\n",
    "                    raise OutOfBoardException()\n",
    "                else:\n",
    "                    return self.one_step_move(max_num, moves_num)\n",
    "            except OutOfBoardException:\n",
    "                return f'The pawn lost the game because it tried to access position ({x}, {y}) of the board'"
   ]
  },
  {
   "cell_type": "code",
   "execution_count": 5,
   "id": "22168fdc",
   "metadata": {},
   "outputs": [],
   "source": [
    "def play_poligame(n, max_num):\n",
    "    winning_moves_numbers = []\n",
    "    for _ in range(n):\n",
    "        game = PoliGame()\n",
    "\n",
    "        with open('boards_record.txt', 'a') as f:\n",
    "            f.write(str(game) + '\\n')     # wrote f.write(game)\n",
    "\n",
    "        game.draw_moves_plot()\n",
    "\n",
    "        result = game.one_step_move(max_num)\n",
    "        print(result + '\\n')\n",
    "        if 'won' in result:\n",
    "            winning_moves_numbers.append(int(result.split(' ')[6]))\n",
    "\n",
    "    plt.boxplot(winning_moves_numbers)\n",
    "    plt.title('Distribution of the number of moves in the winning games')\n",
    "    plt.xticks([])                                         # did not do this in the exam\n",
    "    plt.yticks(range(2 + max(winning_moves_numbers)))      # did not do this in the exam\n",
    "    plt.show()"
   ]
  },
  {
   "cell_type": "code",
   "execution_count": null,
   "id": "af97795a",
   "metadata": {
    "scrolled": false
   },
   "outputs": [
    {
     "name": "stdout",
     "output_type": "stream",
     "text": [
      "Please, insert starting coordinates (example: \"2, 2\") 2, 2\n"
     ]
    },
    {
     "data": {
      "image/png": "[encoded data removed]",
      "text/plain": [
       "<Figure size 640x480 with 1 Axes>"
      ]
     },
     "metadata": {},
     "output_type": "display_data"
    },
    {
     "name": "stdout",
     "output_type": "stream",
     "text": [
      "The pawn won the game in 0 moves!\n",
      "\n"
     ]
    }
   ],
   "source": [
    "play_poligame(5, 10)"
   ]
  },
  {
   "cell_type": "code",
   "execution_count": null,
   "id": "b2c094db",
   "metadata": {},
   "outputs": [],
   "source": []
  }
 ],
 "metadata": {
  "kernelspec": {
   "display_name": "Python 3 (ipykernel)",
   "language": "python",
   "name": "python3"
  },
  "language_info": {
   "codemirror_mode": {
    "name": "ipython",
    "version": 3
   },
   "file_extension": ".py",
   "mimetype": "text/x-python",
   "name": "python",
   "nbconvert_exporter": "python",
   "pygments_lexer": "ipython3",
   "version": "3.10.6"
  }
 },
 "nbformat": 4,
 "nbformat_minor": 5
}

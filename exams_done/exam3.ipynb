{
 "cells": [
  {
   "cell_type": "markdown",
   "metadata": {},
   "source": [
    "# Exam 3"
   ]
  },
  {
   "cell_type": "markdown",
   "metadata": {},
   "source": [
    "1) [5 pts]** Consider a **square matrix NxN**, represented as a list of lists:<br> `A = [[0,1,2,5],`<br> `[1,0,1,0],`\n",
    "        [0,2,5,0],\n",
    "        [3,0,0,3]]`\n",
    "write a piece of code that computes the matrix M = A*A - A.*A , where the “ * “ operator denotes the matrix multiplication (row-by-column) and the ” .\\*“ operator denotes the element-by-element multiplication"
   ]
  },
  {
   "cell_type": "code",
   "execution_count": 3,
   "metadata": {},
   "outputs": [
    {
     "name": "stdout",
     "output_type": "stream",
     "text": [
      "[16, 3, 7, -10]\n",
      "[-1, 3, 6, 5]\n",
      "[2, 6, 2, 0]\n",
      "[0, 3, 6, 15]\n"
     ]
    }
   ],
   "source": [
    "#import numpy as np\n",
    "A = [[0,1,2,5],\n",
    "     [1,0,1,0],\n",
    "     [0,2,5,0],\n",
    "     [3,0,0,3]]\n",
    "\n",
    "M = [[0,0,0,0],\n",
    "     [0,0,0,0],\n",
    "     [0,0,0,0],\n",
    "     [0,0,0,0]]\n",
    "\n",
    "for i in range(len(A)):\n",
    "   for j in range(len(A[0])):\n",
    "       for k in range(len(A)):\n",
    "           M[i][j] += A[i][k] * A[k][j]\n",
    "\n",
    "for i in range(len(A)):\n",
    "     for j in range(len(A[0])):\n",
    "          M[i][j] -= A[i][j]**2\n",
    "for r in M:\n",
    "    print(r)"
   ]
  },
  {
   "cell_type": "markdown",
   "metadata": {},
   "source": [
    "### 2)"
   ]
  },
  {
   "cell_type": "code",
   "execution_count": 21,
   "metadata": {},
   "outputs": [],
   "source": [
    "def geom(a, n):\n",
    "    if a < 0 or n < 0 or a > 1:\n",
    "        raise Exception('ValueError')\n",
    "    elif n == 0:\n",
    "        return 1\n",
    "    elif n == 1:\n",
    "        return a\n",
    "    else:\n",
    "        return a**n + geom(a, n-1)"
   ]
  },
  {
   "cell_type": "code",
   "execution_count": 23,
   "metadata": {},
   "outputs": [
    {
     "data": {
      "text/plain": [
       "0.24960000000000002"
      ]
     },
     "execution_count": 23,
     "metadata": {},
     "output_type": "execute_result"
    }
   ],
   "source": [
    "geom(0.2, 4)"
   ]
  },
  {
   "cell_type": "markdown",
   "metadata": {},
   "source": [
    "### 3)"
   ]
  },
  {
   "cell_type": "code",
   "execution_count": 38,
   "metadata": {},
   "outputs": [],
   "source": [
    "d = {}\n",
    "with open('exam3_ex3.csv', 'r') as f:\n",
    "    for line in f.readlines():\n",
    "        drug, prot = line.strip('\\n').split(', ')\n",
    "        if drug not in d:\n",
    "            d[drug] = [prot]\n",
    "        else:\n",
    "            d[drug].append(prot)\n",
    "for k, v in d.items():\n",
    "    with open(f'{k}.txt', 'w') as f:\n",
    "        f.write(', '.join(v))"
   ]
  },
  {
   "cell_type": "markdown",
   "metadata": {},
   "source": [
    "### 4) [10 pts]\n",
    "Define a class to manage a secure password.<br> The class has an `update(new_pwd)` password, that accepts a password if it is at least 8 character long, contains two digits, at least a capital case letter and it is different from the last 5 inserted.<br> Also the class has a method `suggest()` that returns a valid password."
   ]
  },
  {
   "cell_type": "code",
   "execution_count": 58,
   "metadata": {},
   "outputs": [],
   "source": [
    "import random as r"
   ]
  },
  {
   "cell_type": "code",
   "execution_count": 71,
   "metadata": {},
   "outputs": [],
   "source": [
    "### DOES NOT FUCKING WORK ###\n",
    "class Password:\n",
    "    def __init__(self, password):\n",
    "        self.password = password\n",
    "        self.previous = []\n",
    "\n",
    "    def update(self, new_pwd):\n",
    "        digit_count = 0\n",
    "        for c in new_pwd:\n",
    "            if c.isdigit():\n",
    "                digit_count += 1\n",
    "        upper_count = 0\n",
    "        for c in new_pwd:\n",
    "            if c.isupper():\n",
    "                upper_count += 1\n",
    "        if len(new_pwd) < 8 or digit_count < 2 or upper_count < 1:\n",
    "            if len(self.previous) <= 5 and new_pwd in self.previous or len(self.previous) > 5 and new_pwd in self.previous[-5:]:\n",
    "                print('Not Valid Password')\n",
    "        else:\n",
    "            self.previous.append(self.password)\n",
    "            self.password = new_pwd\n",
    "\n",
    "    def suggest(self):\n",
    "        sugg = [str(r.randint(0,9)),\n",
    "                str(r.randint(0,9)),\n",
    "                r.choice('ABCDEFGHIJKLMNOPQRSTUVWXYZ')].extend(\n",
    "                r.choices([str(r.randint(0,9)),\n",
    "                            str(r.randint(0,9)),\n",
    "                            r.choice('ABCDEFGHIJKLMNOPQRSTUVWXYZ'),\n",
    "                            r.choice('abcdefghijklmnopqrstuvwxyz')],\n",
    "                            k = r.randint(5, 30))\n",
    "                )\n",
    "        r.shuffle(sugg)\n",
    "        return ''.join(sugg)\n",
    "\n",
    "### DOES NOT FUCKING WORK ###"
   ]
  },
  {
   "cell_type": "code",
   "execution_count": 74,
   "metadata": {},
   "outputs": [],
   "source": [
    "p1 = Password('iwsc')\n",
    "p1.update('ilc')"
   ]
  },
  {
   "cell_type": "markdown",
   "metadata": {},
   "source": [
    "### 5)"
   ]
  },
  {
   "cell_type": "code",
   "execution_count": 75,
   "metadata": {},
   "outputs": [],
   "source": [
    "def filter_and_average(dict):\n",
    "    for gene, expr in dict.items():\n",
    "        if expr == 0:\n",
    "            dict.pop(gene)\n",
    "    expr_list = [expr for gene, expr in dict.items()]\n",
    "    return (sum(expr_list)/len(expr_list))"
   ]
  },
  {
   "cell_type": "code",
   "execution_count": null,
   "metadata": {},
   "outputs": [],
   "source": []
  }
 ],
 "metadata": {
  "kernelspec": {
   "display_name": "Python 3 (ipykernel)",
   "language": "python",
   "name": "python3"
  },
  "language_info": {
   "codemirror_mode": {
    "name": "ipython",
    "version": 3
   },
   "file_extension": ".py",
   "mimetype": "text/x-python",
   "name": "python",
   "nbconvert_exporter": "python",
   "pygments_lexer": "ipython3",
   "version": "3.10.6"
  }
 },
 "nbformat": 4,
 "nbformat_minor": 1
}

{
 "cells": [
  {
   "cell_type": "markdown",
   "metadata": {},
   "source": [
    "# PROGRAMMING AND DATA BASES (Programming) 15/01/2020"
   ]
  },
  {
   "cell_type": "markdown",
   "metadata": {},
   "source": [
    "## 1. [4 pts]\n",
    "Consider a list of pairs (represented as tuples of two elements).\n",
    "`L = [(1,3), (4,0), (3,3), (0,1)]`\n",
    "Write a piece of code that computes the number of pairs for which the first element is greater than the second one, the number of pairs for which the two elements are equal and the number of pairs for which the second element is greater than the first one.\n",
    "**(NB: solutions that make use of list comprehension are preferable)**\n"
   ]
  },
  {
   "cell_type": "code",
   "execution_count": 13,
   "metadata": {},
   "outputs": [
    {
     "name": "stdout",
     "output_type": "stream",
     "text": [
      "first > second:  1\n",
      "first = second:  1\n",
      "first > second:  2\n"
     ]
    }
   ],
   "source": [
    "L = [(1,3), (4,0), (3,3), (0,1)]\n",
    "print('first > second: ', len([e for e in L if e[0] > e[1]]))\n",
    "print('first = second: ', len([e for e in L if e[0] == e[1]]))\n",
    "print('first > second: ', len([e for e in L if e[0] < e[1]]))"
   ]
  },
  {
   "cell_type": "markdown",
   "metadata": {},
   "source": [
    "## 2. [5+1 pts]\n",
    "Write a recursive function to count the number of characters within a string. Discuss why an iterative solution would be preferable for long strings.<br>\n",
    "Eg:\n",
    "Input: `actcg` => Output: `5`\n",
    "Input: `aacctgtg` => Output: `8`"
   ]
  },
  {
   "cell_type": "code",
   "execution_count": 22,
   "metadata": {},
   "outputs": [],
   "source": [
    "def count_characters_rec(s):\n",
    "    if s == '':\n",
    "        return 0\n",
    "    else:\n",
    "        return 1 + count_characters_rec(s[1:])"
   ]
  },
  {
   "cell_type": "code",
   "execution_count": 23,
   "metadata": {},
   "outputs": [
    {
     "data": {
      "text/plain": [
       "25"
      ]
     },
     "execution_count": 23,
     "metadata": {},
     "output_type": "execute_result"
    }
   ],
   "source": [
    "count_characters_rec('This is an example string')"
   ]
  },
  {
   "cell_type": "markdown",
   "metadata": {},
   "source": [
    "## 3. [7 pts]\n",
    "A file `regions.bed` contains a list of genomic regions, one for each line. Eg: <br>\n",
    "`chromosome,start,stop`\n",
    "`chr1,100,300`\n",
    "`chr3,200,1000`<br>\n",
    "Write a piece of software that\n",
    "(a) skips the first header lines,\n",
    "(b) reads and parses each line,\n",
    "(c) prints the total number of regions and\n",
    "(d) prints the longest region found.\n",
    "\n",
    "Example of output:\n",
    "`Total num. : 2`\n",
    "`Longest region: chr3,200,1000`"
   ]
  },
  {
   "cell_type": "code",
   "execution_count": 40,
   "metadata": {},
   "outputs": [
    {
     "name": "stdout",
     "output_type": "stream",
     "text": [
      "Total num.: 2\n",
      "Longest region: chr3,200,1000\n"
     ]
    }
   ],
   "source": [
    "with open('regions.bed', 'r') as bf:\n",
    "    bf.readline()\n",
    "    lines = [line for line in bf.readlines()]\n",
    "    print('Total num.:', len(lines))\n",
    "    longest_region = [0, 0]\n",
    "    for line in lines:\n",
    "        line_list = line.strip().split(',')\n",
    "        if int(line_list[2]) - int(line_list[1]) > longest_region[1]:\n",
    "            longest_region = [line, int(line_list[2]) - int(line_list[1])]\n",
    "    print('Longest region:', longest_region[0])"
   ]
  },
  {
   "cell_type": "markdown",
   "source": [
    "## 4. [10 pts]\n",
    "Implement a *class Stack*, a container of objects that are inserted and removed according to the **last-in first-out (*LIFO*) principle**. The class is initialized empty and provides two methods: `push(elem)` and `pop(elem)`, to add and remove an element, respectively. If the pop method is invoked when the Stack instance is empty, then a user-defined exception `StackException` is raised."
   ],
   "metadata": {
    "collapsed": false
   }
  },
  {
   "cell_type": "code",
   "execution_count": 2,
   "outputs": [],
   "source": [
    "class StackException(Exception):\n",
    "    def __init__(self, msg):\n",
    "        self.msg = msg"
   ],
   "metadata": {
    "collapsed": false
   }
  },
  {
   "cell_type": "code",
   "execution_count": 3,
   "outputs": [],
   "source": [
    "class Stack:\n",
    "    container = []\n",
    "    def __init__(self, name):\n",
    "        self.name = name\n",
    "\n",
    "    def get_container(self):\n",
    "        print(self.container)\n",
    "\n",
    "    def push(self, elem):\n",
    "        self.container.insert(0, elem)\n",
    "\n",
    "    def pop(self, elem):\n",
    "        if len(self.container) > 0:\n",
    "            self.container.remove(elem)\n",
    "        else:\n",
    "            raise StackException('Stack is empty')"
   ],
   "metadata": {
    "collapsed": false
   }
  },
  {
   "cell_type": "code",
   "execution_count": 4,
   "metadata": {},
   "outputs": [
    {
     "name": "stdout",
     "output_type": "stream",
     "text": [
      "[]\n",
      "['ily']\n",
      "['ikr', 'ily']\n",
      "['idc', 'ikr', 'ily']\n",
      "['idc', 'ily']\n"
     ]
    },
    {
     "ename": "StackException",
     "evalue": "Stack is empty",
     "output_type": "error",
     "traceback": [
      "\u001B[0;31m---------------------------------------------------------------------------\u001B[0m",
      "\u001B[0;31mStackException\u001B[0m                            Traceback (most recent call last)",
      "Cell \u001B[0;32mIn [4], line 13\u001B[0m\n\u001B[1;32m     11\u001B[0m stack1\u001B[38;5;241m.\u001B[39mpop(\u001B[38;5;124m'\u001B[39m\u001B[38;5;124midc\u001B[39m\u001B[38;5;124m'\u001B[39m)\n\u001B[1;32m     12\u001B[0m stack1\u001B[38;5;241m.\u001B[39mpop(\u001B[38;5;124m'\u001B[39m\u001B[38;5;124mily\u001B[39m\u001B[38;5;124m'\u001B[39m)\n\u001B[0;32m---> 13\u001B[0m \u001B[43mstack1\u001B[49m\u001B[38;5;241;43m.\u001B[39;49m\u001B[43mpop\u001B[49m\u001B[43m(\u001B[49m\u001B[38;5;124;43m'\u001B[39;49m\u001B[38;5;124;43mili\u001B[39;49m\u001B[38;5;124;43m'\u001B[39;49m\u001B[43m)\u001B[49m\n",
      "Cell \u001B[0;32mIn [3], line 16\u001B[0m, in \u001B[0;36mStack.pop\u001B[0;34m(self, elem)\u001B[0m\n\u001B[1;32m     14\u001B[0m     \u001B[38;5;28mself\u001B[39m\u001B[38;5;241m.\u001B[39mcontainer\u001B[38;5;241m.\u001B[39mremove(elem)\n\u001B[1;32m     15\u001B[0m \u001B[38;5;28;01melse\u001B[39;00m:\n\u001B[0;32m---> 16\u001B[0m     \u001B[38;5;28;01mraise\u001B[39;00m StackException(\u001B[38;5;124m'\u001B[39m\u001B[38;5;124mStack is empty\u001B[39m\u001B[38;5;124m'\u001B[39m)\n",
      "\u001B[0;31mStackException\u001B[0m: Stack is empty"
     ]
    }
   ],
   "source": [
    "stack1 = Stack('ExampleStack')\n",
    "stack1.get_container()\n",
    "stack1.push('ily')\n",
    "stack1.get_container()\n",
    "stack1.push('ikr')\n",
    "stack1.get_container()\n",
    "stack1.push('idc')\n",
    "stack1.get_container()\n",
    "stack1.pop('ikr')\n",
    "stack1.get_container()\n",
    "stack1.pop('idc')\n",
    "stack1.pop('ily')\n",
    "stack1.pop('ili')"
   ]
  },
  {
   "cell_type": "markdown",
   "metadata": {},
   "source": [
    "## 5. [5 pts]\n",
    "Consider a list of triplets, each one containing the identifier of a patient, the symbol of a gene and the expression of that gene in that patient as measured by a certain experiment. E.g.,:\n",
    "`T = [('patient1', 'geneX', 1234.5), ('patient1', 'geneY', 3456), ('patient2', 'geneX', 2341.5), ....]`<br>\n",
    "Write a piece of software that uses a Python dictionary to compute the average expression value of each gene across all the patients."
   ]
  },
  {
   "cell_type": "code",
   "execution_count": 5,
   "metadata": {},
   "outputs": [],
   "source": [
    "T = [('patient1', 'geneX', 1234.5), ('patient1', 'geneY', 3456), ('patient2', 'geneX', 2341.5)]"
   ]
  },
  {
   "cell_type": "code",
   "execution_count": 6,
   "metadata": {},
   "outputs": [
    {
     "name": "stdout",
     "output_type": "stream",
     "text": [
      "Average expression of gene geneX 1788.0\n",
      "Average expression of gene geneY 3456.0\n"
     ]
    }
   ],
   "source": [
    "td = dict()\n",
    "for t in T:\n",
    "    if t[1] not in td:\n",
    "        td[t[1]] = [t[2]]\n",
    "    else:\n",
    "        td[t[1]].append(t[2])\n",
    "\n",
    "for k, v in td.items():\n",
    "    print(f'Average expression of gene {k} {sum(v)/len(v)}')"
   ]
  },
  {
   "cell_type": "code",
   "execution_count": null,
   "outputs": [],
   "source": [],
   "metadata": {
    "collapsed": false
   }
  }
 ],
 "metadata": {
  "kernelspec": {
   "display_name": "Python 3 (ipykernel)",
   "language": "python",
   "name": "python3"
  },
  "language_info": {
   "codemirror_mode": {
    "name": "ipython",
    "version": 3
   },
   "file_extension": ".py",
   "mimetype": "text/x-python",
   "name": "python",
   "nbconvert_exporter": "python",
   "pygments_lexer": "ipython3",
   "version": "3.10.6"
  }
 },
 "nbformat": 4,
 "nbformat_minor": 1
}

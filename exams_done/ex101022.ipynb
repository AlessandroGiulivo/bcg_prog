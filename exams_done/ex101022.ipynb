{
 "cells": [
  {
   "cell_type": "markdown",
   "id": "2effed34",
   "metadata": {},
   "source": [
    "# Exercises"
   ]
  },
  {
   "cell_type": "markdown",
   "id": "7cb95713",
   "metadata": {},
   "source": [
    "### 1. Consider a list of tuples\n",
    "* flatten the list\n",
    "* remove duplicates"
   ]
  },
  {
   "cell_type": "code",
   "execution_count": 6,
   "id": "3df727a3",
   "metadata": {},
   "outputs": [
    {
     "name": "stdout",
     "output_type": "stream",
     "text": [
      "Flattened list: [1, 2, 3, 1, 1, 'AAA', 3, 4]\n",
      "Removing duplicates\n",
      "[1, 2, 3, 4, 'AAA']\n"
     ]
    }
   ],
   "source": [
    "# solution 1\n",
    "l = [(1, 2, 3), (1, 1, 'AAA'), (3, 4)]\n",
    "\n",
    "lst = []\n",
    "for tup in l:\n",
    "    for item in tup:\n",
    "        lst.append(item)\n",
    "print('Flattened list:', lst)\n",
    "lst = list(set(lst))\n",
    "print('Removing duplicates')\n",
    "print(lst)"
   ]
  },
  {
   "cell_type": "code",
   "execution_count": 7,
   "id": "ed2d0fe1",
   "metadata": {},
   "outputs": [
    {
     "name": "stdout",
     "output_type": "stream",
     "text": [
      "Flattened list: [1, 2, 3, 1, 1, 'AAA', 3, 4]\n",
      "Removing duplicates\n",
      "[1, 2, 3, 4, 'AAA']\n"
     ]
    }
   ],
   "source": [
    "# solution 2\n",
    "l = [(1, 2, 3), (1, 1, 'AAA'), (3, 4)]\n",
    "\n",
    "lst = []\n",
    "for tup in l:\n",
    "    lst.extend(tup)\n",
    "print('Flattened list:', lst)\n",
    "lst = list(set(lst))\n",
    "print('Removing duplicates')\n",
    "print(lst)"
   ]
  },
  {
   "cell_type": "markdown",
   "id": "bf85f9b6",
   "metadata": {},
   "source": [
    "### 2. Write a program to find two sequences of lowercase letters joined with an underscore"
   ]
  },
  {
   "cell_type": "code",
   "execution_count": 12,
   "id": "1c20e5b1",
   "metadata": {},
   "outputs": [
    {
     "name": "stdout",
     "output_type": "stream",
     "text": [
      "aaa_bbb\n"
     ]
    }
   ],
   "source": [
    "import re\n",
    "\n",
    "inputs = ['aaa_bbb', '_aab', 'As_Bb', 'aaabbb']\n",
    "\n",
    "regex = r'[a-z]+_[a-z]+'\n",
    "\n",
    "for inp in inputs:\n",
    "    x = re.search(regex, inp)\n",
    "    if x != None:\n",
    "        print(inp)"
   ]
  },
  {
   "cell_type": "code",
   "execution_count": 25,
   "id": "50d85485",
   "metadata": {},
   "outputs": [
    {
     "name": "stdout",
     "output_type": "stream",
     "text": [
      "<re.Match object; span=(0, 7), match='aaa_bbb'>\n",
      "<re.Match object; span=(0, 3), match='a_b'>\n"
     ]
    }
   ],
   "source": [
    "# solution\n",
    "import re\n",
    "\n",
    "inputs = ['aaa_bbb', '_aab', 'As_Bb', 'aaabbb', 'a_b']\n",
    "\n",
    "for inp in inputs:\n",
    "    result = re.fullmatch(r'[a-z]+_[a-z]+', inp)\n",
    "    if result:\n",
    "        print(result)"
   ]
  },
  {
   "cell_type": "markdown",
   "id": "4c776bde",
   "metadata": {},
   "source": [
    "### 3. Write a program to convert a date of format yyyy-mm-dd into dd-mm-yyyy"
   ]
  },
  {
   "cell_type": "code",
   "execution_count": 20,
   "id": "3db501c9",
   "metadata": {},
   "outputs": [
    {
     "name": "stdout",
     "output_type": "stream",
     "text": [
      "05-10-2005\n",
      "05-9-2005\n"
     ]
    }
   ],
   "source": [
    "import re\n",
    "\n",
    "inp1 = '2005-10-05'\n",
    "inp2 = '2005-9-05'\n",
    "print(re.sub(r'(\\d{4})-(\\d{1,2})-(\\d{1,2})', r'\\3-\\2-\\1', inp1))\n",
    "print(re.sub(r'(\\d{4})-(\\d{1,2})-(\\d{1,2})', r'\\3-\\2-\\1', inp2))"
   ]
  },
  {
   "cell_type": "markdown",
   "id": "37ce722f",
   "metadata": {},
   "source": [
    "### 4. Write a program to remove leading zeros from an IP adress"
   ]
  },
  {
   "cell_type": "code",
   "execution_count": 42,
   "id": "4db96db2",
   "metadata": {},
   "outputs": [
    {
     "data": {
      "text/plain": [
       "'10.6.21.206'"
      ]
     },
     "execution_count": 42,
     "metadata": {},
     "output_type": "execute_result"
    }
   ],
   "source": [
    "ip = '010.06.21.206'\n",
    "\n",
    "re.sub(r'0*([1-9]\\d*)', r'\\1', ip)"
   ]
  },
  {
   "cell_type": "markdown",
   "id": "36e6b516",
   "metadata": {},
   "source": [
    "### 5. Write a program that reads from an input DNA sequence and then prints the reverse complement"
   ]
  },
  {
   "cell_type": "code",
   "execution_count": 44,
   "id": "bde8fa4c",
   "metadata": {},
   "outputs": [
    {
     "name": "stdout",
     "output_type": "stream",
     "text": [
      "ACTGACT\n"
     ]
    }
   ],
   "source": [
    "s = \"AGTCAGT\"\n",
    "rc = ''\n",
    "for n in s[::-1]:\n",
    "    if n == 'A':\n",
    "        rc += 'T'\n",
    "    elif n == 'C':\n",
    "        rc += 'G'\n",
    "    elif n == 'G':\n",
    "        rc += 'C'\n",
    "    elif n == 'T':\n",
    "        rc += 'A'\n",
    "print(rc)"
   ]
  },
  {
   "cell_type": "code",
   "execution_count": 46,
   "id": "9878898e",
   "metadata": {},
   "outputs": [
    {
     "name": "stdout",
     "output_type": "stream",
     "text": [
      "ACTGACT\n"
     ]
    }
   ],
   "source": [
    "# solution\n",
    "translation_table = {\n",
    "    'A': 'T',\n",
    "    'T': 'A',\n",
    "    'C': 'G',\n",
    "    'G': 'C'\n",
    "}\n",
    "\n",
    "rc = ''\n",
    "\n",
    "for n in s[::-1]:\n",
    "    rc += translation_table[n]\n",
    "print(rc)"
   ]
  },
  {
   "cell_type": "code",
   "execution_count": null,
   "id": "16fb251a",
   "metadata": {},
   "outputs": [],
   "source": []
  }
 ],
 "metadata": {
  "kernelspec": {
   "display_name": "Python 3 (ipykernel)",
   "language": "python",
   "name": "python3"
  },
  "language_info": {
   "codemirror_mode": {
    "name": "ipython",
    "version": 3
   },
   "file_extension": ".py",
   "mimetype": "text/x-python",
   "name": "python",
   "nbconvert_exporter": "python",
   "pygments_lexer": "ipython3",
   "version": "3.10.6"
  }
 },
 "nbformat": 4,
 "nbformat_minor": 5
}

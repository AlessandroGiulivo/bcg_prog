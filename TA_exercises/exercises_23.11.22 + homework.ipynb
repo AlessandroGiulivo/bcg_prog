{
 "cells": [
  {
   "cell_type": "markdown",
   "source": [
    "# Data Visualization 6\n",
    "\n",
    "Compare the number of passengers of Titanic by gender and class in a bar plot"
   ],
   "metadata": {
    "collapsed": false
   }
  },
  {
   "cell_type": "code",
   "execution_count": 1,
   "outputs": [
    {
     "ename": "FileNotFoundError",
     "evalue": "[Errno 2] No such file or directory: '/Users/tom/PycharmProjects/course_programming/titanic.tsv'",
     "output_type": "error",
     "traceback": [
      "\u001B[0;31m---------------------------------------------------------------------------\u001B[0m",
      "\u001B[0;31mFileNotFoundError\u001B[0m                         Traceback (most recent call last)",
      "Cell \u001B[0;32mIn [1], line 3\u001B[0m\n\u001B[1;32m      1\u001B[0m mc1, mc2, mc3, fc1, fc2, fc3 \u001B[38;5;241m=\u001B[39m \u001B[38;5;241m0\u001B[39m, \u001B[38;5;241m0\u001B[39m, \u001B[38;5;241m0\u001B[39m, \u001B[38;5;241m0\u001B[39m, \u001B[38;5;241m0\u001B[39m, \u001B[38;5;241m0\u001B[39m\n\u001B[0;32m----> 3\u001B[0m \u001B[38;5;28;01mwith\u001B[39;00m \u001B[38;5;28;43mopen\u001B[39;49m\u001B[43m(\u001B[49m\u001B[38;5;124;43m\"\u001B[39;49m\u001B[38;5;124;43m/Users/tom/PycharmProjects/course_programming/titanic.tsv\u001B[39;49m\u001B[38;5;124;43m\"\u001B[39;49m\u001B[43m,\u001B[49m\u001B[43m \u001B[49m\u001B[38;5;124;43m\"\u001B[39;49m\u001B[38;5;124;43mr\u001B[39;49m\u001B[38;5;124;43m\"\u001B[39;49m\u001B[43m)\u001B[49m \u001B[38;5;28;01mas\u001B[39;00m f:\n\u001B[1;32m      4\u001B[0m     header_line \u001B[38;5;241m=\u001B[39m f\u001B[38;5;241m.\u001B[39mreadline()\u001B[38;5;241m.\u001B[39mrstrip(\u001B[38;5;124m'\u001B[39m\u001B[38;5;130;01m\\n\u001B[39;00m\u001B[38;5;124m'\u001B[39m)\u001B[38;5;241m.\u001B[39msplit(\u001B[38;5;124m'\u001B[39m\u001B[38;5;130;01m\\t\u001B[39;00m\u001B[38;5;124m'\u001B[39m)\n\u001B[1;32m      5\u001B[0m     columns \u001B[38;5;241m=\u001B[39m \u001B[38;5;28mlist\u001B[39m(\u001B[38;5;28mzip\u001B[39m(      \u001B[38;5;28mrange\u001B[39m(\u001B[38;5;28mlen\u001B[39m(header_line))   , header_line      ))\n",
      "\u001B[0;31mFileNotFoundError\u001B[0m: [Errno 2] No such file or directory: '/Users/tom/PycharmProjects/course_programming/titanic.tsv'"
     ]
    }
   ],
   "source": [
    "mc1, mc2, mc3, fc1, fc2, fc3 = 0, 0, 0, 0, 0, 0\n",
    "\n",
    "with open(\"/Users/tom/PycharmProjects/course_programming/titanic.tsv\", \"r\") as f:\n",
    "    header_line = f.readline().rstrip('\\n').split('\\t')\n",
    "    columns = list(zip(      range(len(header_line))   , header_line      ))\n",
    "    print( columns)\n",
    "    for line in f:\n",
    "        line_list = line.rstrip('\\n').split('\\t')\n",
    "        gender = line_list[4]\n",
    "        pclass = line_list[2]\n",
    "        if gender =='male':\n",
    "            if pclass == '1':\n",
    "                mc1 += 1\n",
    "            elif pclass == '2':\n",
    "                mc2 += 1\n",
    "            else:\n",
    "                mc3 += 1\n",
    "        else:\n",
    "            if pclass == '1':\n",
    "                fc1 += 1\n",
    "            elif pclass == '2':\n",
    "                fc2 += 1\n",
    "            else:\n",
    "                fc3 += 1\n",
    "\n",
    "print(mc1, mc2, mc3, fc1, fc2, fc3)\n",
    "\n",
    "import matplotlib.pyplot as plt\n",
    "\n",
    "fig, ax = plt.subplots()\n",
    "width = 0.35\n",
    "classes = [1,2,3]\n",
    "ax.bar([x+width/2 for x in classes], [fc1, fc2, fc3], width)\n",
    "ax.bar([x-width/2 for x in classes], [mc1, mc2, mc3], width)\n",
    "plt.show()\n",
    "\n",
    "#{'male', 'female'}\n",
    "#{'2', '1', '3'}\n"
   ],
   "metadata": {
    "collapsed": false
   }
  },
  {
   "cell_type": "markdown",
   "source": [
    "# OS library"
   ],
   "metadata": {
    "collapsed": false
   }
  },
  {
   "cell_type": "code",
   "execution_count": 14,
   "outputs": [
    {
     "data": {
      "text/plain": "'posix'"
     },
     "execution_count": 14,
     "metadata": {},
     "output_type": "execute_result"
    }
   ],
   "source": [
    "import os\n",
    "\n",
    "os.name"
   ],
   "metadata": {
    "collapsed": false
   }
  },
  {
   "cell_type": "code",
   "execution_count": null,
   "outputs": [],
   "source": [
    "os.uname()"
   ],
   "metadata": {
    "collapsed": false,
    "pycharm": {
     "is_executing": true
    }
   }
  },
  {
   "cell_type": "code",
   "execution_count": 50,
   "outputs": [
    {
     "data": {
      "text/plain": "'/Users/tom/PycharmProjects/course_programming/wip'"
     },
     "execution_count": 50,
     "metadata": {},
     "output_type": "execute_result"
    }
   ],
   "source": [
    "os.getcwd()\n",
    "\n",
    "open(\"Users/randomuser/Documents/hhh/gg/hgghg/../out/jbghhghgyghyugh.txt\")\n",
    "\n",
    "\n",
    "os.chdir(\"Users/randomuser/Documents/hhh/gg/hgghg/../out/\")\n",
    "open(\"jbghhghgyghyugh.txt\")"
   ],
   "metadata": {
    "collapsed": false
   }
  },
  {
   "cell_type": "code",
   "execution_count": 54,
   "outputs": [
    {
     "data": {
      "text/plain": "['exercises_19.10.22.ipynb',\n 'ex5_tracce.ipynb',\n 'exercises_16.11.22.ipynb',\n 'exercises_2.11.22.ipynb',\n '23.11.22.ipynb',\n 'exercises_26.10.22.ipynb',\n 'ex5_pt2.ipynb',\n 'exercises_10.09.22.ipynb',\n 'lecture4.py',\n 'ex5.ipynb']"
     },
     "execution_count": 54,
     "metadata": {},
     "output_type": "execute_result"
    }
   ],
   "source": [
    "os.listdir('.')"
   ],
   "metadata": {
    "collapsed": false
   }
  },
  {
   "cell_type": "code",
   "execution_count": 52,
   "outputs": [
    {
     "data": {
      "text/plain": "True"
     },
     "execution_count": 52,
     "metadata": {},
     "output_type": "execute_result"
    }
   ],
   "source": [
    "os.path.isdir('.')"
   ],
   "metadata": {
    "collapsed": false
   }
  },
  {
   "cell_type": "code",
   "execution_count": 53,
   "outputs": [
    {
     "data": {
      "text/plain": "False"
     },
     "execution_count": 53,
     "metadata": {},
     "output_type": "execute_result"
    }
   ],
   "source": [
    "os.path.isfile('.')"
   ],
   "metadata": {
    "collapsed": false
   }
  },
  {
   "cell_type": "code",
   "execution_count": null,
   "outputs": [],
   "source": [
    "os.remove()\n",
    "os.mkdir()\n",
    "os.rmdir()"
   ],
   "metadata": {
    "collapsed": false
   }
  },
  {
   "cell_type": "code",
   "execution_count": null,
   "outputs": [],
   "source": [
    "sep = os.path.sep\n",
    "\n",
    "os.mkdir(\"out\")\n",
    "f = open(f\"out{sep}tempdata.txt\", 'w')\n",
    "f.close()"
   ],
   "metadata": {
    "collapsed": false
   }
  },
  {
   "cell_type": "markdown",
   "source": [
    "# OOP\n",
    "\n",
    "### Model GeneOntology\n",
    "\n",
    "Genes  are  directly  annotated  only  with  the  most specific  term  in  the  ontology;  all  the  annotations with the ancestor of the term are left implicit. Example: if the gene X is directly annotated with the term “carbohydrate metabolic process” , then it is implicitly  annotated  also with the terms “primary metabolic process”, “organic substance metabolic” (parents) and “metabolic process” (grandparent). Then, if we look for the genes annotated with \"organic substance metabolic\" (parent) or “metabolic process” (grandparent), we should have gene X in the result.\n",
    "\n",
    "One of the possible solutions is to create nodes of a tree, where each node saves the list of its descendants. When listing the genes annotated with a term, then we include the directly annotated genes + the genes directly annotated to any of the child nodes (implicit annotations)."
   ],
   "metadata": {
    "collapsed": false
   }
  },
  {
   "cell_type": "code",
   "execution_count": 4,
   "outputs": [],
   "source": [
    "class Term:\n",
    "    def __init__(self, name):\n",
    "        self.name = name\n",
    "        self.annotated = []\n",
    "        self.descendants = []\n",
    "\n",
    "    def __str__(self):\n",
    "        genes = ', '.join(self.get_annotations())\n",
    "        return f\"Term {self.name} - annotates: {genes}\"\n",
    "\n",
    "    def add_descendant(self, node):\n",
    "        self.descendants.append(node)\n",
    "\n",
    "    def add_annotation(self, gene):\n",
    "        \"\"\"\n",
    "        Annotate the given gene with this term\n",
    "        \"\"\"\n",
    "        self.annotated.append(gene)\n",
    "\n",
    "    def get_annotations(self):\n",
    "        \"\"\"\n",
    "        Returns the genes annotated by this term\n",
    "        \"\"\"\n",
    "        all_annotated_genes = self.annotated\n",
    "        if len(self.descendants) > 0:\n",
    "            for des in self.descendants:\n",
    "                all_annotated_genes += des.get_annotations()\n",
    "        return list(set(all_annotated_genes))"
   ],
   "metadata": {
    "collapsed": false
   }
  },
  {
   "cell_type": "code",
   "execution_count": 7,
   "outputs": [
    {
     "name": "stdout",
     "output_type": "stream",
     "text": [
      "Term Organic Substance Byosynthetic - annotates: GeneX\n",
      "Term Byosynthetic Process - annotates: GeneX, GeneZ\n",
      "Term Metabolic process - annotates: GeneZ, GeneY, GeneX\n"
     ]
    }
   ],
   "source": [
    "root = Term(\"Metabolic process\")\n",
    "GO1 = Term(\"Organic Substance Biosynthetic Process\")\n",
    "GO2 = Term(\"Carbohydrate Metabolic Process\")\n",
    "GO3 = Term(\"Small Molecule Metabolic Process\")\n",
    "GO4 = Term(\"Primary Metabolic Process\")\n",
    "GO5 = Term(\"Organic Substance Metabolic\")\n",
    "GO6 = Term(\"Biosynthetic Process\")\n",
    "\n",
    "GO4.add_descendant(GO2)\n",
    "GO5.add_descendant(GO2)\n",
    "GO5.add_descendant(GO1)\n",
    "GO6.add_descendant(GO1)\n",
    "\n",
    "root.add_descendant(GO3)\n",
    "root.add_descendant(GO4)\n",
    "root.add_descendant(GO5)\n",
    "root.add_descendant(GO6)\n",
    "\n",
    "GO1.add_annotation(\"GeneX\") # annotate GeneX with Organic Substance Biosynthetic Process\n",
    "GO2.add_annotation(\"GeneY\") # annotate GeneY with Carbohydrate Metabolic Process\n",
    "GO6.add_annotation(\"GeneZ\") # annotate GeneZ with Biosynthetic Process\n",
    "\n",
    "# print the genes annotated with Organic Substance Byosynthetic\n",
    "# we expect only GeneX\n",
    "print(GO1)\n",
    "\n",
    "# print the genes annotated with Byosynthetic Process (GO6)\n",
    "# we expect GeneZ + the genes annotated to descendants of Byosynthetic Process: [Organic Substance Byosynthetic (GO1), ...].\n",
    "print(GO6)\n",
    "\n",
    "# print the genes annotated with Metabolic Process (root)\n",
    "# we expect the genes annotated to any of the descendants of Metabolic Process (root):\n",
    "# [Biosynthetic Process (GO6), Organic Substance Metabolic (GO5), Primary Metabolic Proess (GO4),\n",
    "# Small Molecule Metabolic Process (GO3), ....., Organic Substance Byosynthetic (GO1), .... ]\n",
    "print(root)"
   ],
   "metadata": {
    "collapsed": false
   }
  },
  {
   "cell_type": "markdown",
   "source": [
    "# Homework\n",
    "Try to solve the following exercises from the file Exercises/exercises_23.11.22/12a-Eserc-OOP-tracce.pptx on the WeBeep course page"
   ],
   "metadata": {
    "collapsed": false
   }
  },
  {
   "cell_type": "markdown",
   "source": [
    "### Naive noSQL database"
   ],
   "metadata": {
    "collapsed": false
   }
  },
  {
   "cell_type": "code",
   "execution_count": null,
   "outputs": [],
   "source": [],
   "metadata": {
    "collapsed": false
   }
  },
  {
   "cell_type": "markdown",
   "source": [
    "### Structural annotations"
   ],
   "metadata": {
    "collapsed": false
   }
  }
 ],
 "metadata": {
  "kernelspec": {
   "display_name": "Python 3",
   "language": "python",
   "name": "python3"
  },
  "language_info": {
   "codemirror_mode": {
    "name": "ipython",
    "version": 2
   },
   "file_extension": ".py",
   "mimetype": "text/x-python",
   "name": "python",
   "nbconvert_exporter": "python",
   "pygments_lexer": "ipython2",
   "version": "2.7.6"
  }
 },
 "nbformat": 4,
 "nbformat_minor": 0
}

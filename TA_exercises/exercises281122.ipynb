{
 "cells": [
  {
   "cell_type": "markdown",
   "id": "80a053ea",
   "metadata": {},
   "source": [
    "# Exercises 28.11.2022"
   ]
  },
  {
   "cell_type": "markdown",
   "id": "427859ab",
   "metadata": {},
   "source": [
    "## Sequences\n",
    "\n",
    "Create a sequence class to save a sequence of DNA. Possibly implement necessary functions for a sequence, such as length of DNA.<br><br>Two types of sequences inherit from it, i.e.,\n",
    "- The ‘open reading frame’, which can generate 'amino acid residues'\n",
    "- The sequence of ‘amino acid residues’, which stores an amino acid sequence and its\n",
    "length (in terms of nucleotides)"
   ]
  },
  {
   "cell_type": "code",
   "execution_count": null,
   "id": "9b839364",
   "metadata": {},
   "outputs": [],
   "source": [
    "# hint: we are going to need a translation table: for this we employ a dictionary\n",
    "triplet_aa = {'ATA': 'I', 'ATC': 'I', 'ATT': 'I', 'ATG': 'M', 'ACA': 'T', 'ACC': 'T', 'ACG': 'T', 'ACT': 'T',\n",
    "              'AAC': 'N', 'AAT': 'N', 'AAA': 'K', 'AAG': 'K', 'AGC': 'S', 'AGT': 'S', 'AGA': 'R', 'AGG': 'R',\n",
    "              'CTA': 'L', 'CTC': 'L', 'CTG': 'L', 'CTT': 'L', 'CCA': 'P', 'CCC': 'P', 'CCG': 'P', 'CCT': 'P',\n",
    "              'CAC': 'H', 'CAT': 'H', 'CAA': 'Q', 'CAG': 'Q', 'CGA': 'R', 'CGC': 'R', 'CGG': 'R', 'CGT': 'R',\n",
    "              'GTA': 'V', 'GTC': 'V', 'GTG': 'V', 'GTT': 'V', 'GCA': 'A', 'GCC': 'A', 'GCG': 'A', 'GCT': 'A',\n",
    "              'GAC': 'D', 'GAT': 'D', 'GAA': 'E', 'GAG': 'E', 'GGA': 'G', 'GGC': 'G', 'GGG': 'G', 'GGT': 'G',\n",
    "              'TCA': 'S', 'TCC': 'S', 'TCG': 'S', 'TCT': 'S', 'TTC': 'F', 'TTT': 'F', 'TTA': 'L', 'TTG': 'L',\n",
    "              'TAC': 'Y', 'TAT': 'Y', 'TAA': '_', 'TAG': '_', 'TGC': 'C', 'TGT': 'C', 'TGA': '_', 'TGG': 'W'}"
   ]
  },
  {
   "cell_type": "code",
   "execution_count": 5,
   "id": "2637b09e",
   "metadata": {},
   "outputs": [],
   "source": [
    "class Sequence:\n",
    "    def __init__(self, sequence):\n",
    "        self.__seq = sequence\n",
    "        \n",
    "    def get_seq(self):\n",
    "        return self.__seq\n",
    "    \n",
    "    def set_seq(self, sequence):\n",
    "        self.__seq = sequence\n",
    "\n",
    "    def __len__(self):\n",
    "        return len(self.__seq)\n",
    "    \n",
    "class DNASequence(Sequence):\n",
    "    def __init__(self, sequence):\n",
    "        super().__init__(sequence)\n",
    "        for x in sequence:\n",
    "            if x not in ['A', 'C', 'G', 'T']:\n",
    "                print('Error: base', x,'in', str(sequence))\n",
    "    \n",
    "    def gc_perc(self):\n",
    "        pass\n",
    "\n",
    "class OpenReadingFrame(DNASequence):\n",
    "    __triplet_aa = {\n",
    "        'ATA': 'I', 'ATC': 'I', 'ATT': 'I', 'ATG': 'M', 'ACA': 'T', 'ACC': 'T', 'ACG': 'T', 'ACT': 'T',\n",
    "        'AAC': 'N', 'AAT': 'N', 'AAA': 'K', 'AAG': 'K', 'AGC': 'S', 'AGT': 'S', 'AGA': 'R', 'AGG': 'R',\n",
    "        'CTA': 'L', 'CTC': 'L', 'CTG': 'L', 'CTT': 'L', 'CCA': 'P', 'CCC': 'P', 'CCG': 'P', 'CCT': 'P',\n",
    "        'CAC': 'H', 'CAT': 'H', 'CAA': 'Q', 'CAG': 'Q', 'CGA': 'R', 'CGC': 'R', 'CGG': 'R', 'CGT': 'R',\n",
    "        'GTA': 'V', 'GTC': 'V', 'GTG': 'V', 'GTT': 'V', 'GCA': 'A', 'GCC': 'A', 'GCG': 'A', 'GCT': 'A',\n",
    "        'GAC': 'D', 'GAT': 'D', 'GAA': 'E', 'GAG': 'E', 'GGA': 'G', 'GGC': 'G', 'GGG': 'G', 'GGT': 'G',\n",
    "        'TCA': 'S', 'TCC': 'S', 'TCG': 'S', 'TCT': 'S', 'TTC': 'F', 'TTT': 'F', 'TTA': 'L', 'TTG': 'L',\n",
    "        'TAC': 'Y', 'TAT': 'Y', 'TAA': '_', 'TAG': '_', 'TGC': 'C', 'TGT': 'C', 'TGA': '_', 'TGG': 'W'\n",
    "    }\n",
    "    \n",
    "    def to_aa(self):\n",
    "    #   triplets = [self.get_seq()[pos : pos + 3] for pos in range(0, len(self), 3)]\n",
    "    #   aminoacids = [self.__triplet_aa[triplet] for triplet in triplets if len(triplet) == 3]\n",
    "        aminoacids = [self.__triplet_aa[self.get_seq()[pos:pos + 3]]\n",
    "                      for pos in range(0, len(self), 3)\n",
    "                      if pos + 2 <= len(self)]\n",
    "        \n",
    "        return aminoacids\n",
    "\n",
    "class AASequence(Sequence):\n",
    "    def __init__(self, sequence):\n",
    "        self.set_seq(sequence)\n",
    "    \n",
    "    def __len__(self):\n",
    "        return len(self.get_seq()) * 3"
   ]
  },
  {
   "cell_type": "code",
   "execution_count": 6,
   "id": "bab5262f",
   "metadata": {},
   "outputs": [
    {
     "data": {
      "text/plain": "['S', 'F', 'L']"
     },
     "execution_count": 6,
     "metadata": {},
     "output_type": "execute_result"
    }
   ],
   "source": [
    "s1 = DNASequence('ACTTTTTTG')\n",
    "s1.get_seq()\n",
    "s1.set_seq('ACTTTTTTC')\n",
    "s1.get_seq()\n",
    "\n",
    "orf = OpenReadingFrame('AGTTTTTTG')\n",
    "orf.to_aa()\n"
   ]
  },
  {
   "cell_type": "code",
   "execution_count": null,
   "id": "3eb5d205",
   "metadata": {},
   "outputs": [],
   "source": []
  },
  {
   "cell_type": "markdown",
   "id": "77230e99",
   "metadata": {},
   "source": [
    "## Chemical Example\n",
    "\n",
    "Create a class to save atoms along with their information. Implement it in such a way that allows to save, eventually change, and print their 3D positional information.<br><br>\n",
    "Then, create and print a class to save molecules, which contain atoms.<br><br>\n",
    "Finally, consider organic molecules, for which the number of carbon atoms is relevant."
   ]
  },
  {
   "cell_type": "code",
   "execution_count": 71,
   "id": "651087df",
   "metadata": {},
   "outputs": [],
   "source": [
    "class Atom:\n",
    "    def __init__(self, symbol, x, y ,z):\n",
    "        self.symbol = symbol\n",
    "        self.position = (float(x), float(y), float(z))\n",
    "        \n",
    "    def get_sym(self):\n",
    "        return self.symbol\n",
    "    \n",
    "    def set_sym(self, symbol):\n",
    "        self.symbol = symbol\n",
    "        \n",
    "    def get_position(self):\n",
    "        return self.position\n",
    "    \n",
    "    def set_position(self, x, y, z):\n",
    "        if type(x) not in ['float', 'int'] or not type(y) is float or not type(z) is float:\n",
    "            raise TypeError('Only floats are allowed')\n",
    "        self.position(float(x), float(y), float(z))\n",
    "        \n",
    "    def translate(self, x, y, z):\n",
    "        x0, y0, z0 = self.position\n",
    "        self.position = (x + x0, y + y0, z + z0)\n",
    "        \n",
    "    def __str__(self):\n",
    "        return \"{:s}\\t{:>10.3f}\\t{:>10.3f}\\t{:>10.3f}\".format(self.get_sym(),\n",
    "                                self.get_position()[0],\n",
    "                                self.get_position()[1],\n",
    "                                self.get_position()[2],)\n",
    "    \n",
    "class Molecule:\n",
    "    def __init__(self, name):\n",
    "        self.name = name\n",
    "        self.atoms_list = []\n",
    "        \n",
    "    def add_atom(self, atom):\n",
    "        self.atoms_list.append(atom)\n",
    "    def __str__(self):\n",
    "        result = 'This is a molecule called {:s}\\n'.format(self.name)\n",
    "        result += 'It has {:d} atoms\\n'.format(len(self.atoms_list))\n",
    "        for atom in self.atoms_list:\n",
    "            result += str(atom) + '\\n'\n",
    "        return result\n",
    "    \n",
    "class OrganicMolecule(Molecule):\n",
    "    def count_carbon(self):\n",
    "        carbon_atoms = [atom for atom in self.atoms_list if atom.get_sym() == 'C']\n",
    "        return len(carbon_atoms)\n",
    "    def __str__(self):\n",
    "        return super().__str__() + 'Number of carbon atoms: ' + str(self.count_carbon())"
   ]
  },
  {
   "cell_type": "code",
   "execution_count": 72,
   "id": "4f922b6f",
   "metadata": {},
   "outputs": [
    {
     "name": "stdout",
     "output_type": "stream",
     "text": [
      "O\t     0.000\t     0.000\t     0.000\n",
      "H\t     0.757\t     0.586\t     0.000\n",
      "H\t     0.757\t     0.586\t     0.000\n",
      "\n",
      "This is a molecule called Water\n",
      "It has 3 atoms\n",
      "O\t     0.000\t     0.000\t     0.000\n",
      "H\t     0.757\t     0.586\t     0.000\n",
      "H\t     0.757\t     0.586\t     0.000\n",
      "\n",
      "This is a molecule called Ethane\n",
      "It has 4 atoms\n",
      "O\t     0.000\t     0.000\t     0.000\n",
      "H\t     0.757\t     0.586\t     0.000\n",
      "H\t     0.757\t     0.586\t     0.000\n",
      "C\t     0.700\t     0.900\t     0.000\n",
      "Number of carbon atoms: 1\n"
     ]
    }
   ],
   "source": [
    "o = Atom('O', 0.0, 0.0, 0.0)\n",
    "h1 = Atom('H', 0.757, 0.586, 0.0)\n",
    "h2 = Atom('H', 0.757, 0.586, 0.0)\n",
    "\n",
    "print(o)\n",
    "print(h1)\n",
    "print(h2)\n",
    "print()\n",
    "m = Molecule('Water')\n",
    "m.add_atom(o)\n",
    "m.add_atom(h1)\n",
    "m.add_atom(h2)\n",
    "\n",
    "print(m)\n",
    "\n",
    "om = OrganicMolecule('Ethane')\n",
    "o = Atom('O', 0.0, 0.0, 0.0)\n",
    "h1 = Atom('H', 0.757, 0.586, 0.0)\n",
    "h2 = Atom('H', 0.757, 0.586, 0.0)\n",
    "c  = Atom('C', 0.7, 0.9, 0.0)\n",
    "\n",
    "om.add_atom(o)\n",
    "om.add_atom(h1)\n",
    "om.add_atom(h2)\n",
    "om.add_atom(c)\n",
    "print(om)"
   ]
  },
  {
   "cell_type": "code",
   "execution_count": null,
   "id": "78e86eff",
   "metadata": {},
   "outputs": [],
   "source": []
  },
  {
   "cell_type": "markdown",
   "id": "6a985fd5",
   "metadata": {},
   "source": [
    "## Guess the Number\n",
    "\n",
    "Implement a software that plays the “guess the number” game with the user:\n",
    "* The software randomly selects a number between 1 and 100<br><br>\n",
    "* Then, it asks the user to guess the number. At each iteration, if the number inserted by the user is not the correct one, the software tells the user whether the inserted number was higher or lower than the one to be guessed<br><br>\n",
    "* The software must make some checks on the value inserted by the user:\n",
    "    - It must be an integer\n",
    "    - It must be in the range between 1 and 100<br><br>\n",
    "* Use the exceptions to manage the input checking. Specifically handle:\n",
    "    - ValueError exception: to check that the input of the user can be parsed to an integer\n",
    "    - A user defined exception: to check that the input inserted by the user, if castable to integer, is in the range [1, 100]"
   ]
  },
  {
   "cell_type": "code",
   "execution_count": 113,
   "id": "b83df275",
   "metadata": {},
   "outputs": [],
   "source": [
    "def InvalidIntException(Exception):\n",
    "    def __init__(self, num):\n",
    "        self.message = f'Number {num} is out of range'\n",
    "        \n",
    "\n",
    "def number_from_user(min_num, max_num):\n",
    "    while True:\n",
    "        try:\n",
    "            number = int(input(f'Insert an integer between {min_num} and {max_num}: '))\n",
    "            if number < min_num or number > max_num:\n",
    "                raise InvalidIntException(number)\n",
    "            break\n",
    "        except ValueError:\n",
    "            print('Not a valid integer!')\n",
    "        except InvalidIntException as e:\n",
    "            print(e.message)\n",
    "    return number\n",
    "\n",
    "from random import randint\n",
    "\n",
    "#generating the number to be guessed\n",
    "the_number = randint(1, 100)\n",
    "\n",
    "while True:\n",
    "    user_number = number_from_user(1, 100)\n",
    "    if user_number == the_number:\n",
    "        print('YOU WON!')\n",
    "        break\n",
    "    elif user_number > the_number:\n",
    "        print('Your number is too high')\n",
    "    else:\n",
    "        print('Your number is too low')"
   ]
  },
  {
   "cell_type": "code",
   "execution_count": 114,
   "id": "ff9fec31",
   "metadata": {},
   "outputs": [
    {
     "name": "stdout",
     "output_type": "stream",
     "text": [
      "Insert an integer between 1 and 100: 76\n",
      "Your number is too low\n",
      "Insert an integer between 1 and 100: 80\n",
      "Your number is too low\n",
      "Insert an integer between 1 and 100: 90\n",
      "Your number is too low\n",
      "Insert an integer between 1 and 100: 99+\n",
      "Not a valid integer!\n",
      "Insert an integer between 1 and 100: 99\n",
      "Your number is too high\n",
      "Insert an integer between 1 and 100: 95\n",
      "Your number is too high\n",
      "Insert an integer between 1 and 100: 93\n",
      "YOU WON!\n"
     ]
    }
   ],
   "source": [
    "from random import randint\n",
    "\n",
    "#generating the number to be guessed\n",
    "the_number = randint(1, 100)\n",
    "\n",
    "while True:\n",
    "    user_number = number_from_user(1, 100)\n",
    "    if user_number == the_number:\n",
    "        print('YOU WON!')\n",
    "        break\n",
    "    elif user_number > the_number:\n",
    "        print('Your number is too high')\n",
    "    else:\n",
    "        print('Your number is too low')"
   ]
  },
  {
   "cell_type": "code",
   "execution_count": null,
   "id": "28b5a599",
   "metadata": {},
   "outputs": [],
   "source": []
  }
 ],
 "metadata": {
  "kernelspec": {
   "display_name": "Python 3 (ipykernel)",
   "language": "python",
   "name": "python3"
  },
  "language_info": {
   "codemirror_mode": {
    "name": "ipython",
    "version": 3
   },
   "file_extension": ".py",
   "mimetype": "text/x-python",
   "name": "python",
   "nbconvert_exporter": "python",
   "pygments_lexer": "ipython3",
   "version": "3.10.6"
  }
 },
 "nbformat": 4,
 "nbformat_minor": 5
}

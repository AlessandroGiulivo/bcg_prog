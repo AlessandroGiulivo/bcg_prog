{
 "cells": [
  {
   "cell_type": "code",
   "execution_count": 2,
   "metadata": {},
   "outputs": [],
   "source": [
    "import random"
   ]
  },
  {
   "cell_type": "markdown",
   "metadata": {},
   "source": [
    "# 1-on-1 tutoring exercises"
   ]
  },
  {
   "cell_type": "code",
   "execution_count": 3,
   "metadata": {},
   "outputs": [
    {
     "name": "stdout",
     "output_type": "stream",
     "text": [
      "cgggttaacaaa -> RVNK\n",
      "accagatgattgggtct -> TR_LG\n"
     ]
    }
   ],
   "source": [
    "# Consider a program that stores a python dictionary structured as { triplet: amino_acid }\n",
    "gencode  =  {\n",
    "\t'ATA': 'I',  'ATC':'I',  'ATT': 'I',  'ATG':'M',  'ACA':'T',  'ACC': 'T',  'ACG':'T',  'ACT': 'T',\n",
    "\t'AAC': 'N',  'AAT':'N',  'AAA': 'K',  'AAG':'K',  'AGC':'S',  'AGT': 'S',  'AGA':'R',  'AGG': 'R',\n",
    "\t'CTA': 'L',  'CTC':'L',  'CTG': 'L',  'CTT':'L',  'CCA':'P',  'CCC': 'P',  'CCG':'P',  'CCT': 'P',\n",
    "\t'CAC': 'H',  'CAT':'H',  'CAA': 'Q',  'CAG':'Q',  'CGA':'R',  'CGC': 'R',  'CGG':'R',  'CGT': 'R',\n",
    "\t'GTA': 'V',  'GTC':'V',  'GTG': 'V',  'GTT':'V',  'GCA':'A',  'GCC': 'A',  'GCG':'A',  'GCT': 'A',\n",
    "\t'GAC': 'D',  'GAT':'D',  'GAA': 'E',  'GAG':'E',  'GGA':'G',  'GGC': 'G',  'GGG':'G',  'GGT': 'G',\n",
    "\t'TCA': 'S',  'TCC':'S',  'TCG': 'S',  'TCT':'S',  'TTC':'F',  'TTT': 'F',  'TTA':'L',  'TTG': 'L',\n",
    "\t'TAC': 'Y',  'TAT':'Y',  'TAA': '_',  'TAG':'_',  'TGC':'C',  'TGT': 'C',  'TGA':'_',  'TGG': 'W'\n",
    "}\n",
    "# write a piece of code that takes in input a list of DNA sequences and produces the corresponding list of amino acids sequences by using the information in the gencode dictionary.\n",
    "# Example\n",
    "# If input =  [\"CATTCCGCGCCCTTATTT\",  \"TATTACTCAGTAAAA\", \"AATAGCGCTTTATGCCTGTCT\"]\n",
    "# Result   =  ['HSAPLF',  'YYSVK',  'NSALCLS']\n",
    "\n",
    "input_dna = \"\".join(random.choices(\"ACTG\", k=random.randint(6, 20)))\n",
    "protein = \"\"\n",
    "for i in range(0, len(input_dna), 3):\n",
    "\ttriplet = input_dna[i:i+3]\n",
    "\tif not i+2 < len(input_dna):\n",
    "\t\tcontinue\n",
    "\ttranslation = gencode.get(triplet, \"?\")\n",
    "\tprotein += translation\n",
    "print(input_dna.lower(), '->', protein)\n",
    "\n",
    "## alternative with list comprehension\n",
    "input_dna = \"\".join(random.choices(\"ACTG\", k=random.randint(6, 20)))\n",
    "triplets = [input_dna[i:i+3] for i in range(0,len(input_dna), 3) if i+2<len(input_dna)]\n",
    "translations = [gencode.get(i, '?') for i in triplets]\n",
    "protein = ''.join(translations)\n",
    "print(input_dna.lower(), '->', protein)"
   ]
  },
  {
   "cell_type": "code",
   "execution_count": 4,
   "metadata": {},
   "outputs": [
    {
     "name": "stdout",
     "output_type": "stream",
     "text": [
      "(5, 0.45454545454545453) (6, 0.6097560975609756) (7, 0.5106382978723404) (14, 0.5319148936170213) (20, 0.4666666666666667) (22, 0.5) (24, 0.5217391304347826) (29, 0.4782608695652174) (33, 0.48717948717948717) (60, 0.45454545454545453) (65, 0.5) (67, 0.4897959183673469) (79, 0.5111111111111111) (84, 0.48) (86, 0.46153846153846156) (87, 0.5909090909090909) (88, 0.47368421052631576) (89, 0.5102040816326531) (94, 0.6) (97, 0.5) (99, 0.4782608695652174)\n"
     ]
    }
   ],
   "source": [
    "# Consider 100 randomly mutated sequences. Index them from 0 to 99. Select only those with at least 2 deletions and GC% > 0.45 using higher order functions. Return their index and GC% value.\n",
    "def generate_dna():\n",
    "    random_dna_string = \"\".join(random.choices([\"A\", \"C\", \"G\", \"T\"], weights=[29, 21, 21, 29], k=random.randint(5, 50)))\n",
    "    return random_dna_string\n",
    "\n",
    "def mutate(n_times, input_dna):\n",
    "    for i in range(n_times):\n",
    "        mut_pos = random.randint(0, len(input_dna)-1)     # mut_pos is [0,len(input_dna)]\n",
    "        mut_type = random.randint(0, 2)\n",
    "        if mut_type == 0:\n",
    "            # substitution\n",
    "            replacement = random.choice([\"A\", \"C\", \"G\", \"T\"])\n",
    "            input_dna = input_dna[:mut_pos] + replacement+ input_dna[mut_pos+1:]\n",
    "        elif mut_type == 1:\n",
    "            # insertion\n",
    "            inserted_elem = random.choice([\"A\", \"C\", \"G\", \"T\"])\n",
    "            input_dna = input_dna[:mut_pos] + inserted_elem + input_dna[mut_pos+1:]\n",
    "        else:\n",
    "            # deletion\n",
    "            input_dna = input_dna[:mut_pos] + '-' + input_dna[mut_pos+1:]\n",
    "    return input_dna\n",
    "\n",
    "\n",
    "input_dna = [mutate(10, generate_dna()) for i in range(100)]\n",
    "index = zip(list(range(len(input_dna))), input_dna)\n",
    "\n",
    "del_filter = filter(lambda i: i[1].count('-') >= 2, index)\n",
    "gc_count = map(lambda i: (i[0],(i[1].count('G') + i[1].count('C'))/len(i[1])), del_filter)\n",
    "gc_filter = filter(lambda i: i[1]>0.45, gc_count)\n",
    "\n",
    "result = list(gc_filter)\n",
    "print(*result)"
   ]
  },
  {
   "cell_type": "markdown",
   "metadata": {},
   "source": [
    "# Homework"
   ]
  },
  {
   "cell_type": "code",
   "execution_count": 22,
   "metadata": {},
   "outputs": [
    {
     "name": "stdout",
     "output_type": "stream",
     "text": [
      "ATA: 1\n",
      "ATC: 1\n",
      "ATT: 1\n",
      "ATG: 1\n",
      "ACA: 1\n",
      "ACC: 1\n",
      "ACG: 1\n",
      "ACT: 1\n",
      "AAC: 1\n",
      "AAT: 1\n",
      "AAA: 1\n",
      "AAG: 1\n",
      "AGC: 1\n",
      "AGT: 1\n",
      "AGA: 1\n",
      "AGG: 1\n",
      "CTA: 1\n",
      "CTC: 1\n",
      "CTG: 1\n",
      "CTT: 1\n",
      "CCA: 1\n",
      "CCC: 1\n",
      "CCG: 1\n",
      "CCT: 1\n",
      "CAC: 1\n",
      "CAT: 1\n",
      "CAA: 1\n",
      "CAG: 1\n",
      "CGA: 1\n",
      "CGC: 1\n",
      "CGG: 1\n",
      "CGT: 1\n",
      "GTA: 1\n",
      "GTC: 1\n",
      "GTG: 1\n",
      "GTT: 1\n",
      "GCA: 1\n",
      "GCC: 1\n",
      "GCG: 1\n",
      "GCT: 1\n",
      "GAC: 1\n",
      "GAT: 1\n",
      "GAA: 1\n",
      "GAG: 1\n",
      "GGA: 1\n",
      "GGC: 1\n",
      "GGG: 1\n",
      "GGT: 1\n",
      "TCA: 1\n",
      "TCC: 1\n",
      "TCG: 1\n",
      "TCT: 1\n",
      "TTC: 1\n",
      "TTT: 1\n",
      "TTA: 1\n",
      "TTG: 1\n",
      "TAC: 1\n",
      "TAT: 1\n",
      "TAA: 1\n",
      "TAG: 1\n",
      "TGC: 1\n",
      "TGT: 1\n",
      "TGA: 1\n",
      "TGG: 1\n",
      "P: 4\n",
      "W: 1\n",
      "D: 2\n",
      "H: 2\n",
      "N: 2\n",
      "G: 4\n",
      "T: 4\n",
      "Y: 2\n",
      "Q: 2\n",
      "V: 4\n",
      "C: 2\n",
      "R: 6\n",
      "L: 6\n",
      "M: 1\n",
      "F: 2\n",
      "K: 2\n",
      "I: 3\n",
      "A: 4\n",
      "E: 2\n",
      "S: 6\n"
     ]
    }
   ],
   "source": [
    "# Considering the gencode dictionary in the last exercise above,\n",
    "# (1) count the number of times each nucleotide triplet appears in the gencode dictionary\n",
    "# (2) count the number of times each aa_residue appears in the gencode dictionary\n",
    "# using list comprehension\n",
    "\n",
    "# (1)\n",
    "countd = {}\n",
    "for triplet in gencode:\n",
    "    if triplet in countd:\n",
    "        countd[triplet] += 1\n",
    "    else:\n",
    "        countd[triplet] = 1\n",
    "for k, v in countd.items():\n",
    "    print(f'{k}: {v}')\n",
    "\n",
    "\n",
    "# (2)\n",
    "aa_list = [v for k, v in gencode.items()]\n",
    "aa_count = [(aa, aa_list.count(aa)) for aa in set(aa_list) if aa.isalpha()]\n",
    "for tup in aa_count:\n",
    "    print(f'{tup[0]}: {tup[1]}')"
   ]
  },
  {
   "cell_type": "code",
   "execution_count": 26,
   "metadata": {},
   "outputs": [
    {
     "name": "stdout",
     "output_type": "stream",
     "text": [
      "['GGCATAAGCCTATAAGAAGTGTCGTAGAATGTAGTGAGGTCA', 'GGGTGGAGGAACATTTGAATAGGCCGCAGTCTAAATAGCATGA', 'CGATGAGAAAAATACATCG', 'CCTAAACTCATGTTTGAAG', 'TTTCTGAGACGTTGACACTTCAATCTATCATTCTA', 'ACTTGCTTAATGACTATTCAT', 'GATGCTTTCCGAGTGTAGAACAA', 'ATCTAGTACCAG', 'TCAACAATCCCGAGCTGGTTCTATTATACGGGAACTCTGAGGACTTACGC', 'TTCTTGCTACAACTAACAAATCTTGTGTATTGATCC']\n",
      "30.0\n"
     ]
    }
   ],
   "source": [
    "# ex.33 # Generate a list of 10 random DNA sequences\n",
    "# Write a program to:\n",
    "# (1) Identify the average length of the sequences in the list;\n",
    "# (2) Find the shortest and the longest sequences;\n",
    "# (3) Compute the average GC content (percentage of C or G characters in the string) of the sequences in the list;\n",
    "# (4) Identify the sequences with the highest and the lowest GC content;\n",
    "# Remove all the duplicates from the input list (for instance the first and the fourth sequences in the example are identical; only one copy must\tbe in the result sequence)\n",
    "\n",
    "input_dna = [generate_dna() for i in range(10)]\n",
    "print(input_dna)\n",
    "\n",
    "# (1)\n",
    "def avg_len(lst):\n",
    "    sum_len = 0\n",
    "    for seq in lst:\n",
    "        sum_len += len(seq)\n",
    "    return sum_len / len(lst)\n",
    "\n",
    "print(avg_len(input_dna))"
   ]
  },
  {
   "cell_type": "code",
   "execution_count": null,
   "metadata": {
    "pycharm": {
     "is_executing": true
    }
   },
   "outputs": [],
   "source": [
    "# ex.15 # create the reverse complement of a random DNA sequence using list comprehension"
   ]
  },
  {
   "cell_type": "code",
   "execution_count": null,
   "metadata": {
    "pycharm": {
     "is_executing": true
    }
   },
   "outputs": [],
   "source": [
    "# ex.21 # consider the following list of annotations and mutations\n",
    "# using list/set/dict comprehension method, (1) find the mutated annotated regions and (2) for each annotation, print the number of mutations falling within the range\n",
    "annotations  =  [('chr1',  10,  20,  'GeneA.ex1'),  ('chr1',  25,  40,  'GeneA.ex2'),\n",
    "\t('chr1',  50,  90,  'GeneA.ex3'),  ('chr1',  10,  90,  'GeneA'),\n",
    "\t('chr1',  100,  150,  'GeneB.ex1'),  ('chr1',  180,  190,  'GeneB.ex2'),\n",
    "\t('chr1',  100,  210,  'GeneB'),  ('chr3',  90,  135,  'GeneC.ex1'),\n",
    "\t('chr3',  180,  190,  'GeneC.ex2'),  ('chr3',  90,  190,  'GeneC')]\n",
    "mutations  =  [('chr1',  81),  ('chr1',  239),  ('chr1',  165),  ('chr2',  123),  ('chr3',  50),\n",
    "\t('chr1',  162),  ('chr3',  101),  ('chr2',  185),  ('chr2',  149),  ('chr3',  183),\n",
    "\t('chr2',  158),  ('chr3',  25),  ('chr2',  250),  ('chr1',  299),  ('chr2',  114),\n",
    "\t('chr2',  184),  ('chr2',  33),  ('chr3',  290),  ('chr1',  138),  ('chr2',  147)]\n"
   ]
  },
  {
   "cell_type": "code",
   "execution_count": null,
   "metadata": {},
   "outputs": [],
   "source": [
    "# now that you know the random library, we can also produce our own test data! As an exercise, repeat the previous exercise, but this time use 100 random mutations in the range (chr1-chr3)-(1-300)."
   ]
  }
 ],
 "metadata": {
  "kernelspec": {
   "display_name": "Python 3 (ipykernel)",
   "language": "python",
   "name": "python3"
  },
  "language_info": {
   "codemirror_mode": {
    "name": "ipython",
    "version": 3
   },
   "file_extension": ".py",
   "mimetype": "text/x-python",
   "name": "python",
   "nbconvert_exporter": "python",
   "pygments_lexer": "ipython3",
   "version": "3.10.6"
  }
 },
 "nbformat": 4,
 "nbformat_minor": 1
}

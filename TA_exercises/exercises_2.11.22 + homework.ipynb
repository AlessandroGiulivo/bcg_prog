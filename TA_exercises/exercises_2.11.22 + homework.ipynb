{
 "cells": [
  {
   "cell_type": "code",
   "execution_count": 1,
   "metadata": {},
   "outputs": [],
   "source": [
    "\timport random"
   ]
  },
  {
   "cell_type": "markdown",
   "metadata": {},
   "source": [
    "# Review of previous exercises\n",
    "#### What's indexing"
   ]
  },
  {
   "cell_type": "code",
   "execution_count": 2,
   "metadata": {},
   "outputs": [
    {
     "name": "stdout",
     "output_type": "stream",
     "text": [
      "[(2, 0.4666666666666667), (9, 0.46808510638297873), (13, 0.47619047619047616), (19, 0.6296296296296297), (24, 0.47368421052631576), (42, 0.4523809523809524), (49, 0.5), (53, 0.4772727272727273), (62, 0.5), (66, 0.5454545454545454), (71, 0.4857142857142857), (73, 0.4583333333333333), (75, 0.48), (82, 0.48), (83, 0.47058823529411764), (94, 0.45652173913043476)]\n"
     ]
    }
   ],
   "source": [
    "# Consider 100 randomly mutated sequences. Index them from 0 to 99. Select only those with at least 2 deletions and GC% > 0.45 using higher order functions. Return their index and GC% value.\n",
    "def generate_dna():\n",
    "    random_dna_string = \"\".join(random.choices([\"A\", \"C\", \"G\", \"T\"], weights=[29, 21, 21, 29], k=random.randint(5, 50)))\n",
    "    return random_dna_string\n",
    "\n",
    "def mutate(n_times, input_dna):\n",
    "    for i in range(n_times):\n",
    "        mut_pos = random.randint(0, len(input_dna)-1)     # mut_pos is [0,len(input_dna)]\n",
    "        mut_type = random.randint(0, 2)\n",
    "        if mut_type == 0:\n",
    "            # substitution\n",
    "            replacement = random.choice([\"A\", \"C\", \"G\", \"T\"])\n",
    "            input_dna = input_dna[:mut_pos] + replacement+ input_dna[mut_pos+1:]\n",
    "        elif mut_type == 1:\n",
    "            # insertion\n",
    "            inserted_elem = random.choice([\"A\", \"C\", \"G\", \"T\"])\n",
    "            input_dna = input_dna[:mut_pos] + inserted_elem + input_dna[mut_pos+1:]\n",
    "        else:\n",
    "            # deletion\n",
    "            input_dna = input_dna[:mut_pos] + '-' + input_dna[mut_pos+1:]\n",
    "    return input_dna\n",
    "\n",
    "random.seed(16)\n",
    "input_dna = [mutate(10, generate_dna()) for i in range(100)]\n",
    "index = zip(list(range(len(input_dna))), input_dna)\n",
    "\n",
    "del_filter = filter(lambda i: i[1].count('-') >= 2, index)\n",
    "gc_count = map(lambda i: (i[0],(i[1].count('G') + i[1].count('C'))/len(i[1])), del_filter)\n",
    "gc_filter = filter(lambda i: i[1]>0.45, gc_count)\n",
    "\n",
    "result = list(gc_filter)\n",
    "print(result)"
   ]
  },
  {
   "cell_type": "markdown",
   "metadata": {},
   "source": [
    "#### Alternative \"pipelined\" style"
   ]
  },
  {
   "cell_type": "code",
   "execution_count": 3,
   "metadata": {},
   "outputs": [
    {
     "name": "stdout",
     "output_type": "stream",
     "text": [
      "[(2, 0.4666666666666667), (9, 0.46808510638297873), (13, 0.47619047619047616), (19, 0.6296296296296297), (24, 0.47368421052631576), (42, 0.4523809523809524), (49, 0.5), (53, 0.4772727272727273), (62, 0.5), (66, 0.5454545454545454), (71, 0.4857142857142857), (73, 0.4583333333333333), (75, 0.48), (82, 0.48), (83, 0.47058823529411764), (94, 0.45652173913043476)]\n"
     ]
    }
   ],
   "source": [
    "random.seed(16)\n",
    "data = [mutate(10, generate_dna()) for i in range(100)]\n",
    "\n",
    "def index(data):\n",
    "\treturn zip(list(range(len(data))), data)\n",
    "\n",
    "pipeline = [\n",
    "\t(index,),\n",
    "\t(filter, lambda i: i[1].count('-') >= 2),\n",
    "\t(map, lambda i: (i[0],(i[1].count('G') + i[1].count('C'))/len(i[1])) ),\n",
    "\t(filter, lambda i: i[1]>0.45)\n",
    "]\n",
    "\n",
    "for stage in pipeline:\n",
    "\tif len(stage) == 1:\n",
    "\t\twhole_dataset_f = stage[0]\n",
    "\t\tdata = whole_dataset_f(data)\n",
    "\telif len(stage) == 2:\n",
    "\t\tapply, single_point_f = stage\n",
    "\t\tdata = apply(single_point_f, data)\n",
    "print(list(data))"
   ]
  },
  {
   "cell_type": "markdown",
   "metadata": {},
   "source": [
    "# Correction of homework"
   ]
  },
  {
   "cell_type": "code",
   "execution_count": 4,
   "metadata": {},
   "outputs": [
    {
     "name": "stdout",
     "output_type": "stream",
     "text": [
      "{'GeneC.ex1', 'GeneC', 'GeneA', 'GeneC.ex2', 'GeneB.ex1', 'GeneA.ex3', 'GeneB'}\n",
      "{'GeneC.ex1': 1, 'GeneC': 2, 'GeneA': 1, 'GeneC.ex2': 1, 'GeneB.ex1': 1, 'GeneA.ex3': 1, 'GeneB': 3}\n"
     ]
    }
   ],
   "source": [
    "# ex.21 on 26.10.22\n",
    "annotations  =  [('chr1',  10,  20,  'GeneA.ex1'),  ('chr1',  25,  40,  'GeneA.ex2'),\n",
    "\t('chr1',  50,  90,  'GeneA.ex3'),  ('chr1',  10,  90,  'GeneA'),\n",
    "\t('chr1',  100,  150,  'GeneB.ex1'),  ('chr1',  180,  190,  'GeneB.ex2'),\n",
    "\t('chr1',  100,  210,  'GeneB'),  ('chr3',  90,  135,  'GeneC.ex1'),\n",
    "\t('chr3',  180,  190,  'GeneC.ex2'),  ('chr3',  90,  190,  'GeneC')]\n",
    "mutations  =  [('chr1',  81),  ('chr1',  239),  ('chr1',  165),  ('chr2',  123),  ('chr3',  50),\n",
    "\t('chr1',  162),  ('chr3',  101),  ('chr2',  185),  ('chr2',  149),  ('chr3',  183),\n",
    "\t('chr2',  158),  ('chr3',  25),  ('chr2',  250),  ('chr1',  299),  ('chr2',  114),\n",
    "\t('chr2',  184),  ('chr2',  33),  ('chr3',  290),  ('chr1',  138),  ('chr2',  147)]\n",
    "\n",
    "mutated_regions_with_rep = [ann[3] for ann in annotations for mut in mutations if ann[0] == mut[0] and ann[1] <= mut[1] <= ann[2] ]\n",
    "mutated_regions = set(mutated_regions_with_rep)\n",
    "print(mutated_regions)\n",
    "mutation_count = {reg: mutated_regions_with_rep.count(reg) for reg in mutated_regions}\n",
    "print(mutation_count)"
   ]
  },
  {
   "cell_type": "markdown",
   "metadata": {},
   "source": [
    "# 1-on-1 tutoring exercises"
   ]
  },
  {
   "cell_type": "code",
   "execution_count": 5,
   "metadata": {},
   "outputs": [
    {
     "data": {
      "text/plain": "[[61, 10, 22, 8, 14],\n [56, 39, 23, 56, 46],\n [18, 26, 5, 56, 24],\n [61, 66, 29, 66, 14],\n [53, 63, 2, 52, 17],\n [40, 14, 33, 42, 65],\n [19, 67, 7, 33, 30],\n [60, 14, 23, 59, 57],\n [59, 70, 31, 56, 8],\n [21, 28, 19, 68, 8],\n [20, 32, 45, 49, 55],\n [56, 47, 48, 4, 18],\n [56, 68, 30, 51, 11],\n [35, 45, 11, 58, 11],\n [8, 25, 49, 18, 24],\n [44, 29, 14, 64, 43],\n [16, 58, 64, 38, 70],\n [6, 63, 66, 39, 32],\n [36, 35, 9, 19, 63],\n [40, 58, 9, 1, 14],\n [61, 47, 37, 37, 63],\n [7, 59, 58, 10, 20],\n [13, 41, 55, 34, 7],\n [17, 30, 27, 21, 65],\n [14, 22, 9, 59, 21],\n [39, 45, 12, 21, 28],\n [63, 7, 44, 2, 27],\n [38, 49, 19, 24, 11],\n [21, 1, 66, 1, 40],\n [42, 22, 62, 50, 54],\n [10, 44, 59, 14, 57],\n [67, 41, 52, 20, 21],\n [20, 68, 5, 49, 40],\n [6, 27, 68, 21, 7],\n [62, 6, 58, 49, 10],\n [6, 10, 11, 70, 8],\n [37, 3, 42, 21, 15],\n [23, 27, 23, 24, 42],\n [28, 64, 11, 46, 60],\n [12, 4, 22, 1, 14],\n [42, 30, 35, 67, 50],\n [44, 56, 22, 54, 68],\n [39, 20, 35, 66, 32],\n [28, 13, 12, 6, 2],\n [25, 49, 62, 46, 57],\n [70, 25, 41, 51, 65],\n [7, 18, 60, 10, 70],\n [24, 38, 32, 21, 20],\n [17, 14, 28, 28, 47]]"
     },
     "execution_count": 5,
     "metadata": {},
     "output_type": "execute_result"
    }
   ],
   "source": [
    "# ex. 30 # A list of number is \"lucky\" if it contains at least one multiple of 7.\n",
    "# Randomly generate a list of 100 lists, where each inner list is made of 5 random whole numbers between 1 and 70 (inclusive)\n",
    "# Then, select only the lucky ones.\n",
    "import random\n",
    "numbers = [[random.randint(1,70) for i in range(5)] for i in range(100)]\n",
    "\n",
    "def lucky_list(l):\n",
    "\treturn len([x for x in l if x%7==0])>0\n",
    "\n",
    "list(filter(lucky_list, numbers))"
   ]
  },
  {
   "cell_type": "markdown",
   "metadata": {},
   "source": [
    "use of any"
   ]
  },
  {
   "cell_type": "code",
   "execution_count": 8,
   "metadata": {},
   "outputs": [
    {
     "data": {
      "text/plain": [
       "True"
      ]
     },
     "execution_count": 8,
     "metadata": {},
     "output_type": "execute_result"
    }
   ],
   "source": [
    "any([1,2])"
   ]
  },
  {
   "cell_type": "code",
   "execution_count": 3,
   "metadata": {},
   "outputs": [
    {
     "data": {
      "text/plain": [
       "False"
      ]
     },
     "execution_count": 3,
     "metadata": {},
     "output_type": "execute_result"
    }
   ],
   "source": [
    "any([])"
   ]
  },
  {
   "cell_type": "code",
   "execution_count": 5,
   "metadata": {},
   "outputs": [
    {
     "data": {
      "text/plain": [
       "False"
      ]
     },
     "execution_count": 5,
     "metadata": {},
     "output_type": "execute_result"
    }
   ],
   "source": [
    "any([False, False])"
   ]
  },
  {
   "cell_type": "code",
   "execution_count": 4,
   "metadata": {},
   "outputs": [
    {
     "data": {
      "text/plain": [
       "[[60, 2, 42, 38, 3],\n",
       " [17, 68, 35, 14, 57],\n",
       " [1, 5, 37, 61, 42],\n",
       " [32, 50, 49, 5, 39],\n",
       " [36, 37, 46, 42, 14],\n",
       " [6, 32, 35, 14, 31],\n",
       " [32, 35, 7, 11, 51],\n",
       " [56, 19, 54, 44, 59],\n",
       " [55, 18, 28, 54, 19],\n",
       " [47, 9, 56, 46, 60],\n",
       " [68, 51, 5, 38, 49],\n",
       " [49, 62, 67, 31, 65],\n",
       " [34, 54, 4, 3, 56],\n",
       " [63, 5, 48, 4, 67],\n",
       " [10, 61, 7, 44, 35],\n",
       " [61, 42, 2, 31, 51],\n",
       " [40, 56, 61, 56, 36],\n",
       " [19, 20, 6, 21, 20],\n",
       " [17, 35, 44, 26, 68],\n",
       " [25, 35, 46, 8, 54],\n",
       " [49, 31, 33, 26, 55],\n",
       " [53, 11, 14, 2, 11],\n",
       " [32, 49, 45, 26, 16],\n",
       " [18, 64, 42, 36, 66],\n",
       " [28, 66, 13, 30, 19],\n",
       " [49, 54, 29, 36, 30],\n",
       " [3, 70, 30, 67, 37],\n",
       " [50, 51, 28, 9, 5],\n",
       " [27, 70, 5, 37, 31],\n",
       " [4, 63, 40, 57, 12],\n",
       " [4, 56, 7, 3, 44],\n",
       " [15, 42, 65, 59, 29],\n",
       " [5, 7, 43, 18, 53],\n",
       " [50, 2, 28, 22, 31],\n",
       " [54, 40, 70, 46, 14],\n",
       " [22, 3, 9, 7, 35],\n",
       " [55, 10, 34, 40, 14],\n",
       " [67, 63, 61, 6, 14],\n",
       " [50, 35, 20, 30, 63],\n",
       " [49, 51, 70, 56, 11],\n",
       " [35, 55, 6, 48, 66],\n",
       " [35, 61, 23, 51, 52],\n",
       " [60, 28, 28, 53, 29],\n",
       " [65, 44, 6, 70, 46],\n",
       " [5, 70, 38, 51, 52],\n",
       " [4, 54, 63, 67, 42],\n",
       " [4, 62, 21, 21, 31],\n",
       " [39, 20, 65, 28, 63],\n",
       " [48, 31, 35, 69, 37],\n",
       " [59, 70, 53, 59, 33],\n",
       " [38, 7, 20, 13, 28],\n",
       " [35, 14, 9, 35, 44],\n",
       " [49, 24, 59, 63, 1],\n",
       " [56, 56, 1, 47, 11],\n",
       " [48, 27, 14, 26, 59]]"
      ]
     },
     "execution_count": 4,
     "metadata": {},
     "output_type": "execute_result"
    }
   ],
   "source": [
    "def lucky_list(l):\n",
    "\treturn any([x for x in l if x%7==0])\n",
    "\n",
    "list(filter(lucky_list, numbers))"
   ]
  },
  {
   "cell_type": "code",
   "execution_count": 30,
   "metadata": {},
   "outputs": [
    {
     "name": "stdout",
     "output_type": "stream",
     "text": [
      "['D614G', 'P12M', 'D54L', 'D614G', 'L33K', 'K251G']\n"
     ]
    }
   ],
   "source": [
    "# ex.28 # Let's consider a collection of mutations the in the format of a list of tuples: [(seq_id,protein,pos,ref,alt)]\n",
    "# 1. count how many distinct seq_ids are present in the database\n",
    "# 2. select only mutations on the S protein and sort them by position\n",
    "# 3. find the most common mutation\n",
    "# 4. transform the mutations in the format <Ref><Position><Alt> (eg.'614', 'D', 'G' => 'D614G')\n",
    "# copy from  shorturl.at/apVYZ\n",
    "muts = [\n",
    "\t(\"MW173245\", \"S\", 614, \"D\", \"G\"),\n",
    "\t(\"MW173245\", \"N\", 12, \"P\", \"M\"),\n",
    "\t(\"MW166097\", \"S\", 54, \"D\", \"L\"),\n",
    "\t(\"MW166097\", \"S\", 614, \"D\", \"G\"),\n",
    "\t(\"MW166097\", \"E\", 33, \"L\", \"K\"),\n",
    "\t(\"MW166097\", \"Orf7\", 251, \"K\", \"G\")]\n",
    "seq_ids = [t[0] for t in muts]\n",
    "count_distinct = len({s for s in seq_ids})\n",
    "req2 = sorted([t for t in muts if t[1] == \"S\"], key=lambda x: x[2])\n",
    "\n",
    "unique_muts = [t[1:] for t in muts]\n",
    "unique_muts = {t: unique_muts.count(t) for t in unique_muts}\n",
    "maximum_count = {k:v for k,v in unique_muts.items() if v == max(unique_muts.values())}\n",
    "#transformed_list = [mut[3]+str(mut[2])+mut[4] for mut in muts]\n",
    "transformed_list = list(map(lambda mut: mut[3]+str(mut[2])+mut[4], muts))\n",
    "print(transformed_list)"
   ]
  },
  {
   "cell_type": "markdown",
   "metadata": {},
   "source": [
    "# Homework"
   ]
  },
  {
   "cell_type": "code",
   "execution_count": 7,
   "metadata": {},
   "outputs": [],
   "source": [
    "# ex.35 # Consider a matrix represented as a list of lists\n",
    "M = [[1,4,5,6,1],\n",
    "\t [4,6,2,3,7],\n",
    "\t [1,0,-1,0,1],\n",
    "\t [3,4,1,5,6],\n",
    "\t [1,3,4,5,3],\n",
    "\t [0,0,0,0,0]\n",
    "]\n",
    "# perform using list/set/dictionary comprehension or higher order functions :\n",
    "# (1) sanity check: ensures that all the rows have the same length\n",
    "# (2) data cleaning: removes from the matrix any row such that\n",
    "#\tit contains only zeros\n",
    "#\tit contains at least one negative value\n",
    "# (3) normalization: divide each element by the maximum of the row\n",
    "# (4) analysis:\n",
    "#\tcomputes the list sum_row with contains the sum of th elements of each row\n",
    "#\tcomputes the list sum_col which contains the sum of the elements of each column\n",
    "\n",
    "# suggestion: you may consider using the functions any() and all() to solve some requests"
   ]
  },
  {
   "cell_type": "markdown",
   "source": [
    "### ex 40.\n",
    "**Identify all the 4-mers inside the following sequences and print them in a list sorted by count across all the sequences**<br>\n",
    "`seqs = [\"acctctgtcgatg\", \"acctgtgcgatg\", \"accttggtttc\", \"tttctttccgccaa\"]`<br>\n",
    "*For example, in the first sequence we see the 4-mer \"acct\" and it appears 3 times (in the 1st, 2nd and 3rd sequence), so its count is 3.<br> the second 4-mer is \"cctc\" and its count is 1.*"
   ],
   "metadata": {
    "collapsed": false
   }
  },
  {
   "cell_type": "code",
   "execution_count": 6,
   "outputs": [
    {
     "name": "stdout",
     "output_type": "stream",
     "text": [
      "acct 3\n",
      "tttc 3\n",
      "ctgt 2\n",
      "cgat 2\n",
      "gatg 2\n",
      "cctc 1\n",
      "ctct 1\n",
      "tctg 1\n",
      "tgtc 1\n",
      "gtcg 1\n",
      "tcga 1\n",
      "cctg 1\n",
      "tgtg 1\n",
      "gtgc 1\n",
      "tgcg 1\n",
      "gcga 1\n",
      "cctt 1\n",
      "cttg 1\n",
      "ttgg 1\n",
      "tggt 1\n",
      "ggtt 1\n",
      "gttt 1\n",
      "ttct 1\n",
      "tctt 1\n",
      "cttt 1\n",
      "ttcc 1\n",
      "tccg 1\n",
      "ccgc 1\n",
      "cgcc 1\n",
      "gcca 1\n",
      "ccaa 1\n"
     ]
    }
   ],
   "source": [
    "seqs = [\"acctctgtcgatg\", \"acctgtgcgatg\", \"accttggtttc\", \"tttctttccgccaa\"]\n",
    "\n",
    "kmer_counts = {}\n",
    "for seq in seqs:\n",
    "\tfor i in range(len(seq)-3):\n",
    "\t\tkmer = seq[i : i + 4]\n",
    "\t\tif kmer in kmer_counts:\n",
    "\t\t\tkmer_counts[kmer] += 1\n",
    "\t\telse:\n",
    "\t\t\tkmer_counts[kmer] = 1\n",
    "\n",
    "for kmer in sorted(kmer_counts, key = kmer_counts.get, reverse = True):\n",
    "\tprint(kmer, kmer_counts[kmer])"
   ],
   "metadata": {
    "collapsed": false
   }
  },
  {
   "cell_type": "code",
   "execution_count": null,
   "outputs": [],
   "source": [
    "# ex. 42 # consider a bank log as a list of tuples: (account_id, withdrawal / deposit, amount)\n",
    "# Create a function that returns the net amount for each account.\n",
    "# E.g. input:\n",
    "# (111, “D”, 200)\n",
    "# (222, “W”, 100)\n",
    "# (111, “D”, 200)\n",
    "# (111, “W”, 100)\n",
    "# (222, “D”, 100)\n",
    "# (333, “D”, 500)\n",
    "# Output:\n",
    "# (111, 300)\n",
    "# (222, 0)\n",
    "# (333, 500)"
   ],
   "metadata": {
    "collapsed": false
   }
  }
 ],
 "metadata": {
  "kernelspec": {
   "display_name": "Python 3 (ipykernel)",
   "language": "python",
   "name": "python3"
  },
  "language_info": {
   "codemirror_mode": {
    "name": "ipython",
    "version": 3
   },
   "file_extension": ".py",
   "mimetype": "text/x-python",
   "name": "python",
   "nbconvert_exporter": "python",
   "pygments_lexer": "ipython3",
   "version": "3.10.6"
  }
 },
 "nbformat": 4,
 "nbformat_minor": 1
}

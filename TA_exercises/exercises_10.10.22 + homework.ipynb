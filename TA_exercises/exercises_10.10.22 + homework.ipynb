{
 "cells": [
  {
   "cell_type": "code",
   "execution_count": 4,
   "metadata": {
    "collapsed": true
   },
   "outputs": [
    {
     "name": "stdout",
     "output_type": "stream",
     "text": [
      "[1, 2, 3, 1, 1, 'AAA', 3, 4]\n",
      "{1, 2, 3, 4, 'AAA'}\n",
      "[1, 2, 3, 4, 'AAA']\n"
     ]
    }
   ],
   "source": [
    "# consider a list of tuples\n",
    "# 1. flatten the list\n",
    "# 2. remove duplicates\n",
    "l = [(1,2,3), (1,1,'AAA'), (3,4)]\n",
    "# result = [1,2,3,1,1,'AAA',.... ]\n",
    "outer_list = []\n",
    "for tup in l:\n",
    "    for item in tup:\n",
    "        outer_list.append(item)\n",
    "print(outer_list)\n",
    "outer_list = set(outer_list)\n",
    "print(outer_list)\n",
    "outer_list = list(outer_list)\n",
    "print(outer_list)"
   ]
  },
  {
   "cell_type": "code",
   "execution_count": 5,
   "metadata": {
    "pycharm": {
     "name": "#%%\n"
    }
   },
   "outputs": [
    {
     "name": "stdout",
     "output_type": "stream",
     "text": [
      "[1, 2, 3, 1, 1, 'AAA', 3, 4]\n",
      "{1, 2, 3, 4, 'AAA'}\n",
      "[1, 2, 3, 4, 'AAA']\n"
     ]
    }
   ],
   "source": [
    "# alternative with list.extend()\n",
    "outer_list = []\n",
    "for tup in l:\n",
    "    outer_list.extend(tup)\n",
    "print(outer_list)\n",
    "outer_list = set(outer_list)\n",
    "print(outer_list)\n",
    "outer_list = list(outer_list)\n",
    "print(outer_list)"
   ]
  },
  {
   "cell_type": "code",
   "execution_count": 2,
   "metadata": {
    "pycharm": {
     "name": "#%%\n"
    }
   },
   "outputs": [
    {
     "name": "stdout",
     "output_type": "stream",
     "text": [
      "evaluating regex on input aaa_bbb  --> groups: aaa bbb\n",
      "evaluating regex on input _aab  --> no regex match\n",
      "evaluating regex on input Aa_Bb  --> no regex match\n",
      "evaluating regex on input aaabbb  --> no regex match\n",
      "evaluating regex on input a_b  --> groups: a b\n"
     ]
    }
   ],
   "source": [
    "# write a program to find two sequences of lowercase letters joined with an underscore\n",
    "inputs = ['aaa_bbb', '_aab', 'Aa_Bb', 'aaabbb', 'a_b']\n",
    "import re\n",
    "\n",
    "for inp in inputs:\n",
    "    print(\"evaluating regex on input\", inp, \" --> \", end=\"\")\n",
    "    result = re.search(r'([a-z]+)_([a-z]+)', inp)\n",
    "    if result:\n",
    "        print(\"groups:\", result.group(1), result.group(2))\n",
    "        # print(result)\n",
    "    else:\n",
    "        print(\"no regex match\")"
   ]
  },
  {
   "cell_type": "code",
   "execution_count": 17,
   "metadata": {
    "pycharm": {
     "name": "#%%\n"
    }
   },
   "outputs": [
    {
     "data": {
      "text/plain": [
       "'my input is 05-10-2005'"
      ]
     },
     "execution_count": 17,
     "metadata": {},
     "output_type": "execute_result"
    }
   ],
   "source": [
    "# write a program to convert a date of format yyyy-mm-dd into dd-mm-yyyy\n",
    "import re\n",
    "\n",
    "inp = \"2005-10-05\"\n",
    "#inp = \"2005-9-5\"\n",
    "re.sub(r'(\\d{4})-(\\d{1,2})-(\\d{1,2})', r'my input is \\3-\\2-\\1', inp)"
   ]
  },
  {
   "cell_type": "code",
   "execution_count": 7,
   "metadata": {
    "pycharm": {
     "name": "#%%\n"
    }
   },
   "outputs": [
    {
     "name": "stdout",
     "output_type": "stream",
     "text": [
      "9.0.21.206\n"
     ]
    }
   ],
   "source": [
    "# write a program to remove leading zeros from an IP address.\n",
    "# USE REGULAR EXPRESSIONS! (one or more)\n",
    "ip1 = \"216.05.094.196\"\n",
    "ip2 = \"010.06.21.206\"\n",
    "ip3 = \"009.0.21.206\"\n",
    "ip4 = \"009.00.21.206\"   # <- this isn't actually an IP, but let's consider also this case to practice more with regex\n",
    "# result of ip = \"216.5.94.196\"\n",
    "# result of ip2 = \"9.6.21.206\"\n",
    "# result of ip3 = \"9.0.21.206\"\n",
    "import re\n",
    "\n",
    "result = re.sub(r'0*([1-9]\\d*)', r'\\1', ip3)\n",
    "print(re.sub(r'0+', '0', result))"
   ]
  },
  {
   "cell_type": "code",
   "execution_count": 5,
   "metadata": {
    "pycharm": {
     "name": "#%%\n"
    }
   },
   "outputs": [
    {
     "name": "stdout",
     "output_type": "stream",
     "text": [
      "ACTGACT"
     ]
    }
   ],
   "source": [
    "# write a program that reads from input a DNA sequence and then prints the reverse complement\n",
    "s = \"AGTCAGT\"\n",
    "translation_table = {\n",
    "    \"A\": \"T\",\n",
    "    \"T\": \"A\",\n",
    "    \"C\": \"G\",\n",
    "    \"G\": \"C\"\n",
    "}\n",
    "for l in s[::-1]:\n",
    "    if l == \"A\":\n",
    "        print(\"T\", end=\"\")\n",
    "    elif l == \"T\":\n",
    "        print(\"A\", end=\"\")\n",
    "    elif l == \"C\":\n",
    "        print(\"G\", end=\"\")\n",
    "    elif l == \"G\":\n",
    "        print(\"C\", end=\"\")"
   ]
  },
  {
   "cell_type": "code",
   "execution_count": 26,
   "metadata": {
    "pycharm": {
     "name": "#%%\n"
    }
   },
   "outputs": [
    {
     "name": "stdout",
     "output_type": "stream",
     "text": [
      "ACTGACT\n"
     ]
    }
   ],
   "source": [
    "# alternative using a dictionary and collecting the result into a string\n",
    "reverse_compl = \"\"\n",
    "for l in s[::-1]:\n",
    "    reverse = translation_table[l]\n",
    "    reverse_compl += reverse\n",
    "print(reverse_compl)"
   ]
  },
  {
   "cell_type": "code",
   "execution_count": 6,
   "metadata": {
    "pycharm": {
     "name": "#%%\n"
    }
   },
   "outputs": [
    {
     "data": {
      "text/plain": [
       "'ACTGACT'"
      ]
     },
     "execution_count": 6,
     "metadata": {},
     "output_type": "execute_result"
    }
   ],
   "source": [
    "# alternative using built-in string methods & dictionary (for 1-to-N-chars transaltions only)\n",
    "s.translate(str.maketrans(translation_table))[::-1]"
   ]
  },
  {
   "cell_type": "markdown",
   "metadata": {},
   "source": [
    "# Remark on regular expressions\n",
    "\n",
    "As shown in class, python's regex library doesn't provide a suitable modifier to limit the range of values of double-digit integers.\n",
    "Therefore, sometimes we may not have an elegant form to write a regular expression that will match against a specified range of values.\n",
    "\n",
    "For example, if we wanted a regular expression to match against a range of 2-7, we could just write r'[2-7]'. But the same approach can get much more complicated when we want to match only valid values of days and months.\n",
    "\n",
    "In the next exercise class we'll review the following code, discuss how to write a regular expression to validate a date field (dd-mm-yyyy) requiring that 1 <= day <= 31 and 1 <= month <= 12 and how to extract its values. Despite I would normally discourage you from using a regex to validate date fields in this way, this example will be useful to practice more on regular expressions. For the time being, don't worry if you don't understand everything in the following code; we'll analyse it together during the next exercise class."
   ]
  },
  {
   "cell_type": "code",
   "execution_count": null,
   "metadata": {
    "pycharm": {
     "is_executing": true,
     "name": "#%%\n"
    }
   },
   "outputs": [],
   "source": [
    "import re\n",
    "\n",
    "days = r'((0?[1-9])|(1[0-9])|(2[0-9])|(3[0-1]))'\n",
    "months = r'((0?[1-9])|(1[0-2]))'\n",
    "years = r'(\\d{1,4})'\n",
    "\n",
    "full_regex = rf'{days}-{months}-{years}'\n",
    "print(\"regex:\", full_regex)\n",
    "\n",
    "test_inputs = [\"31-05-02\", \"01-01-01\", \"22-10-22\", \"0-05-22\", \"06-00-22\", \"6-0-22\", \"6-22-12\", \"34-12-11\", \"6-12-2022\", \"5-5-5000\", \"1-1-1\"]\n",
    "for test in test_inputs:\n",
    "    print(\"test string:\", test, end=\" --> \")\n",
    "\n",
    "    result = re.fullmatch(re.compile(full_regex), test)\n",
    "\n",
    "    if result:\n",
    "        day_group = result.group(1)\n",
    "        month_group = result.group(6)\n",
    "        year_group = result.group(9)\n",
    "        print(\"day\", day_group, end=\" \")\n",
    "        print(\"month\", month_group, end=\" \")\n",
    "        print(\"year\", year_group)\n",
    "    else:\n",
    "        print(\"invalid date\")"
   ]
  },
  {
   "cell_type": "markdown",
   "metadata": {},
   "source": [
    "# Homework"
   ]
  },
  {
   "cell_type": "code",
   "execution_count": 1,
   "metadata": {
    "pycharm": {
     "name": "#%%\n"
    }
   },
   "outputs": [
    {
     "name": "stdout",
     "output_type": "stream",
     "text": [
      "10.5\n",
      "44.0\n",
      "58.0\n",
      "2.5\n"
     ]
    }
   ],
   "source": [
    "# write a python program to calculate the average of the numbers in a given tuple of tuples\n",
    "nums = ((10,10,10,12), (30,45,56,45), (81,80,39,32), (1,2,3,4))     # <-- example of input\n",
    "\n",
    "for tup in nums:\n",
    "    print(sum(tup)/len(tup))"
   ]
  },
  {
   "cell_type": "code",
   "execution_count": 12,
   "metadata": {
    "pycharm": {
     "name": "#%%\n"
    }
   },
   "outputs": [
    {
     "name": "stdout",
     "output_type": "stream",
     "text": [
      "3: [(1, 1, 1)]\n",
      "\n",
      "\n",
      "4: [(1, 1, 2), (1, 2, 1), (2, 1, 1)]\n",
      "\n",
      "\n",
      "5: [(1, 1, 3), (1, 2, 2), (1, 3, 1), (2, 1, 2), (2, 2, 1), (3, 1, 1)]\n",
      "\n",
      "\n",
      "6: [(1, 1, 4), (1, 2, 3), (1, 3, 2), (1, 4, 1), (2, 1, 3), (2, 2, 2), (2, 3, 1), (3, 1, 2), (3, 2, 1), (4, 1, 1)]\n",
      "\n",
      "\n",
      "7: [(1, 1, 5), (1, 2, 4), (1, 3, 3), (1, 4, 2), (1, 5, 1), (2, 1, 4), (2, 2, 3), (2, 3, 2), (2, 4, 1), (3, 1, 3), (3, 2, 2), (3, 3, 1), (4, 1, 2), (4, 2, 1), (5, 1, 1)]\n",
      "\n",
      "\n",
      "8: [(1, 1, 6), (1, 2, 5), (1, 3, 4), (1, 4, 3), (1, 5, 2), (1, 6, 1), (2, 1, 5), (2, 2, 4), (2, 3, 3), (2, 4, 2), (2, 5, 1), (3, 1, 4), (3, 2, 3), (3, 3, 2), (3, 4, 1), (4, 1, 3), (4, 2, 2), (4, 3, 1), (5, 1, 2), (5, 2, 1), (6, 1, 1)]\n",
      "\n",
      "\n",
      "9: [(1, 2, 6), (1, 3, 5), (1, 4, 4), (1, 5, 3), (1, 6, 2), (2, 1, 6), (2, 2, 5), (2, 3, 4), (2, 4, 3), (2, 5, 2), (2, 6, 1), (3, 1, 5), (3, 2, 4), (3, 3, 3), (3, 4, 2), (3, 5, 1), (4, 1, 4), (4, 2, 3), (4, 3, 2), (4, 4, 1), (5, 1, 3), (5, 2, 2), (5, 3, 1), (6, 1, 2), (6, 2, 1)]\n",
      "\n",
      "\n",
      "10: [(1, 3, 6), (1, 4, 5), (1, 5, 4), (1, 6, 3), (2, 2, 6), (2, 3, 5), (2, 4, 4), (2, 5, 3), (2, 6, 2), (3, 1, 6), (3, 2, 5), (3, 3, 4), (3, 4, 3), (3, 5, 2), (3, 6, 1), (4, 1, 5), (4, 2, 4), (4, 3, 3), (4, 4, 2), (4, 5, 1), (5, 1, 4), (5, 2, 3), (5, 3, 2), (5, 4, 1), (6, 1, 3), (6, 2, 2), (6, 3, 1)]\n",
      "\n",
      "\n",
      "11: [(1, 4, 6), (1, 5, 5), (1, 6, 4), (2, 3, 6), (2, 4, 5), (2, 5, 4), (2, 6, 3), (3, 2, 6), (3, 3, 5), (3, 4, 4), (3, 5, 3), (3, 6, 2), (4, 1, 6), (4, 2, 5), (4, 3, 4), (4, 4, 3), (4, 5, 2), (4, 6, 1), (5, 1, 5), (5, 2, 4), (5, 3, 3), (5, 4, 2), (5, 5, 1), (6, 1, 4), (6, 2, 3), (6, 3, 2), (6, 4, 1)]\n",
      "\n",
      "\n",
      "12: [(1, 5, 6), (1, 6, 5), (2, 4, 6), (2, 5, 5), (2, 6, 4), (3, 3, 6), (3, 4, 5), (3, 5, 4), (3, 6, 3), (4, 2, 6), (4, 3, 5), (4, 4, 4), (4, 5, 3), (4, 6, 2), (5, 1, 6), (5, 2, 5), (5, 3, 4), (5, 4, 3), (5, 5, 2), (5, 6, 1), (6, 1, 5), (6, 2, 4), (6, 3, 3), (6, 4, 2), (6, 5, 1)]\n",
      "\n",
      "\n",
      "13: [(1, 6, 6), (2, 5, 6), (2, 6, 5), (3, 4, 6), (3, 5, 5), (3, 6, 4), (4, 3, 6), (4, 4, 5), (4, 5, 4), (4, 6, 3), (5, 2, 6), (5, 3, 5), (5, 4, 4), (5, 5, 3), (5, 6, 2), (6, 1, 6), (6, 2, 5), (6, 3, 4), (6, 4, 3), (6, 5, 2), (6, 6, 1)]\n",
      "\n",
      "\n",
      "14: [(2, 6, 6), (3, 5, 6), (3, 6, 5), (4, 4, 6), (4, 5, 5), (4, 6, 4), (5, 3, 6), (5, 4, 5), (5, 5, 4), (5, 6, 3), (6, 2, 6), (6, 3, 5), (6, 4, 4), (6, 5, 3), (6, 6, 2)]\n",
      "\n",
      "\n",
      "15: [(3, 6, 6), (4, 5, 6), (4, 6, 5), (5, 4, 6), (5, 5, 5), (5, 6, 4), (6, 3, 6), (6, 4, 5), (6, 5, 4), (6, 6, 3)]\n",
      "\n",
      "\n",
      "16: [(4, 6, 6), (5, 5, 6), (5, 6, 5), (6, 4, 6), (6, 5, 5), (6, 6, 4)]\n",
      "\n",
      "\n",
      "17: [(5, 6, 6), (6, 5, 6), (6, 6, 5)]\n",
      "\n",
      "\n",
      "18: [(6, 6, 6)]\n",
      "\n",
      "\n"
     ]
    }
   ],
   "source": [
    "# there are 216 combinations of 3 dices. Build a dictionary with the following structure:\n",
    "# {\n",
    "#   sum_of_3_dices  : [(dice1,dice2,dice3), (dice1,dice2,dice3), ....]\n",
    "# }\n",
    "# where:\n",
    "# - every key (sum_of_3_dices) corresponds to a unique value of the sum\n",
    "# - the corresponding value is the list of triples of dices' values that generate the sum\n",
    "d = {}\n",
    "for n1 in range(1, 7):\n",
    "    for n2 in range(1, 7):\n",
    "        for n3 in range(1, 7):\n",
    "            if n1 + n2 + n3 in d:\n",
    "                d[n1 + n2 + n3].append((n1, n2, n3))\n",
    "            else:\n",
    "                d[n1 + n2 + n3] = [(n1, n2, n3)]\n",
    "for k, v in d.items():\n",
    "    print(f'{k}: {v}\\n\\n')"
   ]
  },
  {
   "cell_type": "code",
   "execution_count": 10,
   "metadata": {
    "pycharm": {
     "name": "#%%\n"
    }
   },
   "outputs": [
    {
     "name": "stdout",
     "output_type": "stream",
     "text": [
      "HSAPLF\n",
      "YYSVK\n",
      "NSALCLS\n",
      "\n",
      "\n",
      "Using list comprehension...\n",
      "\n",
      "HSAPLF\n",
      "YYSVK\n",
      "NSALCLS\n"
     ]
    }
   ],
   "source": [
    "# Consider a program that stores a python dictionary structured as { triplet: amino_acid }\n",
    "gencode  =  {\n",
    "\t'ATA': 'I',  'ATC':'I',  'ATT': 'I',  'ATG':'M',  'ACA':'T',  'ACC': 'T',  'ACG':'T',  'ACT': 'T',\n",
    "\t'AAC': 'N',  'AAT':'N',  'AAA': 'K',  'AAG':'K',  'AGC':'S',  'AGT': 'S',  'AGA':'R',  'AGG': 'R',\n",
    "\t'CTA': 'L',  'CTC':'L',  'CTG': 'L',  'CTT':'L',  'CCA':'P',  'CCC': 'P',  'CCG':'P',  'CCT': 'P',\n",
    "\t'CAC': 'H',  'CAT':'H',  'CAA': 'Q',  'CAG':'Q',  'CGA':'R',  'CGC': 'R',  'CGG':'R',  'CGT': 'R',\n",
    "\t'GTA': 'V',  'GTC':'V',  'GTG': 'V',  'GTT':'V',  'GCA':'A',  'GCC': 'A',  'GCG':'A',  'GCT': 'A',\n",
    "\t'GAC': 'D',  'GAT':'D',  'GAA': 'E',  'GAG':'E',  'GGA':'G',  'GGC': 'G',  'GGG':'G',  'GGT': 'G',\n",
    "\t'TCA': 'S',  'TCC':'S',  'TCG': 'S',  'TCT':'S',  'TTC':'F',  'TTT': 'F',  'TTA':'L',  'TTG': 'L',\n",
    "\t'TAC': 'Y',  'TAT':'Y',  'TAA': '_',  'TAG':'_',  'TGC':'C',  'TGT': 'C',  'TGA':'_',  'TGG': 'W'\n",
    "}\n",
    "# write a piece of code that takes in input a list of DNA sequences and produces the corresponding list of amino cids sequences by using the information in the gencode dictionary.\n",
    "# Example of input:\n",
    "dna_list  =  [\"CATTCCGCGCCCTTATTT\",  \"TATTACTCAGTAAAA\", \"AATAGCGCTTTATGCCTGTCT\"]\n",
    "# Result  =  ['HSAPLF',  'YYSVK',  'NSALCLS']\n",
    "\n",
    "for seq in dna_list:\n",
    "    prot = ''\n",
    "    for i in range(0, len(seq), 3):\n",
    "        prot += gencode[seq[i:i+3]]\n",
    "    print(prot)\n",
    "\n",
    "print(\"\\n\\nUsing list comprehension...\\n\")\n",
    "for seq in dna_list:\n",
    "    protlist = [gencode[seq[i:i+3]] for i in range(0, len(seq), 3)]\n",
    "    print(''.join(protlist))"
   ]
  }
 ],
 "metadata": {
  "kernelspec": {
   "display_name": "Python 3 (ipykernel)",
   "language": "python",
   "name": "python3"
  },
  "language_info": {
   "codemirror_mode": {
    "name": "ipython",
    "version": 3
   },
   "file_extension": ".py",
   "mimetype": "text/x-python",
   "name": "python",
   "nbconvert_exporter": "python",
   "pygments_lexer": "ipython3",
   "version": "3.10.6"
  }
 },
 "nbformat": 4,
 "nbformat_minor": 1
}

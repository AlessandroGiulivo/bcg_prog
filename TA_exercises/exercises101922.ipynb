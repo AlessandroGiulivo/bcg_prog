{
 "cells": [
  {
   "cell_type": "markdown",
   "id": "0ac1a704",
   "metadata": {},
   "source": [
    "# Exercises 19.10.22"
   ]
  },
  {
   "cell_type": "markdown",
   "id": "449a7b67",
   "metadata": {},
   "source": [
    "### 1.\n",
    "Define a function `powers(a, b)` that computes and returns both $a^b$ and $b^a$"
   ]
  },
  {
   "cell_type": "code",
   "execution_count": 3,
   "id": "3681b310",
   "metadata": {},
   "outputs": [
    {
     "name": "stdout",
     "output_type": "stream",
     "text": [
      "(25, 32)\n"
     ]
    }
   ],
   "source": [
    "def powers(a, b):\n",
    "    r1 = a**b\n",
    "    r2 = b**a\n",
    "    return r1, r2\n",
    "\n",
    "c = 5\n",
    "d = 2\n",
    "\n",
    "print(powers(c, d))"
   ]
  },
  {
   "cell_type": "markdown",
   "id": "aaa99dd7",
   "metadata": {},
   "source": [
    "### 2.\n",
    "Implement two variants of the `flatten(list)` function:\n",
    "- `flatten_unique(list)` that returns the number of distinct elements in `list`\n",
    "- `flatten_gt(list, N)` that returns a list with the elements that occur at least `N` times within `list`"
   ]
  },
  {
   "cell_type": "code",
   "execution_count": 31,
   "id": "2610b210",
   "metadata": {},
   "outputs": [
    {
     "name": "stdout",
     "output_type": "stream",
     "text": [
      "4\n"
     ]
    }
   ],
   "source": [
    "def flatten_unique(l):\n",
    "    return len(set(l))\n",
    "\n",
    "print(flatten_unique([1, 2, 3, 4]))"
   ]
  },
  {
   "cell_type": "code",
   "execution_count": 32,
   "id": "6369f09f",
   "metadata": {},
   "outputs": [
    {
     "name": "stdout",
     "output_type": "stream",
     "text": [
      "[1, 4, 1, 4, 1, 4, 1, 4]\n"
     ]
    }
   ],
   "source": [
    "def flatten_gt(l, N):\n",
    "    return [e for e in l if l.count(e) >= N]\n",
    "\n",
    "print(flatten_gt([1, 2, 3, 4, 1, 3, 4, 1, 4, 1, 3, 2, 4], 4))"
   ]
  },
  {
   "cell_type": "markdown",
   "id": "1f042ba7",
   "metadata": {},
   "source": [
    "### 3.\n",
    "Implement a function `avg_polynomial(X, n1, n2, ... , nN)` that takes as input:\n",
    "- a list of floats `X` [x<sub>1</sub>, x<sub>2</sub>, ... , xM]\n",
    "- an indefinite number of floats\n",
    "<br><br><br>\n",
    "- creates the polynomial *f(x) = n<sub>1</sub>\\*X<sup>(N-1)</sup> + n<sub>2</sub>\\*X<sup>(N-2)</sup> + ... + nN*\n",
    "- calculates *f(x)* for all the points in the list X\n",
    "- finally returns the average value of the polynomial"
   ]
  },
  {
   "cell_type": "code",
   "execution_count": 16,
   "id": "9b042f11",
   "metadata": {},
   "outputs": [
    {
     "name": "stdout",
     "output_type": "stream",
     "text": [
      "[26, 58, 922, 1234]\n",
      "560\n"
     ]
    }
   ],
   "source": [
    "import statistics as s\n",
    "\n",
    "def avg_polynomial(X, *n):\n",
    "    \n",
    "    def f(inp, n):\n",
    "        powers = list(reversed([inp ** i for i in range(0, len(n))]))\n",
    "        monomers = [powers[i]*n[i] for i in range(len(n))]\n",
    "        return sum(monomers)\n",
    "    \n",
    "    results = [f(x, n) for x in X]\n",
    "    print(results)\n",
    "    print(s.mean(results))\n",
    "    \n",
    "avg_polynomial([2, 3, 9, 10], 1, 2, 3, 4)"
   ]
  },
  {
   "cell_type": "markdown",
   "id": "6650ffd7",
   "metadata": {},
   "source": [
    "### 4.\n",
    "Create the function `listify(f)` that:\n",
    "- takes a function that works on a single input (for example use the function `abs()`)\n",
    "- returns a function that works on a list, whose behaviour is identical to apply the f function to each element of the list"
   ]
  },
  {
   "cell_type": "code",
   "execution_count": 20,
   "id": "43ea6baf",
   "metadata": {},
   "outputs": [
    {
     "name": "stdout",
     "output_type": "stream",
     "text": [
      "[1, 1, 2, 2, 3, 3]\n"
     ]
    }
   ],
   "source": [
    "def listify(f):\n",
    "    \n",
    "    def listified(l):\n",
    "        return [f(e) for e in l]\n",
    "    \n",
    "    return listified\n",
    "\n",
    "listified_abs = listify(abs)\n",
    "\n",
    "print(listified_abs([1, -1, 2, -2, 3, -3]))"
   ]
  },
  {
   "cell_type": "markdown",
   "id": "b8ae9e1f",
   "metadata": {},
   "source": [
    "### 5.\n",
    "Write a function that returns `True` if two arrays, when combined, form a consecutive sequence.<br>\n",
    "*(A consecutive sequence is a sequence without gaps in the integers)*"
   ]
  },
  {
   "cell_type": "code",
   "execution_count": 26,
   "id": "0e53e970",
   "metadata": {},
   "outputs": [
    {
     "name": "stdout",
     "output_type": "stream",
     "text": [
      "True\n"
     ]
    }
   ],
   "source": [
    "def consec(A, B):\n",
    "    seq = A + B\n",
    "    true_seq = list(range(min(seq), max(seq) + 1))\n",
    "    return sorted(seq) == true_seq \n",
    "\n",
    "A = [1, 2, 3]\n",
    "B = [4, 5, 6]\n",
    "\n",
    "print(consec(A, B))"
   ]
  },
  {
   "cell_type": "markdown",
   "id": "7e11dc22",
   "metadata": {},
   "source": [
    "### 6.\n",
    "**CHARGAFF RULE** states that \"*a double stranded DNA molecule globally has a percentage base equality: %A = %T and %G = %C*\"<br>\n",
    "However, *%A* and *%G* varies with organisms. For instance, humans have approximately *29% A* and *21% C*.<br><br>\n",
    "Write a function that generates random DNA sequences with percentages of A, T, C, G of human DNA"
   ]
  },
  {
   "cell_type": "code",
   "execution_count": 36,
   "id": "0a0aedad",
   "metadata": {},
   "outputs": [
    {
     "data": {
      "text/plain": [
       "'ACTTAAATTTGATGCTGTATATAT'"
      ]
     },
     "execution_count": 36,
     "metadata": {},
     "output_type": "execute_result"
    }
   ],
   "source": [
    "import random as r\n",
    "\n",
    "def random_human_dna():\n",
    "    random_dna_string = \"\".join(r.choices([\"A\", \"C\", \"G\", \"T\"],\n",
    "                                            weights = [29, 21, 21, 29],\n",
    "                                            k = r.randint(5, 50)))\n",
    "    return random_dna_string\n",
    "\n",
    "random_human_dna()"
   ]
  },
  {
   "cell_type": "markdown",
   "id": "b830a746",
   "metadata": {},
   "source": [
    "### 7.\n",
    "Write a program that causes three random mutations in the following DNA sequence:<br>\n",
    "`input_dna = random_human_dna()`<br><br>\n",
    "*(make sure that both the locations and mutation types (replacement, insertion and deletion) are random)*"
   ]
  },
  {
   "cell_type": "code",
   "execution_count": 46,
   "id": "c60966d7",
   "metadata": {},
   "outputs": [
    {
     "name": "stdout",
     "output_type": "stream",
     "text": [
      "Input is  CCCAAACAGCCCCC\n",
      "Output is Ca-CAAAgCAGCCCCC\n"
     ]
    }
   ],
   "source": [
    "input_dna = random_human_dna()\n",
    "print('Input is ', input_dna)\n",
    "\n",
    "for i in range(3):\n",
    "    # generating a single mutation\n",
    "    mut_pos = r.randint(0, len(input_dna) - 1)\n",
    "    mut_type = r.randint(0, 2)\n",
    "    if mut_type == 0:\n",
    "        # substitution\n",
    "        replacement = r.choice([\"a\", \"c\", \"g\", \"t\"])\n",
    "        input_dna = input_dna[:mut_pos - 1] + replacement + input_dna[mut_pos:]\n",
    "    elif mut_type == 1:\n",
    "        # insertion\n",
    "        inserted_elem = r.choice([\"a\", \"c\", \"g\", \"t\"])\n",
    "        input_dna= input_dna[:mut_pos] + inserted_elem + input_dna[mut_pos:]\n",
    "    else:\n",
    "        # deletion\n",
    "        input_dna = input_dna[:mut_pos - 1] + \"-\" + input_dna[mut_pos:]\n",
    "print('Output is', input_dna)"
   ]
  }
 ],
 "metadata": {
  "kernelspec": {
   "display_name": "Python 3 (ipykernel)",
   "language": "python",
   "name": "python3"
  },
  "language_info": {
   "codemirror_mode": {
    "name": "ipython",
    "version": 3
   },
   "file_extension": ".py",
   "mimetype": "text/x-python",
   "name": "python",
   "nbconvert_exporter": "python",
   "pygments_lexer": "ipython3",
   "version": "3.10.6"
  }
 },
 "nbformat": 4,
 "nbformat_minor": 5
}

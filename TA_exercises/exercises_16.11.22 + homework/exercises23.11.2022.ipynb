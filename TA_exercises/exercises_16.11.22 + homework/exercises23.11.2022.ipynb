{
 "cells": [
  {
   "cell_type": "code",
   "execution_count": null,
   "id": "e4747397",
   "metadata": {
    "pycharm": {
     "is_executing": true
    }
   },
   "outputs": [],
   "source": [
    "#!pip3 install numpy\n",
    "import matplotlib.pyplot as plt"
   ]
  },
  {
   "cell_type": "code",
   "execution_count": null,
   "id": "dcd4d316",
   "metadata": {
    "pycharm": {
     "is_executing": true
    }
   },
   "outputs": [],
   "source": [
    "mc1, mc2, mc3, fc1, fc2, fc3 = 0, 0, 0, 0, 0, 0\n",
    "\n",
    "with open(\"titanic.tsv\", \"r\") as f:\n",
    "    header_line = f.readline().rstrip('\\n').split('\\t')\n",
    "    columns = list(zip(      range(len(header_line))   , header_line      ))\n",
    "    print(columns)\n",
    "    for line in f:\n",
    "        line_list = line.rstrip('\\n'). split('\\t')\n",
    "        gender = line_list[4]\n",
    "        pclass = line_list[2]\n",
    "        if gender == 'male':\n",
    "            if pclass == '1':\n",
    "                mc1 += 1\n",
    "            elif pclass == '2':\n",
    "                mc2 += 1\n",
    "            else:\n",
    "                mc3 += 1\n",
    "        if gender == 'female':\n",
    "            if pclass == '1':\n",
    "                fc1 += 1\n",
    "            elif pclass == '2':\n",
    "                fc2 += 1\n",
    "            else:\n",
    "                fc3 += 1\n",
    "                \n",
    "print(mc1, mc2, mc3, fc1, fc2, fc3)\n",
    "\n",
    "fig, ax = plt.subplots()\n",
    "width = 0.35\n",
    "classes = [1, 2, 3]\n",
    "ax.bar([x + width/2 for x in classes], [fc1, fc2, fc3], width)\n",
    "ax.bar([x - width/2 for x in classes], [mc1, mc2, mc3], width)\n",
    "plt.show()"
   ]
  },
  {
   "cell_type": "code",
   "execution_count": null,
   "id": "7983b9b1",
   "metadata": {},
   "outputs": [],
   "source": []
  },
  {
   "cell_type": "markdown",
   "id": "074ec96c",
   "metadata": {},
   "source": [
    "# OOP"
   ]
  },
  {
   "cell_type": "markdown",
   "id": "f3a096a0",
   "metadata": {},
   "source": [
    "### Model GeneOntology"
   ]
  },
  {
   "cell_type": "code",
   "execution_count": null,
   "id": "e381a840",
   "metadata": {
    "pycharm": {
     "is_executing": true
    }
   },
   "outputs": [],
   "source": [
    "class Term:\n",
    "    def __init__(self, name):\n",
    "        self.name = name\n",
    "        self.annotated = []\n",
    "        self.descendants = []\n",
    "\n",
    "    def __str__(self):\n",
    "        genes = ', '.join(self.get_annotations())\n",
    "        return f'Term {self.name} - Annotated: {genes}'\n",
    "\n",
    "    def add_descendant(self, node):\n",
    "        if isinstance(node, Term):\n",
    "            self.descendants.append(node)\n",
    "\n",
    "    def add_annotation(self, gene):\n",
    "        self.annotated.append(gene)\n",
    "\n",
    "    def get_annotations(self):\n",
    "        all_annotated_genes = self.annotated\n",
    "        if len(self.descendants) > 0:\n",
    "            for descendant in self.descendants:\n",
    "                all_annotated_genes += descendant.get_annotations()\n",
    "        return list(set(all_annotated_genes))\n"
   ]
  },
  {
   "cell_type": "code",
   "execution_count": 25,
   "id": "32a31f3c",
   "metadata": {},
   "outputs": [
    {
     "name": "stdout",
     "output_type": "stream",
     "text": [
      "Term Metabolic Process - Annotated: GeneZ, GeneW, GeneY, GeneX\n",
      "Term Organic Substance Metabolic - Annotated: GeneY, GeneW\n"
     ]
    }
   ],
   "source": [
    "OO1 = Term('Organic Substance Biosynthetic')\n",
    "OO2 = Term('Carbohydrate Metabolic Process')\n",
    "OO3 = Term('Small Molecule Metabolic Process')\n",
    "OO4 = Term('Primary Metabolic Process')\n",
    "OO5 = Term('Organic Substance Metabolic')\n",
    "OO6 = Term('Biosynthetic Process')\n",
    "root = Term('Metabolic Process')\n",
    "\n",
    "OO4.add_descendant(OO2)\n",
    "OO5.add_descendant(OO2)\n",
    "OO5.add_descendant(OO1)\n",
    "OO6.add_descendant(OO1)\n",
    "root.add_descendant(OO3)\n",
    "root.add_descendant(OO4)\n",
    "root.add_descendant(OO5)\n",
    "root.add_descendant(OO6)\n",
    "\n",
    "OO4.add_annotation('GeneX')\n",
    "OO5.add_annotation('GeneY')\n",
    "OO6.add_annotation('GeneZ')\n",
    "OO5.add_annotation('GeneW')\n",
    "\n",
    "print(root)\n",
    "print(OO5)"
   ]
  },
  {
   "cell_type": "code",
   "execution_count": null,
   "id": "925c8c7a",
   "metadata": {},
   "outputs": [],
   "source": []
  },
  {
   "cell_type": "code",
   "execution_count": null,
   "id": "5f14b78b",
   "metadata": {},
   "outputs": [],
   "source": []
  },
  {
   "cell_type": "code",
   "execution_count": null,
   "id": "3ea53b09",
   "metadata": {},
   "outputs": [],
   "source": []
  },
  {
   "cell_type": "code",
   "execution_count": null,
   "id": "771aa713",
   "metadata": {},
   "outputs": [],
   "source": []
  }
 ],
 "metadata": {
  "kernelspec": {
   "display_name": "Python 3 (ipykernel)",
   "language": "python",
   "name": "python3"
  },
  "language_info": {
   "codemirror_mode": {
    "name": "ipython",
    "version": 3
   },
   "file_extension": ".py",
   "mimetype": "text/x-python",
   "name": "python",
   "nbconvert_exporter": "python",
   "pygments_lexer": "ipython3",
   "version": "3.10.6"
  }
 },
 "nbformat": 4,
 "nbformat_minor": 5
}

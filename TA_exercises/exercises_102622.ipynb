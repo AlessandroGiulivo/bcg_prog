{
 "cells": [
  {
   "cell_type": "markdown",
   "id": "d2cd2dda",
   "metadata": {},
   "source": [
    "# Programming Exercises 10.26.22\n",
    "<br>"
   ]
  },
  {
   "cell_type": "markdown",
   "id": "042ebe21",
   "metadata": {},
   "source": [
    "## Exercise 1.\n",
    "Consider 100 randomly mutated sequences. Index them from 0 to 99.<br>\n",
    "Select only those with at least **2 deletions** and **GC% > 0.45** using higher order functions.<br><br>\n",
    "*Return their index and the GC% value.*<br><br><br>"
   ]
  },
  {
   "cell_type": "code",
   "execution_count": 1,
   "id": "565fbec3",
   "metadata": {},
   "outputs": [],
   "source": [
    "# Importing required functions\n",
    "\n",
    "import random as r\n",
    "\n",
    "\n",
    "def random_human_dna():\n",
    "    '''This function takes no arguments.\n",
    "    When called, it returns a random human DNA string of length between 5 and 50 nt'''\n",
    "    random_dna_string = \"\".join(r.choices([\"A\", \"C\", \"G\", \"T\"],\n",
    "                                            weights = [29, 21, 21, 29],\n",
    "                                            k = r.randint(5, 50)))\n",
    "    return random_dna_string\n",
    "\n",
    "\n",
    "def mut(seq):\n",
    "    '''This function takes as input a DNA sequence `seq`.\n",
    "    It returns the DNA string containing three random mutations in three random positions:\n",
    "    either substitution, insertion (shown in lowercase letters) or deletion (marked with a dash)'''\n",
    "    for i in range(3):\n",
    "        # generating a single mutation\n",
    "        mut_pos = r.randint(0, len(seq) - 1)\n",
    "        mut_type = r.randint(0, 2)\n",
    "        if mut_type == 0:\n",
    "            # substitution\n",
    "            replacement = r.choice([\"a\", \"c\", \"g\", \"t\"])\n",
    "            seq = seq[:mut_pos] + replacement + seq[mut_pos + 1:]\n",
    "        elif mut_type == 1:\n",
    "            # insertion\n",
    "            inserted_elem = r.choice([\"a\", \"c\", \"g\", \"t\"])\n",
    "            seq= seq[:mut_pos] + inserted_elem + seq[mut_pos:]\n",
    "        else:\n",
    "            # deletion\n",
    "            seq = seq[:mut_pos] + \"-\" + seq[mut_pos + 1:]\n",
    "    return seq"
   ]
  },
  {
   "cell_type": "markdown",
   "id": "e871ce29",
   "metadata": {},
   "source": [
    "<br><br><br>"
   ]
  },
  {
   "cell_type": "code",
   "execution_count": 2,
   "id": "90cbc982",
   "metadata": {},
   "outputs": [],
   "source": [
    "# Defining some functions to check whether a DNA sequence has at least 2 deletions and a GC% higher than 45%\n",
    "\n",
    "\n",
    "def dels(seq):\n",
    "    '''This function takes as input a DNA sequence `seq`.\n",
    "    \n",
    "    It returns the same DNA sequence if it contains at least two deletions (dashes);\n",
    "    Otherwise, it returns an empty string\n",
    "    '''\n",
    "    count = 0\n",
    "    for nuc in seq:\n",
    "        if nuc == '-':\n",
    "            count += 1\n",
    "    if count >= 2:\n",
    "        return seq\n",
    "    else:\n",
    "        return ''\n",
    "\n",
    "def gc(seq):\n",
    "    '''This function takes as input a DNA sequence `seq`.\n",
    "    If it is non-empty, it returns the GC% content of the sequence.\n",
    "    '''\n",
    "    if len(seq) > 0:\n",
    "        gc_count = 0\n",
    "        dash_count = 0\n",
    "        for c in seq:\n",
    "            if c == 'G' or c == 'C':\n",
    "                gc_count += 1\n",
    "            elif c == '-':\n",
    "                dash_count += 1\n",
    "        return round(gc_count/(len(seq) - dash_count), 3)\n",
    "    \n",
    "def checkgc(seq):\n",
    "    '''This function takes as input a DNA sequence `seq`.\n",
    "    If calls the `gc` function in order to compute its GC%.\n",
    "    If the GC% is higher than 45%, it returns the same DNA sequence.\n",
    "    Otherwise, it returns an empty string.\n",
    "    '''\n",
    "    if len(seq) > 0 and gc(seq) > 0.45:\n",
    "        return seq\n",
    "    else:\n",
    "        return ''"
   ]
  },
  {
   "cell_type": "markdown",
   "id": "ceae3b98",
   "metadata": {},
   "source": [
    "<br><br><br>"
   ]
  },
  {
   "cell_type": "code",
   "execution_count": 3,
   "id": "fe7945cb",
   "metadata": {},
   "outputs": [
    {
     "name": "stdout",
     "output_type": "stream",
     "text": [
      "\n",
      "DNA Sequence:\t\tACTGGAACTAGACGAAGTCGGATGGGGGG\n",
      "Mutated Sequence:\tACTGGAACTAGA-GAAGTCGGA-GGGGG-\n",
      "\n",
      "\t\t\tIndex: 37\tGC%: 0.577\n",
      " ───────────────────────────────────────────────────────────────────────────\n",
      "\n",
      "DNA Sequence:\t\tGAGGTAACAGGTATCCAGTCACAG\n",
      "Mutated Sequence:\tG-GGTAACAGGTATtCAGT-ACAG\n",
      "\n",
      "\t\t\tIndex: 39\tGC%: 0.455\n",
      " ───────────────────────────────────────────────────────────────────────────\n",
      "\n",
      "DNA Sequence:\t\tTATAAGAGACCGTTTACGCGGGATTGTGAGATCGCCG\n",
      "Mutated Sequence:\tTATAA-AGACCGTTTACGC-GGATTGTGAGATCcGCCG\n",
      "\n",
      "\t\t\tIndex: 64\tGC%: 0.472\n",
      " ───────────────────────────────────────────────────────────────────────────\n",
      "\n",
      "DNA Sequence:\t\tGGGGCTTTCGTTCGGGAGACCAGGGCGCATCGC\n",
      "Mutated Sequence:\t-GGGCTTTCGcTCGGGAGACCAGGGC-CATCGC\n",
      "\n",
      "\t\t\tIndex: 89\tGC%: 0.677\n",
      " ───────────────────────────────────────────────────────────────────────────\n"
     ]
    }
   ],
   "source": [
    "# Performing the task\n",
    "\n",
    "l = []  \n",
    "for i in range(100):\n",
    "    dna_seq = random_human_dna()\n",
    "    mut_sequence = mut(dna_seq)\n",
    "    l.append(mut_sequence)\n",
    "    l = list(map(dels, l))\n",
    "    l = list(map(checkgc, l))\n",
    "    if len(l[i]) > 0:\n",
    "        print(f'''\\nDNA Sequence:\\t\\t{dna_seq}\n",
    "Mutated Sequence:\\t{mut_sequence}\\n\n",
    "\\t\\t\\tIndex: {i}\\tGC%: {gc(mut_sequence)}\\n''', '─' * 75)"
   ]
  }
 ],
 "metadata": {
  "kernelspec": {
   "display_name": "Python 3 (ipykernel)",
   "language": "python",
   "name": "python3"
  },
  "language_info": {
   "codemirror_mode": {
    "name": "ipython",
    "version": 3
   },
   "file_extension": ".py",
   "mimetype": "text/x-python",
   "name": "python",
   "nbconvert_exporter": "python",
   "pygments_lexer": "ipython3",
   "version": "3.10.6"
  }
 },
 "nbformat": 4,
 "nbformat_minor": 5
}

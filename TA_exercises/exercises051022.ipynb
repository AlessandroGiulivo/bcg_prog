{
 "cells": [
  {
   "cell_type": "markdown",
   "id": "ed115cd1",
   "metadata": {},
   "source": [
    "# Exercises 05.10.22"
   ]
  },
  {
   "cell_type": "markdown",
   "id": "98fde9c3",
   "metadata": {},
   "source": [
    "###### 1.\n",
    "Write a function that returns the product of all the numbers of a list"
   ]
  },
  {
   "cell_type": "code",
   "execution_count": 9,
   "id": "c218975b",
   "metadata": {},
   "outputs": [
    {
     "name": "stdout",
     "output_type": "stream",
     "text": [
      "24\n"
     ]
    }
   ],
   "source": [
    "l = [1, 2, 3, 4]\n",
    "\n",
    "m = 1\n",
    "\n",
    "for i in l:\n",
    "    m = m * i\n",
    "print(m)"
   ]
  },
  {
   "cell_type": "markdown",
   "id": "32045d99",
   "metadata": {},
   "source": [
    "###### 2.\n",
    "Given two lists, create a third one by picking even-indexed elements from the first one and odd-indexed elements from the second one"
   ]
  },
  {
   "cell_type": "code",
   "execution_count": 10,
   "id": "24c5ac93",
   "metadata": {},
   "outputs": [
    {
     "name": "stdout",
     "output_type": "stream",
     "text": [
      "[1, 'b', 3, 'd', 5]\n"
     ]
    }
   ],
   "source": [
    "l1 = [1, 2, 3, 4, 5]\n",
    "l2 = ['a', 'b', 'c', 'd', 'e']\n",
    "\n",
    "l3 = []\n",
    "\n",
    "for i in range(min(len(l1), len(l2))):\n",
    "    if i % 2 == 0:\n",
    "        l3.append(l1[i])\n",
    "    else:\n",
    "        l3.append(l2[i])\n",
    "        \n",
    "print(l3)"
   ]
  },
  {
   "cell_type": "markdown",
   "id": "7485b57d",
   "metadata": {},
   "source": [
    "###### 3.\n",
    "Given two lists:<br>\n",
    "* Compute the number of common elements;\n",
    "* Build a list with common elements;\n",
    "* Build a list with the elements contained in list1 but not in list2"
   ]
  },
  {
   "cell_type": "code",
   "execution_count": 11,
   "id": "8e27fdb5",
   "metadata": {},
   "outputs": [
    {
     "name": "stdout",
     "output_type": "stream",
     "text": [
      "Number of common elements: 3\n",
      "List of common elements: [3, 4, 5]\n",
      "List of elements contained in l1 but not in l2: [1, 2]\n"
     ]
    }
   ],
   "source": [
    "l1 = [1, 2, 3, 4, 5]\n",
    "l2 = [3, 4, 5, 5, 6, 7, 8, 9]\n",
    "\n",
    "s1 = set(l1)\n",
    "s2 = set(l2)\n",
    "\n",
    "intersection = list(s1 & s2)\n",
    "difference = list(s1 - s2)\n",
    "print('Number of common elements:', len(intersection))\n",
    "print('List of common elements:', intersection)\n",
    "print('List of elements contained in l1 but not in l2:', difference)"
   ]
  },
  {
   "cell_type": "markdown",
   "id": "96ef1074",
   "metadata": {},
   "source": [
    "###### 4.\n",
    "Given a list of lists of integers, create two new lists containing:\n",
    "* Only the lists containing the number *10* and not any odd number\n",
    "* Only the lists with at least one odd number"
   ]
  },
  {
   "cell_type": "code",
   "execution_count": 15,
   "id": "8949fab4",
   "metadata": {},
   "outputs": [
    {
     "name": "stdout",
     "output_type": "stream",
     "text": [
      "[[2, 4, 6, 8, 10, 12]]\n",
      "[[1, 3, 5], [5, 10, 15]]\n"
     ]
    }
   ],
   "source": [
    "ll = [[1, 3, 5], [5, 10, 15], [4], [2, 4, 6, 8, 10, 12]]\n",
    "l1 = []\n",
    "l2 = []\n",
    "\n",
    "for i in ll:\n",
    "    if 10 in i:\n",
    "        for j in i:\n",
    "            isEven = True\n",
    "            if j % 2 != 0:\n",
    "                isEven = False\n",
    "        if isEven is True:\n",
    "            l1.append(i)\n",
    "    for k in i:\n",
    "        if k % 2 != 0:\n",
    "            l2.append(i)\n",
    "            break\n",
    "\n",
    "print(l1)\n",
    "print(l2)"
   ]
  },
  {
   "cell_type": "markdown",
   "id": "d86375a2",
   "metadata": {},
   "source": [
    "###### 5.\n",
    "Consider a database that stores drugs and protein targets in a list; if a protein p1 is a target of a drug d1, then a tuple (d1, p1) is inserted in the list"
   ]
  },
  {
   "cell_type": "code",
   "execution_count": 19,
   "id": "7992907d",
   "metadata": {},
   "outputs": [],
   "source": [
    "drug2target = [\n",
    "    (\"Ace\", \"P35354\"),\n",
    "    (\"Ace\", \"P23219\"),\n",
    "    (\"Dico\", \"P23219\"),\n",
    "    (\"Dico\", \"P33261\"),\n",
    "    (\"Cita\", \"P05177\"),\n",
    "    (\"Cita\", \"P33261\")\n",
    "]"
   ]
  },
  {
   "cell_type": "markdown",
   "id": "8ec19926",
   "metadata": {},
   "source": [
    "Compute the total number of distinct drugs and distinct proteins in the database"
   ]
  },
  {
   "cell_type": "code",
   "execution_count": 21,
   "id": "c640926c",
   "metadata": {},
   "outputs": [
    {
     "name": "stdout",
     "output_type": "stream",
     "text": [
      "drug: {'Ace', 'Dico', 'Cita'}\n",
      "proteins: {'P23219', 'P35354', 'P33261', 'P05177'}\n"
     ]
    }
   ],
   "source": [
    "set_drugs = set()\n",
    "set_proteins = set()\n",
    "\n",
    "for drug2prot in drug2target:\n",
    "    drug, prot = drug2prot\n",
    "    set_drugs.add(drug)\n",
    "    set_proteins.add(prot)\n",
    "    \n",
    "print('drug:', set_drugs)\n",
    "print('proteins:', set_proteins)"
   ]
  },
  {
   "cell_type": "markdown",
   "id": "fedff73b",
   "metadata": {},
   "source": [
    "Transfer the database in a python dictionary where the keys are drugs and the values are the lists of targets"
   ]
  },
  {
   "cell_type": "code",
   "execution_count": 27,
   "id": "3b063f9a",
   "metadata": {},
   "outputs": [
    {
     "data": {
      "text/plain": [
       "{'Ace': ['P35354', 'P23219'],\n",
       " 'Dico': ['P23219', 'P33261'],\n",
       " 'Cita': ['P05177', 'P33261']}"
      ]
     },
     "execution_count": 27,
     "metadata": {},
     "output_type": "execute_result"
    }
   ],
   "source": [
    "drug_dict = dict.fromkeys(set_drugs)\n",
    "for drug2prot in drug2target:\n",
    "    drug, prot = drug2prot\n",
    "    if drug_dict[drug] is None:\n",
    "        drug_dict[drug] = [prot]\n",
    "    else:\n",
    "        drug_dict[drug].append(prot)\n",
    "drug_dict"
   ]
  },
  {
   "cell_type": "markdown",
   "id": "5e6434e3",
   "metadata": {},
   "source": [
    "###### 6.\n",
    "Write a program that reads a string and reverses the words in it"
   ]
  },
  {
   "cell_type": "code",
   "execution_count": 30,
   "id": "055eee8f",
   "metadata": {},
   "outputs": [
    {
     "name": "stdout",
     "output_type": "stream",
     "text": [
      "fall to time best the knows rain Good\n"
     ]
    }
   ],
   "source": [
    "s = \"Good rain knows the best time to fall\"\n",
    "\n",
    "rs = \" \".join(s.split()[::-1])\n",
    "print(rs)"
   ]
  },
  {
   "cell_type": "markdown",
   "id": "751dabed",
   "metadata": {},
   "source": [
    "##### 7.\n",
    "Write a program that takes a **DNA** sequence and computes its **GC content** *(% of Gs and Cs)*"
   ]
  },
  {
   "cell_type": "code",
   "execution_count": 34,
   "id": "9a6f540d",
   "metadata": {},
   "outputs": [
    {
     "name": "stdout",
     "output_type": "stream",
     "text": [
      "GC Content of the DNA sequence: 0.52381\n"
     ]
    }
   ],
   "source": [
    "dnaseq = 'AGCTGCACGACTCACATACGT'\n",
    "\n",
    "count = 0\n",
    "for c in dnaseq:\n",
    "    if c == 'C' or c == 'G':\n",
    "        count += 1\n",
    "gc = round(count / len(dnaseq), 5)\n",
    "print('GC Content of the DNA sequence:', gc)"
   ]
  }
 ],
 "metadata": {
  "kernelspec": {
   "display_name": "Python 3 (ipykernel)",
   "language": "python",
   "name": "python3"
  },
  "language_info": {
   "codemirror_mode": {
    "name": "ipython",
    "version": 3
   },
   "file_extension": ".py",
   "mimetype": "text/x-python",
   "name": "python",
   "nbconvert_exporter": "python",
   "pygments_lexer": "ipython3",
   "version": "3.10.6"
  }
 },
 "nbformat": 4,
 "nbformat_minor": 5
}

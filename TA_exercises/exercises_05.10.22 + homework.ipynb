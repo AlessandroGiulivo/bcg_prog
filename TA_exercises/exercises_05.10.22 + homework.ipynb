{
 "cells": [
  {
   "cell_type": "markdown",
   "metadata": {},
   "source": [
    "# Data Structures and Loops"
   ]
  },
  {
   "cell_type": "code",
   "execution_count": 1,
   "metadata": {
    "collapsed": true
   },
   "outputs": [
    {
     "name": "stdout",
     "output_type": "stream",
     "text": [
      "24\n"
     ]
    }
   ],
   "source": [
    "# write a function that returns the product of all numbers of a list\n",
    "l = [1, 2, 3, 4]\n",
    "\n",
    "m = 1\n",
    "for i in l:\n",
    "    m = m * i\n",
    "print(m)"
   ]
  },
  {
   "cell_type": "code",
   "execution_count": 2,
   "metadata": {
    "pycharm": {
     "name": "#%%\n"
    }
   },
   "outputs": [
    {
     "name": "stdout",
     "output_type": "stream",
     "text": [
      "[1, 'b', 3, 'd', 5]\n"
     ]
    }
   ],
   "source": [
    "# given two lists, create a third one by picking even-indexed elements from the first and odd-indexed elements from the second\n",
    "l1 = [1, 2, 3, 4, 5]\n",
    "l2 = ['a', 'b', 'c', 'd', 'e']\n",
    "l3 = []\n",
    "#[1, 'b', 3, 'd', 5]\n",
    "\n",
    "for i in range(min(len(l1), len(l2))):\n",
    "    if i % 2 == 0:\n",
    "        item = l1[i]\n",
    "    else:\n",
    "        item = l2[i]\n",
    "    l3.append(item)\n",
    "print(l3)"
   ]
  },
  {
   "cell_type": "code",
   "execution_count": 7,
   "metadata": {
    "pycharm": {
     "name": "#%%\n"
    }
   },
   "outputs": [
    {
     "name": "stdout",
     "output_type": "stream",
     "text": [
      "3 [3, 4, 5]\n",
      "[1, 2]\n"
     ]
    }
   ],
   "source": [
    "# given two list:\n",
    "# 1. compute the number of common elements\n",
    "# 2. build a list with common elements\n",
    "# 3. build a list with elements contained in list1 but not in list 2\n",
    "l1 = [1,2,3,4,5]\n",
    "l2 = [3,4,5,5,6,7,8,9]\n",
    "\n",
    "s1 = set(l1)\n",
    "s2 = set(l2)\n",
    "\n",
    "result = list(s1 & s2)\n",
    "print(len(result), result)\n",
    "print(list(s1 - s2))"
   ]
  },
  {
   "cell_type": "code",
   "execution_count": 8,
   "metadata": {
    "pycharm": {
     "name": "#%%\n"
    }
   },
   "outputs": [
    {
     "name": "stdout",
     "output_type": "stream",
     "text": [
      "[[2, 4, 6, 8, 10, 12]]\n",
      "[[1, 3, 5], [5, 10, 15]]\n"
     ]
    }
   ],
   "source": [
    "# given a list of lists of integers, create two new lists containing:\n",
    "# 1. only the lists containing the number 10 and not any odd number (both conditions must hold true)\n",
    "# 2. only the lists with at least an odd number\n",
    "\n",
    "ll = [[1,3,5], [5,10,15], [4], [2,4,6,8,10,12]]\n",
    "l1 = []\n",
    "l2 = []\n",
    "\n",
    "for i in ll:\n",
    "    if 10 in i:\n",
    "        even = True\n",
    "        for j in i:\n",
    "            if j % 2 != 0:\n",
    "                even = False\n",
    "        if even is True:\n",
    "            l1.append(i)\n",
    "    for k in i:\n",
    "        if k % 2 != 0:\n",
    "            l2.append(i)\n",
    "            break\n",
    "print(l1)\n",
    "print(l2)"
   ]
  },
  {
   "cell_type": "code",
   "execution_count": 2,
   "metadata": {
    "pycharm": {
     "name": "#%%\n"
    }
   },
   "outputs": [
    {
     "name": "stdout",
     "output_type": "stream",
     "text": [
      "distinct drugs 3 : {'Cita', 'Ace', 'Dico'}\n",
      "distinct proteins 4 : {'P23219', 'P05177', 'P33261', 'P35354'}\n"
     ]
    },
    {
     "data": {
      "text/plain": [
       "{'Cita': ['P05177', 'P33261'],\n",
       " 'Ace': ['P35354', 'P23219'],\n",
       " 'Dico': ['P23219', 'P33261']}"
      ]
     },
     "execution_count": 2,
     "metadata": {},
     "output_type": "execute_result"
    }
   ],
   "source": [
    "# Consider a database that stores drugs and protein targets in alist; if a protein p1 is a target of a drug d1, then a tuple (d1, p1) is inserted in the lsit\n",
    "drug2target = [\n",
    "    (\"Ace\", \"P35354\"),\n",
    "    (\"Ace\", \"P23219\"),\n",
    "    (\"Dico\", \"P23219\"),\n",
    "    (\"Dico\", \"P33261\"),\n",
    "    (\"Cita\", \"P05177\"),\n",
    "    (\"Cita\", \"P33261\")\n",
    "]\n",
    "# compute the total number of distinct drugs and distinct proteins in thew database\n",
    "set_drugs = set()\n",
    "set_proteins = set()\n",
    "for drug2prot in drug2target:\n",
    "    drug, prot = drug2prot\n",
    "    set_drugs.add(drug)\n",
    "    set_proteins.add(prot)\n",
    "print(\"distinct drugs\", len(set_drugs),\":\", set_drugs)\n",
    "print(\"distinct proteins\", len(set_proteins), \":\", set_proteins)\n",
    "# transform the database in a python dictionary where the keys are the drugs and the values are the list of targets\n",
    "drug_dictionary = dict.fromkeys(set_drugs)\n",
    "for drug2prot in drug2target:\n",
    "    drug, prot = drug2prot\n",
    "    if drug_dictionary[drug] is None:\n",
    "        drug_dictionary[drug] = [prot]\n",
    "    else:\n",
    "        drug_dictionary[drug].append(prot)\n",
    "drug_dictionary"
   ]
  },
  {
   "cell_type": "markdown",
   "metadata": {},
   "source": [
    "### Homework"
   ]
  },
  {
   "cell_type": "code",
   "execution_count": 23,
   "metadata": {
    "pycharm": {
     "name": "#%%\n"
    }
   },
   "outputs": [],
   "source": [
    "# using the drug2target data structure, compute, for each pair of drugs, the number of common targets, and create a list:\n",
    "# e.g., common_targets = [(drug1, drug2, number_of_targets_common_to_both), ...]\n"
   ]
  },
  {
   "cell_type": "markdown",
   "metadata": {},
   "source": [
    "# Zip function"
   ]
  },
  {
   "cell_type": "code",
   "execution_count": 13,
   "metadata": {
    "pycharm": {
     "name": "#%%\n"
    }
   },
   "outputs": [
    {
     "name": "stdout",
     "output_type": "stream",
     "text": [
      "(1, 3)\n",
      "(2, 4)\n",
      "(3, 5)\n",
      "(4, 5)\n",
      "(5, 6)\n"
     ]
    }
   ],
   "source": [
    "# zip function\n",
    "l1 = [1,2,3,4,5]\n",
    "l2 = [3,4,5,5,6,7,8,9]\n",
    "list(zip(l1,l2))\n",
    "\n",
    "for i in zip(l1, l2):\n",
    "    print(i)"
   ]
  },
  {
   "cell_type": "markdown",
   "metadata": {},
   "source": [
    "### Homework"
   ]
  },
  {
   "cell_type": "code",
   "execution_count": null,
   "metadata": {
    "pycharm": {
     "name": "#%%\n"
    }
   },
   "outputs": [],
   "source": [
    "# write a program that, given two input lists, replicates the behaviour of the function \"zip\"\n",
    "l1 = [1,2,3,4,5]\n",
    "l2 = [3,4,5,5,6,7,8,9]\n"
   ]
  },
  {
   "cell_type": "markdown",
   "metadata": {},
   "source": [
    "# Strings"
   ]
  },
  {
   "cell_type": "code",
   "execution_count": 33,
   "metadata": {
    "pycharm": {
     "name": "#%%\n"
    }
   },
   "outputs": [
    {
     "data": {
      "text/plain": [
       "'fall to time best the knows rain Good'"
      ]
     },
     "execution_count": 33,
     "metadata": {},
     "output_type": "execute_result"
    }
   ],
   "source": [
    "# write a program that reads a string and reverses the words in it\n",
    "s = \"Good rain knows the best time to fall\"\n",
    "l = s.split(\" \")\n",
    "reverse = l[::-1]\n",
    "\" \".join(reverse)"
   ]
  },
  {
   "cell_type": "code",
   "execution_count": 3,
   "metadata": {
    "pycharm": {
     "name": "#%%\n"
    }
   },
   "outputs": [
    {
     "data": {
      "text/plain": [
       "0.44"
      ]
     },
     "execution_count": 3,
     "metadata": {},
     "output_type": "execute_result"
    }
   ],
   "source": [
    "# write a program that takes a DNA sequence and computes its GC content (% of Gs and Cs)\n",
    "seq = \"ATTTTTTGCAGGCCTACGATCTACG\"\n",
    "(seq.count(\"C\") + seq.count(\"G\")) / len(seq)"
   ]
  },
  {
   "cell_type": "markdown",
   "metadata": {},
   "source": [
    "### Homework"
   ]
  },
  {
   "cell_type": "code",
   "execution_count": null,
   "metadata": {
    "pycharm": {
     "name": "#%%\n"
    }
   },
   "outputs": [],
   "source": [
    "# Rewrite the above program using a for loop, without the count function.\n"
   ]
  },
  {
   "cell_type": "code",
   "execution_count": null,
   "metadata": {
    "pycharm": {
     "name": "#%%\n"
    }
   },
   "outputs": [],
   "source": [
    "# write a program that counts the number of each character in a string\n",
    "# example: s = \"google.com\"\n",
    "# result: g -> 2 times, o -> 3 times, l -> 1 time, ....\n"
   ]
  },
  {
   "cell_type": "markdown",
   "metadata": {},
   "source": [
    "# Regular Expressions"
   ]
  },
  {
   "cell_type": "code",
   "execution_count": 22,
   "metadata": {
    "pycharm": {
     "name": "#%%\n"
    }
   },
   "outputs": [
    {
     "name": "stdout",
     "output_type": "stream",
     "text": [
      "strings matching the regular expression ['ac', 'abc', 'a', 'ab', 'abb', 'cab', '009ab', '21a', 'baobab']\n",
      "strings NOT matching the regular expression ['cd']\n"
     ]
    }
   ],
   "source": [
    "# write a program that matches a string that has an \"a\" followed by zero or more \"b\"s.\n",
    "import re\n",
    "\n",
    "test_strings = [\"ac\", \"abc\", \"a\", \"ab\", \"abb\", \"cab\", \"009ab\", \"21a\", \"baobab\", \"cd\"]\n",
    "matching_strings = []\n",
    "not_matching_strings = []\n",
    "pattern = r'ab*' # remember to use python's \"raw strings\" (i.e., those strings where the letter \"r\" precedes the single/double quotes)\n",
    "for s in test_strings:\n",
    "    result = re.search(pattern, s)\n",
    "    if result is not None:\n",
    "        matching_strings.append(s)\n",
    "    else:\n",
    "        not_matching_strings.append(s)\n",
    "print(\"strings matching the regular expression\", matching_strings)\n",
    "print(\"strings NOT matching the regular expression\", not_matching_strings)"
   ]
  },
  {
   "cell_type": "markdown",
   "metadata": {},
   "source": [
    "Note: \"re.search\" searches the regular expression anywhere in the string -> any input string containing an \"a\" at any position matches the regular expression. Try the following exercise to understand how the interpretation regular expression changes depending on the function used."
   ]
  },
  {
   "cell_type": "markdown",
   "metadata": {
    "pycharm": {
     "name": "#%% md\n"
    }
   },
   "source": [
    "### Homework"
   ]
  },
  {
   "cell_type": "code",
   "execution_count": null,
   "metadata": {
    "pycharm": {
     "name": "#%%\n"
    }
   },
   "outputs": [],
   "source": [
    "# Now try the same regular expression with the other two regex functions (re.match and re.fullmatch).\n",
    "# What do you notice?\n",
    "# Are there different ways to obtain the same behaviour of the last two functions using just \"re.search\"?"
   ]
  }
 ],
 "metadata": {
  "kernelspec": {
   "display_name": "Python 3 (ipykernel)",
   "language": "python",
   "name": "python3"
  },
  "language_info": {
   "codemirror_mode": {
    "name": "ipython",
    "version": 3
   },
   "file_extension": ".py",
   "mimetype": "text/x-python",
   "name": "python",
   "nbconvert_exporter": "python",
   "pygments_lexer": "ipython3",
   "version": "3.10.6"
  }
 },
 "nbformat": 4,
 "nbformat_minor": 1
}
